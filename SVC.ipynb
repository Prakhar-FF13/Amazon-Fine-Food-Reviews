{
 "cells": [
  {
   "cell_type": "markdown",
   "metadata": {},
   "source": [
    "# Amazon Fine Food Reviews \n",
    "\n",
    "\n",
    "Data Source: https://www.kaggle.com/snap/amazon-fine-food-reviews\n",
    "\n",
    "The Amazon Fine Food Reviews dataset consists of reviews of fine foods from Amazon.<br>\n",
    "\n",
    "Number of reviews: 568,454<br>\n",
    "Number of users: 256,059<br>\n",
    "Number of products: 74,258<br>\n",
    "Timespan: Oct 1999 - Oct 2012<br>\n",
    "Number of Attributes/Columns in data: 10 \n",
    "\n",
    "Attribute Information:\n",
    "\n",
    "1. Id\n",
    "2. ProductId - unique identifier for the product\n",
    "3. UserId - unqiue identifier for the user\n",
    "4. ProfileName\n",
    "5. HelpfulnessNumerator - number of users who found the review helpful\n",
    "6. HelpfulnessDenominator - number of users who indicated whether they found the review helpful or not\n",
    "7. Score - rating between 1 and 5\n",
    "8. Time - timestamp for the review"
   ]
  },
  {
   "cell_type": "markdown",
   "metadata": {},
   "source": [
    "## Importing libraries and loading the dataset :\n",
    "* Cleaning and handling deduplication of data is already performed."
   ]
  },
  {
   "cell_type": "code",
   "execution_count": 19,
   "metadata": {},
   "outputs": [],
   "source": [
    "%matplotlib inline\n",
    "\n",
    "import sqlite3\n",
    "import pandas as pd\n",
    "import numpy as np\n",
    "import nltk\n",
    "import string\n",
    "import matplotlib.pyplot as plt\n",
    "import seaborn as sns\n",
    "from sklearn.feature_extraction.text import TfidfTransformer\n",
    "from sklearn.feature_extraction.text import TfidfVectorizer\n",
    "\n",
    "from sklearn.feature_extraction.text import CountVectorizer\n",
    "from sklearn.metrics import confusion_matrix\n",
    "from sklearn import metrics\n",
    "from sklearn.metrics import roc_curve, auc\n",
    "from nltk.stem.porter import PorterStemmer\n",
    "from sklearn.model_selection import train_test_split\n",
    "from sklearn.neighbors import KNeighborsClassifier\n",
    "from sklearn.metrics import accuracy_score\n",
    "from sklearn.metrics import roc_auc_score\n",
    "from sklearn.metrics import auc\n",
    "from sklearn.model_selection import cross_val_score\n",
    "from collections import Counter\n",
    "from sklearn.metrics import accuracy_score\n",
    "from sklearn import datasets, neighbors\n",
    "from sklearn.linear_model import LogisticRegression\n",
    "from sklearn.linear_model import SGDClassifier\n",
    "from sklearn.calibration import CalibratedClassifierCV\n",
    "from sklearn.svm import SVC\n",
    "from scipy import *\n",
    "from scipy.sparse import *\n",
    "from gensim.models import Word2Vec\n",
    "import warnings\n",
    "from tqdm import tqdm\n",
    "warnings.filterwarnings(\"ignore\")"
   ]
  },
  {
   "cell_type": "code",
   "execution_count": 2,
   "metadata": {},
   "outputs": [],
   "source": [
    "conn = sqlite3.connect('final.sqlite')"
   ]
  },
  {
   "cell_type": "code",
   "execution_count": 3,
   "metadata": {},
   "outputs": [
    {
     "data": {
      "text/html": [
       "<div>\n",
       "<style scoped>\n",
       "    .dataframe tbody tr th:only-of-type {\n",
       "        vertical-align: middle;\n",
       "    }\n",
       "\n",
       "    .dataframe tbody tr th {\n",
       "        vertical-align: top;\n",
       "    }\n",
       "\n",
       "    .dataframe thead th {\n",
       "        text-align: right;\n",
       "    }\n",
       "</style>\n",
       "<table border=\"1\" class=\"dataframe\">\n",
       "  <thead>\n",
       "    <tr style=\"text-align: right;\">\n",
       "      <th></th>\n",
       "      <th>index</th>\n",
       "      <th>Id</th>\n",
       "      <th>ProductId</th>\n",
       "      <th>UserId</th>\n",
       "      <th>ProfileName</th>\n",
       "      <th>HelpfulnessNumerator</th>\n",
       "      <th>HelpfulnessDenominator</th>\n",
       "      <th>Score</th>\n",
       "      <th>Time</th>\n",
       "      <th>Summary</th>\n",
       "      <th>Text</th>\n",
       "      <th>CleanedText</th>\n",
       "    </tr>\n",
       "  </thead>\n",
       "  <tbody>\n",
       "    <tr>\n",
       "      <th>0</th>\n",
       "      <td>138706</td>\n",
       "      <td>150524</td>\n",
       "      <td>0006641040</td>\n",
       "      <td>ACITT7DI6IDDL</td>\n",
       "      <td>shari zychinski</td>\n",
       "      <td>0</td>\n",
       "      <td>0</td>\n",
       "      <td>positive</td>\n",
       "      <td>939340800</td>\n",
       "      <td>EVERY book is educational</td>\n",
       "      <td>this witty little book makes my son laugh at l...</td>\n",
       "      <td>b'witti littl book make son laugh loud recit c...</td>\n",
       "    </tr>\n",
       "    <tr>\n",
       "      <th>1</th>\n",
       "      <td>138688</td>\n",
       "      <td>150506</td>\n",
       "      <td>0006641040</td>\n",
       "      <td>A2IW4PEEKO2R0U</td>\n",
       "      <td>Tracy</td>\n",
       "      <td>1</td>\n",
       "      <td>1</td>\n",
       "      <td>positive</td>\n",
       "      <td>1194739200</td>\n",
       "      <td>Love the book, miss the hard cover version</td>\n",
       "      <td>I grew up reading these Sendak books, and watc...</td>\n",
       "      <td>b'grew read sendak book watch realli rosi movi...</td>\n",
       "    </tr>\n",
       "  </tbody>\n",
       "</table>\n",
       "</div>"
      ],
      "text/plain": [
       "    index      Id   ProductId          UserId      ProfileName  \\\n",
       "0  138706  150524  0006641040   ACITT7DI6IDDL  shari zychinski   \n",
       "1  138688  150506  0006641040  A2IW4PEEKO2R0U            Tracy   \n",
       "\n",
       "   HelpfulnessNumerator  HelpfulnessDenominator     Score        Time  \\\n",
       "0                     0                       0  positive   939340800   \n",
       "1                     1                       1  positive  1194739200   \n",
       "\n",
       "                                      Summary  \\\n",
       "0                   EVERY book is educational   \n",
       "1  Love the book, miss the hard cover version   \n",
       "\n",
       "                                                Text  \\\n",
       "0  this witty little book makes my son laugh at l...   \n",
       "1  I grew up reading these Sendak books, and watc...   \n",
       "\n",
       "                                         CleanedText  \n",
       "0  b'witti littl book make son laugh loud recit c...  \n",
       "1  b'grew read sendak book watch realli rosi movi...  "
      ]
     },
     "execution_count": 3,
     "metadata": {},
     "output_type": "execute_result"
    }
   ],
   "source": [
    "data = pd.read_sql_query(\"\"\"\n",
    "SELECT *\n",
    "FROM Reviews\"\"\", conn)\n",
    "data.head(2)"
   ]
  },
  {
   "cell_type": "code",
   "execution_count": 4,
   "metadata": {},
   "outputs": [
    {
     "data": {
      "text/plain": [
       "(364171, 12)"
      ]
     },
     "execution_count": 4,
     "metadata": {},
     "output_type": "execute_result"
    }
   ],
   "source": [
    "data.shape"
   ]
  },
  {
   "cell_type": "markdown",
   "metadata": {},
   "source": [
    "## Sorting the DataFrame using Time Column:"
   ]
  },
  {
   "cell_type": "code",
   "execution_count": 4,
   "metadata": {},
   "outputs": [
    {
     "data": {
      "text/html": [
       "<div>\n",
       "<style scoped>\n",
       "    .dataframe tbody tr th:only-of-type {\n",
       "        vertical-align: middle;\n",
       "    }\n",
       "\n",
       "    .dataframe tbody tr th {\n",
       "        vertical-align: top;\n",
       "    }\n",
       "\n",
       "    .dataframe thead th {\n",
       "        text-align: right;\n",
       "    }\n",
       "</style>\n",
       "<table border=\"1\" class=\"dataframe\">\n",
       "  <thead>\n",
       "    <tr style=\"text-align: right;\">\n",
       "      <th></th>\n",
       "      <th>index</th>\n",
       "      <th>Id</th>\n",
       "      <th>ProductId</th>\n",
       "      <th>UserId</th>\n",
       "      <th>ProfileName</th>\n",
       "      <th>HelpfulnessNumerator</th>\n",
       "      <th>HelpfulnessDenominator</th>\n",
       "      <th>Score</th>\n",
       "      <th>Time</th>\n",
       "      <th>Summary</th>\n",
       "      <th>Text</th>\n",
       "      <th>CleanedText</th>\n",
       "    </tr>\n",
       "  </thead>\n",
       "  <tbody>\n",
       "    <tr>\n",
       "      <th>0</th>\n",
       "      <td>138706</td>\n",
       "      <td>150524</td>\n",
       "      <td>0006641040</td>\n",
       "      <td>ACITT7DI6IDDL</td>\n",
       "      <td>shari zychinski</td>\n",
       "      <td>0</td>\n",
       "      <td>0</td>\n",
       "      <td>positive</td>\n",
       "      <td>939340800</td>\n",
       "      <td>EVERY book is educational</td>\n",
       "      <td>this witty little book makes my son laugh at l...</td>\n",
       "      <td>b'witti littl book make son laugh loud recit c...</td>\n",
       "    </tr>\n",
       "    <tr>\n",
       "      <th>30</th>\n",
       "      <td>138683</td>\n",
       "      <td>150501</td>\n",
       "      <td>0006641040</td>\n",
       "      <td>AJ46FKXOVC7NR</td>\n",
       "      <td>Nicholas A Mesiano</td>\n",
       "      <td>2</td>\n",
       "      <td>2</td>\n",
       "      <td>positive</td>\n",
       "      <td>940809600</td>\n",
       "      <td>This whole series is great way to spend time w...</td>\n",
       "      <td>I can remember seeing the show when it aired o...</td>\n",
       "      <td>b'rememb see show air televis year ago child s...</td>\n",
       "    </tr>\n",
       "  </tbody>\n",
       "</table>\n",
       "</div>"
      ],
      "text/plain": [
       "     index      Id   ProductId         UserId         ProfileName  \\\n",
       "0   138706  150524  0006641040  ACITT7DI6IDDL     shari zychinski   \n",
       "30  138683  150501  0006641040  AJ46FKXOVC7NR  Nicholas A Mesiano   \n",
       "\n",
       "    HelpfulnessNumerator  HelpfulnessDenominator     Score       Time  \\\n",
       "0                      0                       0  positive  939340800   \n",
       "30                     2                       2  positive  940809600   \n",
       "\n",
       "                                              Summary  \\\n",
       "0                           EVERY book is educational   \n",
       "30  This whole series is great way to spend time w...   \n",
       "\n",
       "                                                 Text  \\\n",
       "0   this witty little book makes my son laugh at l...   \n",
       "30  I can remember seeing the show when it aired o...   \n",
       "\n",
       "                                          CleanedText  \n",
       "0   b'witti littl book make son laugh loud recit c...  \n",
       "30  b'rememb see show air televis year ago child s...  "
      ]
     },
     "execution_count": 4,
     "metadata": {},
     "output_type": "execute_result"
    }
   ],
   "source": [
    "data = data.sort_values(by='Time')\n",
    "data.head(2)"
   ]
  },
  {
   "cell_type": "markdown",
   "metadata": {},
   "source": [
    "## Preparing the data :\n",
    "\n",
    "> Seperating training data and values to predict."
   ]
  },
  {
   "cell_type": "code",
   "execution_count": 5,
   "metadata": {},
   "outputs": [],
   "source": [
    "# Getting the column names\n",
    "cols = data.columns\n",
    "cols = cols[cols != 'Score']\n",
    "# Train data excluding the score column\n",
    "X = data[cols]\n",
    "# Score coumn\n",
    "Y = data['Score']\n",
    "# Maping positive as 1 and negative as 0\n",
    "mapping_dict = {'positive': 1, 'negative': 0}\n",
    "labels = ['negative', 'positive']\n",
    "# Mapping is done as some metrics dont work with string so a value of 1 or 0 is given to positive or negative.\n",
    "Y = Y.map(mapping_dict)"
   ]
  },
  {
   "cell_type": "code",
   "execution_count": 6,
   "metadata": {},
   "outputs": [
    {
     "name": "stdout",
     "output_type": "stream",
     "text": [
      "(60000, 11)     (60000,)\n",
      "(20000, 11)     (20000,)\n",
      "(20000, 11)     (20000,)\n"
     ]
    }
   ],
   "source": [
    "# Getting data :\n",
    "X_train = X[:80000]\n",
    "X_cv = X_train[60000:80000]\n",
    "X_train = X_train[:60000]\n",
    "X_test =  X[80000:100000]\n",
    "\n",
    "\n",
    "y_train = Y[:80000]\n",
    "y_cv = y_train[60000:80000]\n",
    "y_train = y_train[:60000]\n",
    "y_test =  Y[80000:100000]\n",
    "\n",
    "print(X_train.shape, \"   \", y_train.shape)\n",
    "print(X_cv.shape, \"   \", y_cv.shape)\n",
    "print(X_test.shape, \"   \", y_test.shape)"
   ]
  },
  {
   "cell_type": "markdown",
   "metadata": {},
   "source": [
    "## SGDClassifier with Hingle Loss or SVC with Linear Kernel :"
   ]
  },
  {
   "cell_type": "code",
   "execution_count": 17,
   "metadata": {},
   "outputs": [],
   "source": [
    "def feat_imp(vect, coefs):\n",
    "    df = pd.DataFrame(data = coefs.reshape(-1,1), index=vect.get_feature_names())\n",
    "    df_neg = df.sort_values(by = 0).head(10)\n",
    "    df_pos = df.sort_values(by = 0, ascending=False).head(10)\n",
    "    print(\"Negative Features : \")\n",
    "    print(df_neg)\n",
    "    print(\"*********\")\n",
    "    print(\"Positive Features : \")\n",
    "    print(df_pos)"
   ]
  },
  {
   "cell_type": "code",
   "execution_count": 8,
   "metadata": {},
   "outputs": [],
   "source": [
    "# Plots confusion matrix using heatmap and calculates and displays TN,FN,TP,FP\n",
    "def plot_confusion_matrix(y_actual, y_predicted):\n",
    "    cm = confusion_matrix(y_predicted, y_actual)\n",
    "    df = pd.DataFrame(data=cm, index=labels, columns=labels)\n",
    "    print(\"Confusion Matrix : \")\n",
    "    plt.figure(figsize=(10,7))\n",
    "    sns.heatmap(df, annot=True)\n",
    "    plt.show()\n",
    "    \n",
    "    TP = 0\n",
    "    FP = 0\n",
    "    TN = 0\n",
    "    FN = 0\n",
    "\n",
    "    for i in range(len(y_predicted)): \n",
    "        if y_actual[i]== 1 and y_predicted[i]==1:\n",
    "            TP += 1\n",
    "        if y_predicted[i]==1 and y_actual[i]!=y_predicted[i]:\n",
    "            FP += 1\n",
    "        if y_actual[i]==y_predicted[i]==0:\n",
    "            TN += 1\n",
    "        if y_predicted[i]==0 and y_actual[i]!=y_predicted[i]:\n",
    "            FN += 1\n",
    "            \n",
    "    print(\"True Positives :\", TP)\n",
    "    print(\"False Positives :\", FP)\n",
    "    print(\"True Negatives :\", TN)\n",
    "    print(\"False Negatives :\", FN)"
   ]
  },
  {
   "cell_type": "markdown",
   "metadata": {},
   "source": [
    "### For Bow Data :"
   ]
  },
  {
   "cell_type": "code",
   "execution_count": 9,
   "metadata": {},
   "outputs": [],
   "source": [
    "cnt_vec = CountVectorizer(ngram_range=(1,2))\n",
    "bow_train = cnt_vec.fit_transform(X_train['CleanedText'])\n",
    "bow_cv  = cnt_vec.transform(X_cv['CleanedText'])\n",
    "bow_test = cnt_vec.transform(X_test['CleanedText'])"
   ]
  },
  {
   "cell_type": "markdown",
   "metadata": {},
   "source": [
    "##### HyperParameter Tuning :"
   ]
  },
  {
   "cell_type": "code",
   "execution_count": 24,
   "metadata": {},
   "outputs": [
    {
     "name": "stdout",
     "output_type": "stream",
     "text": [
      "CV ROC_AUC Score :  0.9269256159552063  Train ROC_AUC Score :  0.9907756114688423 C :  1e-05  penalty :  l1\n",
      "CV ROC_AUC Score :  0.91928895551928  Train ROC_AUC Score :  0.9990405387878327 C :  1e-05  penalty :  l2\n",
      "CV ROC_AUC Score :  0.9205223037951129  Train ROC_AUC Score :  0.9610021573685849 C :  5e-05  penalty :  l1\n",
      "CV ROC_AUC Score :  0.9314294897277364  Train ROC_AUC Score :  0.998729028919514 C :  5e-05  penalty :  l2\n",
      "CV ROC_AUC Score :  0.9168015791120772  Train ROC_AUC Score :  0.94607696692047 C :  0.0001  penalty :  l1\n",
      "CV ROC_AUC Score :  0.932518343327892  Train ROC_AUC Score :  0.9988100164882475 C :  0.0001  penalty :  l2\n",
      "CV ROC_AUC Score :  0.8778073009616767  Train ROC_AUC Score :  0.8819249721795195 C :  0.001  penalty :  l1\n",
      "CV ROC_AUC Score :  0.9389738943255153  Train ROC_AUC Score :  0.9885069216997431 C :  0.001  penalty :  l2\n",
      "CV ROC_AUC Score :  0.6705988065735721  Train ROC_AUC Score :  0.6727176345009691 C :  0.01  penalty :  l1\n",
      "CV ROC_AUC Score :  0.9121822110952288  Train ROC_AUC Score :  0.9403509615798703 C :  0.01  penalty :  l2\n",
      "CV ROC_AUC Score :  0.605877678020147  Train ROC_AUC Score :  0.615942276469375 C :  0.1  penalty :  l1\n",
      "CV ROC_AUC Score :  0.7061795552773806  Train ROC_AUC Score :  0.7254286847842606 C :  0.1  penalty :  l2\n",
      "CV ROC_AUC Score :  0.5  Train ROC_AUC Score :  0.5 C :  1  penalty :  l1\n",
      "CV ROC_AUC Score :  0.5626361318097622  Train ROC_AUC Score :  0.5693875224303125 C :  1  penalty :  l2\n",
      "CV ROC_AUC Score :  0.5  Train ROC_AUC Score :  0.5 C :  10  penalty :  l1\n",
      "CV ROC_AUC Score :  0.5256863047762431  Train ROC_AUC Score :  0.5308060105949488 C :  10  penalty :  l2\n",
      "CV ROC_AUC Score :  0.5  Train ROC_AUC Score :  0.5 C :  100  penalty :  l1\n",
      "CV ROC_AUC Score :  0.5240818186431646  Train ROC_AUC Score :  0.529123038561985 C :  100  penalty :  l2\n"
     ]
    }
   ],
   "source": [
    "# Hyperparameter tuning :\n",
    "penalties = ['l1', 'l2']\n",
    "C = [0.00001, 0.00005, 0.0001, 0.001, 0.01, 0.1, 1, 10, 100]\n",
    "cv_scores = []\n",
    "tr_scores = []\n",
    "i = 0\n",
    "for alpha in C:\n",
    "    for p in penalties:\n",
    "        m = SGDClassifier(loss='hinge', penalty=p, alpha=alpha)\n",
    "        clf = CalibratedClassifierCV(base_estimator=m, cv=None)\n",
    "        clf.fit(bow_train, y_train)\n",
    "        scores = roc_auc_score(y_true=np.array(y_cv), y_score=clf.predict_proba(bow_cv)[:,1])\n",
    "        cv_scores.append(scores)\n",
    "        scores = roc_auc_score(y_true=np.array(y_train), y_score=clf.predict_proba(bow_train)[:,1])\n",
    "        tr_scores.append(scores)\n",
    "        print(\"CV ROC_AUC Score : \", cv_scores[i], \" Train ROC_AUC Score : \", tr_scores[i], \"C : \", alpha, \" penalty : \", p)\n",
    "        i += 1"
   ]
  },
  {
   "cell_type": "code",
   "execution_count": 25,
   "metadata": {},
   "outputs": [
    {
     "data": {
      "image/png": "[encoded data removed]",
      "text/plain": [
       "<Figure size 1080x216 with 1 Axes>"
      ]
     },
     "metadata": {
      "needs_background": "light"
     },
     "output_type": "display_data"
    }
   ],
   "source": [
    "ticks = ['0.00001+L1', '0.00001+L2', '0.00005+L1', '0.00005+L2', '0.0001+L1', '0.0001+L2', '0.001+L1', '0.001+L2',\n",
    "         '0.01+L1', '0.01+L2', '0.1+L1', '0.1+L2', '1+L1', '1+L2', '10+L1', '10+L2', '100+L1', '100+L2']\n",
    "plt.figure(figsize=(15,3))\n",
    "plt.plot(range(len(C)*len(penalties)), tr_scores)\n",
    "plt.plot(range(len(C)*len(penalties)), cv_scores)\n",
    "plt.xticks(range(len(C)*len(penalties)), ticks, rotation = 45)\n",
    "plt.legend(['train', 'cv'])\n",
    "plt.show()"
   ]
  },
  {
   "cell_type": "code",
   "execution_count": 34,
   "metadata": {},
   "outputs": [
    {
     "data": {
      "text/plain": [
       "SGDClassifier(alpha=5e-05, average=False, class_weight=None,\n",
       "       early_stopping=False, epsilon=0.1, eta0=0.0, fit_intercept=True,\n",
       "       l1_ratio=0.15, learning_rate='optimal', loss='hinge', max_iter=None,\n",
       "       n_iter=None, n_iter_no_change=5, n_jobs=None, penalty='l1',\n",
       "       power_t=0.5, random_state=None, shuffle=True, tol=None,\n",
       "       validation_fraction=0.1, verbose=0, warm_start=False)"
      ]
     },
     "execution_count": 34,
     "metadata": {},
     "output_type": "execute_result"
    }
   ],
   "source": [
    "m = SGDClassifier(loss = 'hinge', penalty='l1', alpha=5e-05)\n",
    "m.fit(bow_train, y_train)"
   ]
  },
  {
   "cell_type": "code",
   "execution_count": 26,
   "metadata": {},
   "outputs": [
    {
     "data": {
      "text/plain": [
       "CalibratedClassifierCV(base_estimator=SGDClassifier(alpha=5e-05, average=False, class_weight=None,\n",
       "       early_stopping=False, epsilon=0.1, eta0=0.0, fit_intercept=True,\n",
       "       l1_ratio=0.15, learning_rate='optimal', loss='hinge', max_iter=None,\n",
       "       n_iter=None, n_iter_no_change=5, n_jobs=None, penalty='l1',\n",
       "       power_t=0.5, random_state=None, shuffle=True, tol=None,\n",
       "       validation_fraction=0.1, verbose=0, warm_start=False),\n",
       "            cv=None, method='sigmoid')"
      ]
     },
     "execution_count": 26,
     "metadata": {},
     "output_type": "execute_result"
    }
   ],
   "source": [
    "m = SGDClassifier(loss='hinge', penalty='l1', alpha=5e-05)\n",
    "model = CalibratedClassifierCV(base_estimator=m, cv=None)\n",
    "model.fit(bow_train, y_train)"
   ]
  },
  {
   "cell_type": "markdown",
   "metadata": {},
   "source": [
    "##### Test Metrics :"
   ]
  },
  {
   "cell_type": "code",
   "execution_count": 27,
   "metadata": {},
   "outputs": [],
   "source": [
    "y_pred = model.predict(bow_test)"
   ]
  },
  {
   "cell_type": "code",
   "execution_count": 28,
   "metadata": {},
   "outputs": [
    {
     "name": "stdout",
     "output_type": "stream",
     "text": [
      "Confusion Matrix : \n"
     ]
    },
    {
     "data": {
      "image/png": "[encoded data removed]",
      "text/plain": [
       "<Figure size 720x504 with 2 Axes>"
      ]
     },
     "metadata": {
      "needs_background": "light"
     },
     "output_type": "display_data"
    },
    {
     "name": "stdout",
     "output_type": "stream",
     "text": [
      "True Positives : 17130\n",
      "False Positives : 1484\n",
      "True Negatives : 1194\n",
      "False Negatives : 192\n"
     ]
    }
   ],
   "source": [
    "plot_confusion_matrix(np.array(y_test), y_pred)"
   ]
  },
  {
   "cell_type": "code",
   "execution_count": 30,
   "metadata": {},
   "outputs": [
    {
     "data": {
      "text/plain": [
       "0.9305193467251538"
      ]
     },
     "execution_count": 30,
     "metadata": {},
     "output_type": "execute_result"
    }
   ],
   "source": [
    "y_pred = model.predict_proba(bow_test)\n",
    "roc_auc_score(y_true=y_test, y_score=y_pred[:,1])"
   ]
  },
  {
   "cell_type": "markdown",
   "metadata": {},
   "source": [
    "##### Feature Importance :"
   ]
  },
  {
   "cell_type": "code",
   "execution_count": 35,
   "metadata": {},
   "outputs": [
    {
     "name": "stdout",
     "output_type": "stream",
     "text": [
      "Negative Features : \n",
      "                  0\n",
      "worst    -58.841819\n",
      "nippl    -55.591191\n",
      "bug      -42.069420\n",
      "aw       -36.520708\n",
      "threw    -35.335893\n",
      "two star -32.983963\n",
      "terribl  -32.952091\n",
      "horribl  -32.665655\n",
      "wont buy -32.632417\n",
      "krup     -31.380053\n",
      "*********\n",
      "Positive Features : \n",
      "                         0\n",
      "red espresso    101.305195\n",
      "espresso maker   42.536937\n",
      "amaz             36.809453\n",
      "refresh          36.259337\n",
      "stovetop         33.306727\n",
      "fussi            31.822686\n",
      "fish oil         30.620215\n",
      "neosur           30.494144\n",
      "rooibo           30.426609\n",
      "addict           30.121550\n"
     ]
    }
   ],
   "source": [
    "feat_imp(cnt_vec, m.coef_)"
   ]
  },
  {
   "cell_type": "markdown",
   "metadata": {},
   "source": [
    "#### Conclusions for Bow Data :\n",
    "1. CV ROC_AUC Score :  0.9205223037951129\n",
    "2. Train ROC_AUC Score :  0.9610021573685849\n",
    "3. Test ROC_AUC Score : 0.9305193467251538\n",
    "4. alpha :  5e-05\n",
    "5. penalty :  l1"
   ]
  },
  {
   "cell_type": "markdown",
   "metadata": {},
   "source": [
    "### TFIDF Data :"
   ]
  },
  {
   "cell_type": "code",
   "execution_count": 39,
   "metadata": {},
   "outputs": [],
   "source": [
    "tfidf_vec = TfidfVectorizer(ngram_range=(1,2))\n",
    "tf_train = tfidf_vec.fit_transform(X_train['CleanedText'])\n",
    "tf_cv  = tfidf_vec.transform(X_cv['CleanedText'])\n",
    "tf_test = tfidf_vec.transform(X_test['CleanedText'])"
   ]
  },
  {
   "cell_type": "markdown",
   "metadata": {},
   "source": [
    "##### HyperParameter Tuning :"
   ]
  },
  {
   "cell_type": "code",
   "execution_count": 40,
   "metadata": {},
   "outputs": [
    {
     "name": "stdout",
     "output_type": "stream",
     "text": [
      "CV ROC_AUC Score :  0.9484688871784897  Train ROC_AUC Score :  0.9719169517002875 C :  1e-05  penalty :  l1\n",
      "CV ROC_AUC Score :  0.9524994079386964  Train ROC_AUC Score :  0.9997392690105483 C :  1e-05  penalty :  l2\n",
      "CV ROC_AUC Score :  0.9267868410146239  Train ROC_AUC Score :  0.9285371028235794 C :  5e-05  penalty :  l1\n",
      "CV ROC_AUC Score :  0.9472915521309977  Train ROC_AUC Score :  0.9915408680769671 C :  5e-05  penalty :  l2\n",
      "CV ROC_AUC Score :  0.9008791370283596  Train ROC_AUC Score :  0.9002744099454876 C :  0.0001  penalty :  l1\n",
      "CV ROC_AUC Score :  0.9446142086254873  Train ROC_AUC Score :  0.9876927600987623 C :  0.0001  penalty :  l2\n",
      "CV ROC_AUC Score :  0.5954032360379258  Train ROC_AUC Score :  0.5955868938364172 C :  0.001  penalty :  l1\n",
      "CV ROC_AUC Score :  0.9442396664157455  Train ROC_AUC Score :  0.9872570438489682 C :  0.001  penalty :  l2\n",
      "CV ROC_AUC Score :  0.5  Train ROC_AUC Score :  0.5 C :  0.01  penalty :  l1\n",
      "CV ROC_AUC Score :  0.9442183099187184  Train ROC_AUC Score :  0.987236610940994 C :  0.01  penalty :  l2\n",
      "CV ROC_AUC Score :  0.5  Train ROC_AUC Score :  0.5 C :  0.1  penalty :  l1\n",
      "CV ROC_AUC Score :  0.6277886933207028  Train ROC_AUC Score :  0.6440039556045132 C :  0.1  penalty :  l2\n",
      "CV ROC_AUC Score :  0.5  Train ROC_AUC Score :  0.5 C :  1  penalty :  l1\n",
      "CV ROC_AUC Score :  0.6277886933207028  Train ROC_AUC Score :  0.6440039556045132 C :  1  penalty :  l2\n",
      "CV ROC_AUC Score :  0.5  Train ROC_AUC Score :  0.5 C :  10  penalty :  l1\n",
      "CV ROC_AUC Score :  0.6277886721756561  Train ROC_AUC Score :  0.6440039583501336 C :  10  penalty :  l2\n",
      "CV ROC_AUC Score :  0.5  Train ROC_AUC Score :  0.5 C :  100  penalty :  l1\n",
      "CV ROC_AUC Score :  0.6277886933207028  Train ROC_AUC Score :  0.6440039556045132 C :  100  penalty :  l2\n"
     ]
    }
   ],
   "source": [
    "# Hyperparameter tuning :\n",
    "penalties = ['l1', 'l2']\n",
    "C = [0.00001, 0.00005, 0.0001, 0.001, 0.01, 0.1, 1, 10, 100]\n",
    "cv_scores = []\n",
    "tr_scores = []\n",
    "i = 0\n",
    "for alpha in C:\n",
    "    for p in penalties:\n",
    "        m = SGDClassifier(loss='hinge', penalty=p, alpha=alpha)\n",
    "        clf = CalibratedClassifierCV(base_estimator=m, cv=None)\n",
    "        clf.fit(tf_train, y_train)\n",
    "        scores = roc_auc_score(y_true=np.array(y_cv), y_score=clf.predict_proba(tf_cv)[:,1])\n",
    "        cv_scores.append(scores)\n",
    "        scores = roc_auc_score(y_true=np.array(y_train), y_score=clf.predict_proba(tf_train)[:,1])\n",
    "        tr_scores.append(scores)\n",
    "        print(\"CV ROC_AUC Score : \", cv_scores[i], \" Train ROC_AUC Score : \", tr_scores[i], \"C : \", alpha, \" penalty : \", p)\n",
    "        i += 1"
   ]
  },
  {
   "cell_type": "code",
   "execution_count": 41,
   "metadata": {},
   "outputs": [
    {
     "data": {
      "image/png": "[encoded data removed]",
      "text/plain": [
       "<Figure size 1080x216 with 1 Axes>"
      ]
     },
     "metadata": {
      "needs_background": "light"
     },
     "output_type": "display_data"
    }
   ],
   "source": [
    "ticks = ['0.00001+L1', '0.00001+L2', '0.00005+L1', '0.00005+L2', '0.0001+L1', '0.0001+L2', '0.001+L1', '0.001+L2',\n",
    "         '0.01+L1', '0.01+L2', '0.1+L1', '0.1+L2', '1+L1', '1+L2', '10+L1', '10+L2', '100+L1', '100+L2']\n",
    "plt.figure(figsize=(15,3))\n",
    "plt.plot(range(len(C)*len(penalties)), tr_scores)\n",
    "plt.plot(range(len(C)*len(penalties)), cv_scores)\n",
    "plt.xticks(range(len(C)*len(penalties)), ticks, rotation = 45)\n",
    "plt.legend(['train', 'cv'])\n",
    "plt.show()"
   ]
  },
  {
   "cell_type": "code",
   "execution_count": 48,
   "metadata": {},
   "outputs": [
    {
     "data": {
      "text/plain": [
       "SGDClassifier(alpha=1e-05, average=False, class_weight=None,\n",
       "       early_stopping=False, epsilon=0.1, eta0=0.0, fit_intercept=True,\n",
       "       l1_ratio=0.15, learning_rate='optimal', loss='hinge', max_iter=None,\n",
       "       n_iter=None, n_iter_no_change=5, n_jobs=None, penalty='l1',\n",
       "       power_t=0.5, random_state=None, shuffle=True, tol=None,\n",
       "       validation_fraction=0.1, verbose=0, warm_start=False)"
      ]
     },
     "execution_count": 48,
     "metadata": {},
     "output_type": "execute_result"
    }
   ],
   "source": [
    "m = SGDClassifier(loss = 'hinge', penalty='l1', alpha=1e-05)\n",
    "m.fit(tf_train, y_train)"
   ]
  },
  {
   "cell_type": "code",
   "execution_count": 43,
   "metadata": {},
   "outputs": [
    {
     "data": {
      "text/plain": [
       "CalibratedClassifierCV(base_estimator=SGDClassifier(alpha=1e-05, average=False, class_weight=None,\n",
       "       early_stopping=False, epsilon=0.1, eta0=0.0, fit_intercept=True,\n",
       "       l1_ratio=0.15, learning_rate='optimal', loss='hinge', max_iter=None,\n",
       "       n_iter=None, n_iter_no_change=5, n_jobs=None, penalty='l1',\n",
       "       power_t=0.5, random_state=None, shuffle=True, tol=None,\n",
       "       validation_fraction=0.1, verbose=0, warm_start=False),\n",
       "            cv=None, method='sigmoid')"
      ]
     },
     "execution_count": 43,
     "metadata": {},
     "output_type": "execute_result"
    }
   ],
   "source": [
    "m = SGDClassifier(loss='hinge', penalty='l1', alpha=1e-05)\n",
    "model = CalibratedClassifierCV(base_estimator=m, cv=None)\n",
    "model.fit(tf_train, y_train)"
   ]
  },
  {
   "cell_type": "markdown",
   "metadata": {},
   "source": [
    "##### Test Metrics :"
   ]
  },
  {
   "cell_type": "code",
   "execution_count": 44,
   "metadata": {},
   "outputs": [
    {
     "name": "stdout",
     "output_type": "stream",
     "text": [
      "Confusion Matrix : \n"
     ]
    },
    {
     "data": {
      "image/png": "[encoded data removed]",
      "text/plain": [
       "<Figure size 720x504 with 2 Axes>"
      ]
     },
     "metadata": {
      "needs_background": "light"
     },
     "output_type": "display_data"
    },
    {
     "name": "stdout",
     "output_type": "stream",
     "text": [
      "True Positives : 16494\n",
      "False Positives : 776\n",
      "True Negatives : 1902\n",
      "False Negatives : 828\n"
     ]
    }
   ],
   "source": [
    "y_pred = model.predict(bow_test)\n",
    "plot_confusion_matrix(np.array(y_test), y_pred)"
   ]
  },
  {
   "cell_type": "code",
   "execution_count": 46,
   "metadata": {},
   "outputs": [
    {
     "data": {
      "text/plain": [
       "0.9508753346424559"
      ]
     },
     "execution_count": 46,
     "metadata": {},
     "output_type": "execute_result"
    }
   ],
   "source": [
    "y_pred = model.predict_proba(tf_test)\n",
    "roc_auc_score(y_true=y_test, y_score=y_pred[:,1])"
   ]
  },
  {
   "cell_type": "markdown",
   "metadata": {},
   "source": [
    "##### Feature Importance :"
   ]
  },
  {
   "cell_type": "code",
   "execution_count": 49,
   "metadata": {},
   "outputs": [
    {
     "name": "stdout",
     "output_type": "stream",
     "text": [
      "Negative Features : \n",
      "                    0\n",
      "worst      -16.034563\n",
      "disappoint -12.475374\n",
      "two star   -12.136164\n",
      "terribl    -10.711550\n",
      "aw          -9.758374\n",
      "wont buy    -9.599623\n",
      "threw       -9.562738\n",
      "horribl     -9.439472\n",
      "unpleas     -9.086670\n",
      "wors        -8.911053\n",
      "*********\n",
      "Positive Features : \n",
      "                         0\n",
      "delici           12.539226\n",
      "perfect          11.634454\n",
      "great            11.473608\n",
      "best             11.152539\n",
      "excel            10.470136\n",
      "amaz             10.079936\n",
      "wont disappoint   9.603024\n",
      "high recommend    8.965628\n",
      "love              8.653173\n",
      "smooth            7.446703\n"
     ]
    }
   ],
   "source": [
    "feat_imp(tfidf_vec, m.coef_)"
   ]
  },
  {
   "cell_type": "markdown",
   "metadata": {},
   "source": [
    "#### Conclusions for TFIDF Data :\n",
    "\n",
    "1. CV ROC_AUC Score :  0.9484688871784897\n",
    "2. Train ROC_AUC Score :  0.9719169517002875\n",
    "3. Test ROC_AUC Score : 0.9508753346424559\n",
    "4. C :  1e-05\n",
    "5. penalty :  l1"
   ]
  },
  {
   "cell_type": "markdown",
   "metadata": {},
   "source": [
    "### Word2Vec :"
   ]
  },
  {
   "cell_type": "code",
   "execution_count": 51,
   "metadata": {},
   "outputs": [
    {
     "name": "stdout",
     "output_type": "stream",
     "text": [
      "60000\n",
      "20000\n",
      "20000\n"
     ]
    }
   ],
   "source": [
    "# Train your own Word2Vec model using your own text corpus\n",
    "i=0\n",
    "list_of_sent_train=[]\n",
    "for sentance in X_train['CleanedText']:\n",
    "    list_of_sent_train.append(sentance.split())\n",
    "    \n",
    "i=0\n",
    "list_of_sent_test=[]\n",
    "for sentance in X_test['CleanedText']:\n",
    "    list_of_sent_test.append(sentance.split())\n",
    "    \n",
    "i=0\n",
    "list_of_sent_cv=[]\n",
    "for sentance in X_cv['CleanedText']:\n",
    "    list_of_sent_cv.append(sentance.split())\n",
    "    \n",
    "print(len(list_of_sent_train))\n",
    "print(len(list_of_sent_cv))\n",
    "print(len(list_of_sent_test))"
   ]
  },
  {
   "cell_type": "code",
   "execution_count": 52,
   "metadata": {},
   "outputs": [],
   "source": [
    "def convertByteStringtoString(sentlist):\n",
    "    for x in sentlist:\n",
    "        for i in range(len(x)):\n",
    "            x[i] = x[i].decode(\"utf-8\")\n",
    "            \n",
    "    return sentlist\n",
    "\n",
    "list_of_sent_train = convertByteStringtoString(list_of_sent_train)\n",
    "list_of_sent_cv = convertByteStringtoString(list_of_sent_cv)\n",
    "list_of_sent_test = convertByteStringtoString(list_of_sent_test)"
   ]
  },
  {
   "cell_type": "code",
   "execution_count": 75,
   "metadata": {},
   "outputs": [],
   "source": [
    "np.save(\"list_of_sent_train\", np.array(list_of_sent_train))\n",
    "np.save(\"list_of_sent_test\", np.array(list_of_sent_test))\n",
    "np.save(\"list_of_sent_cv\", np.array(list_of_sent_cv))"
   ]
  },
  {
   "cell_type": "code",
   "execution_count": 53,
   "metadata": {},
   "outputs": [],
   "source": [
    "# Training word 2 vec on our train set --\n",
    "w2v_model=Word2Vec(list_of_sent_train,min_count=5,size=50, workers=4)"
   ]
  },
  {
   "cell_type": "code",
   "execution_count": 54,
   "metadata": {},
   "outputs": [],
   "source": [
    "w2v_words = list(w2v_model.wv.vocab)"
   ]
  },
  {
   "cell_type": "markdown",
   "metadata": {},
   "source": [
    "### Average Word2Vec :"
   ]
  },
  {
   "cell_type": "code",
   "execution_count": 57,
   "metadata": {},
   "outputs": [],
   "source": [
    "def avgw2vvectors(list_of_sent):\n",
    "    sent_vectors = []; # the avg-w2v for each sentence/review is stored in this list\n",
    "    for sent in tqdm(list_of_sent): # for each review/sentence\n",
    "        sent_vec = np.zeros(50) # as word vectors are of zero length 200, you might need to change this to 300 if you use google's w2v\n",
    "        cnt_words = 0; # num of words with a valid vector in the sentence/review\n",
    "        for word in sent: # for each word in a review/sentence\n",
    "            if word in w2v_words:\n",
    "                vec = w2v_model.wv[word]\n",
    "                sent_vec += vec\n",
    "                cnt_words += 1\n",
    "        if cnt_words != 0:\n",
    "            sent_vec /= cnt_words\n",
    "        sent_vectors.append(sent_vec)\n",
    "    print(len(sent_vectors))\n",
    "    print(len(sent_vectors[0]))\n",
    "    return np.array(sent_vectors)"
   ]
  },
  {
   "cell_type": "code",
   "execution_count": 58,
   "metadata": {},
   "outputs": [
    {
     "name": "stderr",
     "output_type": "stream",
     "text": [
      "100%|███████████████████████████████████████████████████████████████████████████| 60000/60000 [01:53<00:00, 529.84it/s]\n"
     ]
    },
    {
     "name": "stdout",
     "output_type": "stream",
     "text": [
      "60000\n",
      "50\n"
     ]
    }
   ],
   "source": [
    "train_avgw2v = avgw2vvectors(list_of_sent_train)"
   ]
  },
  {
   "cell_type": "code",
   "execution_count": 59,
   "metadata": {},
   "outputs": [
    {
     "name": "stderr",
     "output_type": "stream",
     "text": [
      "100%|███████████████████████████████████████████████████████████████████████████| 20000/20000 [00:45<00:00, 442.79it/s]\n"
     ]
    },
    {
     "name": "stdout",
     "output_type": "stream",
     "text": [
      "20000\n",
      "50\n"
     ]
    }
   ],
   "source": [
    "cv_avgw2v = avgw2vvectors(list_of_sent_cv)"
   ]
  },
  {
   "cell_type": "code",
   "execution_count": 60,
   "metadata": {},
   "outputs": [
    {
     "name": "stderr",
     "output_type": "stream",
     "text": [
      "100%|███████████████████████████████████████████████████████████████████████████| 20000/20000 [00:38<00:00, 525.72it/s]\n"
     ]
    },
    {
     "name": "stdout",
     "output_type": "stream",
     "text": [
      "20000\n",
      "50\n"
     ]
    }
   ],
   "source": [
    "test_avgw2v = avgw2vvectors(list_of_sent_test)"
   ]
  },
  {
   "cell_type": "code",
   "execution_count": 61,
   "metadata": {},
   "outputs": [],
   "source": [
    "np.save(\"train_avgw2v\", train_avgw2v)\n",
    "np.save(\"cv_avgw2v\", cv_avgw2v)\n",
    "np.save(\"test_avgw2v\", test_avgw2v)"
   ]
  },
  {
   "cell_type": "code",
   "execution_count": 62,
   "metadata": {},
   "outputs": [],
   "source": [
    "np.save(\"y_train\", np.array(y_train))\n",
    "np.save(\"y_cv\", np.array(y_cv))\n",
    "np.save(\"y_test\", np.array(y_test))"
   ]
  },
  {
   "cell_type": "markdown",
   "metadata": {},
   "source": [
    "##### HyperParameter Tuning :"
   ]
  },
  {
   "cell_type": "code",
   "execution_count": 63,
   "metadata": {},
   "outputs": [
    {
     "name": "stdout",
     "output_type": "stream",
     "text": [
      "CV ROC_AUC Score :  0.889573779296462  Train ROC_AUC Score :  0.884071778362111 C :  1e-05  penalty :  l1\n",
      "CV ROC_AUC Score :  0.8862300285035227  Train ROC_AUC Score :  0.8791583284344828 C :  1e-05  penalty :  l2\n",
      "CV ROC_AUC Score :  0.8924608393737683  Train ROC_AUC Score :  0.8841580128116749 C :  5e-05  penalty :  l1\n",
      "CV ROC_AUC Score :  0.8925063223689218  Train ROC_AUC Score :  0.8848946435801678 C :  5e-05  penalty :  l2\n",
      "CV ROC_AUC Score :  0.8942912180392621  Train ROC_AUC Score :  0.8866553276565743 C :  0.0001  penalty :  l1\n",
      "CV ROC_AUC Score :  0.8942463271054123  Train ROC_AUC Score :  0.888922990563596 C :  0.0001  penalty :  l2\n",
      "CV ROC_AUC Score :  0.8962665882890274  Train ROC_AUC Score :  0.8898917800215093 C :  0.001  penalty :  l1\n",
      "CV ROC_AUC Score :  0.896676337001294  Train ROC_AUC Score :  0.8902927614259952 C :  0.001  penalty :  l2\n",
      "CV ROC_AUC Score :  0.840449649415128  Train ROC_AUC Score :  0.8383201746128992 C :  0.01  penalty :  l1\n",
      "CV ROC_AUC Score :  0.8960528118682918  Train ROC_AUC Score :  0.890317565361851 C :  0.01  penalty :  l2\n",
      "CV ROC_AUC Score :  0.5  Train ROC_AUC Score :  0.5 C :  0.1  penalty :  l1\n",
      "CV ROC_AUC Score :  0.8959631357258249  Train ROC_AUC Score :  0.8898970433760627 C :  0.1  penalty :  l2\n",
      "CV ROC_AUC Score :  0.5  Train ROC_AUC Score :  0.5 C :  1  penalty :  l1\n",
      "CV ROC_AUC Score :  0.8968431714186634  Train ROC_AUC Score :  0.89085203883644 C :  1  penalty :  l2\n",
      "CV ROC_AUC Score :  0.5  Train ROC_AUC Score :  0.5 C :  10  penalty :  l1\n",
      "CV ROC_AUC Score :  0.7816090957532289  Train ROC_AUC Score :  0.7621680362540301 C :  10  penalty :  l2\n",
      "CV ROC_AUC Score :  0.5  Train ROC_AUC Score :  0.5 C :  100  penalty :  l1\n",
      "CV ROC_AUC Score :  0.6307908670314892  Train ROC_AUC Score :  0.6198689242956119 C :  100  penalty :  l2\n"
     ]
    }
   ],
   "source": [
    "# Hyperparameter tuning :\n",
    "penalties = ['l1', 'l2']\n",
    "C = [0.00001, 0.00005, 0.0001, 0.001, 0.01, 0.1, 1, 10, 100]\n",
    "cv_scores = []\n",
    "tr_scores = []\n",
    "i = 0\n",
    "for alpha in C:\n",
    "    for p in penalties:\n",
    "        m = SGDClassifier(loss='hinge', penalty=p, alpha=alpha)\n",
    "        clf = CalibratedClassifierCV(base_estimator=m, cv=None)\n",
    "        clf.fit(train_avgw2v, y_train)\n",
    "        scores = roc_auc_score(y_true=np.array(y_cv), y_score=clf.predict_proba(cv_avgw2v)[:,1])\n",
    "        cv_scores.append(scores)\n",
    "        scores = roc_auc_score(y_true=np.array(y_train), y_score=clf.predict_proba(train_avgw2v)[:,1])\n",
    "        tr_scores.append(scores)\n",
    "        print(\"CV ROC_AUC Score : \", cv_scores[i], \" Train ROC_AUC Score : \", tr_scores[i], \"C : \", alpha, \" penalty : \", p)\n",
    "        i += 1"
   ]
  },
  {
   "cell_type": "code",
   "execution_count": 64,
   "metadata": {},
   "outputs": [
    {
     "data": {
      "image/png": "[encoded data removed]",
      "text/plain": [
       "<Figure size 1080x216 with 1 Axes>"
      ]
     },
     "metadata": {
      "needs_background": "light"
     },
     "output_type": "display_data"
    }
   ],
   "source": [
    "ticks = ['0.00001+L1', '0.00001+L2', '0.00005+L1', '0.00005+L2', '0.0001+L1', '0.0001+L2', '0.001+L1', '0.001+L2',\n",
    "         '0.01+L1', '0.01+L2', '0.1+L1', '0.1+L2', '1+L1', '1+L2', '10+L1', '10+L2', '100+L1', '100+L2']\n",
    "plt.figure(figsize=(15,3))\n",
    "plt.plot(range(len(C)*len(penalties)), tr_scores)\n",
    "plt.plot(range(len(C)*len(penalties)), cv_scores)\n",
    "plt.xticks(range(len(C)*len(penalties)), ticks, rotation = 45)\n",
    "plt.legend(['train', 'cv'])\n",
    "plt.show()"
   ]
  },
  {
   "cell_type": "code",
   "execution_count": 71,
   "metadata": {},
   "outputs": [
    {
     "data": {
      "text/plain": [
       "CalibratedClassifierCV(base_estimator=SGDClassifier(alpha=0.001, average=False, class_weight=None,\n",
       "       early_stopping=False, epsilon=0.1, eta0=0.0, fit_intercept=True,\n",
       "       l1_ratio=0.15, learning_rate='optimal', loss='hinge', max_iter=None,\n",
       "       n_iter=None, n_iter_no_change=5, n_jobs=None, penalty='l2',\n",
       "       power_t=0.5, random_state=None, shuffle=True, tol=None,\n",
       "       validation_fraction=0.1, verbose=0, warm_start=False),\n",
       "            cv=None, method='sigmoid')"
      ]
     },
     "execution_count": 71,
     "metadata": {},
     "output_type": "execute_result"
    }
   ],
   "source": [
    "m = SGDClassifier(loss='hinge', penalty='l2', alpha=0.001)\n",
    "model = CalibratedClassifierCV(base_estimator=m, cv=None)\n",
    "model.fit(train_avgw2v, y_train)"
   ]
  },
  {
   "cell_type": "markdown",
   "metadata": {},
   "source": [
    "##### Test Metrics :"
   ]
  },
  {
   "cell_type": "code",
   "execution_count": 73,
   "metadata": {},
   "outputs": [
    {
     "name": "stdout",
     "output_type": "stream",
     "text": [
      "Confusion Matrix : \n"
     ]
    },
    {
     "data": {
      "image/png": "[encoded data removed]",
      "text/plain": [
       "<Figure size 720x504 with 2 Axes>"
      ]
     },
     "metadata": {
      "needs_background": "light"
     },
     "output_type": "display_data"
    },
    {
     "name": "stdout",
     "output_type": "stream",
     "text": [
      "True Positives : 16956\n",
      "False Positives : 1802\n",
      "True Negatives : 876\n",
      "False Negatives : 366\n"
     ]
    }
   ],
   "source": [
    "y_pred = model.predict(test_avgw2v)\n",
    "plot_confusion_matrix(np.array(y_test), y_pred)"
   ]
  },
  {
   "cell_type": "code",
   "execution_count": 74,
   "metadata": {},
   "outputs": [
    {
     "data": {
      "text/plain": [
       "0.8955613844658642"
      ]
     },
     "execution_count": 74,
     "metadata": {},
     "output_type": "execute_result"
    }
   ],
   "source": [
    "y_pred = model.predict_proba(test_avgw2v)\n",
    "roc_auc_score(y_true=y_test, y_score=y_pred[:,1])"
   ]
  },
  {
   "cell_type": "markdown",
   "metadata": {},
   "source": [
    "#### Conclusions For Average W2V :\n",
    "\n",
    "1. CV ROC_AUC Score :  0.896676337001294\n",
    "2. Train ROC_AUC Score :  0.8902927614259952\n",
    "3. Test ROC_AUC Score : 0.8955613844658642\n",
    "4. alpha = 0.001\n",
    "5. penalty :  l2"
   ]
  },
  {
   "cell_type": "markdown",
   "metadata": {},
   "source": [
    "### TFIDF W2V :"
   ]
  },
  {
   "cell_type": "code",
   "execution_count": 76,
   "metadata": {},
   "outputs": [],
   "source": [
    "# S = [\"abc def pqr\", \"def def def abc\", \"pqr pqr def\"]\n",
    "model = TfidfVectorizer()\n",
    "tf_idf_matrix = model.fit_transform(X_train['CleanedText'])\n",
    "# we are converting a dictionary with word as a key, and the idf as a value\n",
    "dictionary = dict(zip(model.get_feature_names(), list(model.idf_)))"
   ]
  },
  {
   "cell_type": "code",
   "execution_count": 77,
   "metadata": {},
   "outputs": [],
   "source": [
    "def tfidfw2v(list_of_sent):\n",
    "    # TF-IDF weighted Word2Vec\n",
    "    tfidf_feat = model.get_feature_names() # tfidf words/col-names\n",
    "    # final_tf_idf is the sparse matrix with row= sentence, col=word and cell_val = tfidf\n",
    "\n",
    "    tfidf_sent_vectors = []; # the tfidf-w2v for each sentence/review is stored in this list\n",
    "    row=0;\n",
    "    for sent in tqdm(list_of_sent): # for each review/sentence \n",
    "        sent_vec = np.zeros(50) # as word vectors are of zero length\n",
    "        weight_sum =0; # num of words with a valid vector in the sentence/review\n",
    "        for word in sent: # for each word in a review/sentence\n",
    "            if word in w2v_words and word in tfidf_feat:\n",
    "                vec = w2v_model.wv[word]\n",
    "                #tf_idf = tf_idf_matrix[row, tfidf_feat.index(word)]\n",
    "                # to reduce the computation we are \n",
    "                # dictionary[word] = idf value of word in whole courpus\n",
    "                # sent.count(word) = tf valeus of word in this review\n",
    "                tf_idf = dictionary[word]*(sent.count(word)/len(sent))\n",
    "                sent_vec += (vec * tf_idf)\n",
    "                weight_sum += tf_idf\n",
    "        if weight_sum != 0:\n",
    "            sent_vec /= weight_sum\n",
    "        tfidf_sent_vectors.append(sent_vec)\n",
    "    row += 1\n",
    "    \n",
    "    return np.array(tfidf_sent_vectors)"
   ]
  },
  {
   "cell_type": "code",
   "execution_count": 78,
   "metadata": {},
   "outputs": [
    {
     "name": "stderr",
     "output_type": "stream",
     "text": [
      "100%|████████████████████████████████████████████████████████████████████████████| 60000/60000 [19:48<00:00, 50.47it/s]\n"
     ]
    },
    {
     "data": {
      "text/plain": [
       "(60000, 50)"
      ]
     },
     "execution_count": 78,
     "metadata": {},
     "output_type": "execute_result"
    }
   ],
   "source": [
    "train_tfidf = tfidfw2v(list_of_sent_train)\n",
    "train_tfidf.shape"
   ]
  },
  {
   "cell_type": "code",
   "execution_count": 79,
   "metadata": {},
   "outputs": [
    {
     "name": "stderr",
     "output_type": "stream",
     "text": [
      "100%|████████████████████████████████████████████████████████████████████████████| 20000/20000 [06:42<00:00, 49.67it/s]\n"
     ]
    },
    {
     "data": {
      "text/plain": [
       "(20000, 50)"
      ]
     },
     "execution_count": 79,
     "metadata": {},
     "output_type": "execute_result"
    }
   ],
   "source": [
    "cv_tfidf = tfidfw2v(list_of_sent_cv)\n",
    "cv_tfidf.shape"
   ]
  },
  {
   "cell_type": "code",
   "execution_count": 80,
   "metadata": {},
   "outputs": [
    {
     "name": "stderr",
     "output_type": "stream",
     "text": [
      "100%|████████████████████████████████████████████████████████████████████████████| 20000/20000 [06:35<00:00, 50.58it/s]\n"
     ]
    },
    {
     "data": {
      "text/plain": [
       "(20000, 50)"
      ]
     },
     "execution_count": 80,
     "metadata": {},
     "output_type": "execute_result"
    }
   ],
   "source": [
    "test_tfidf = tfidfw2v(list_of_sent_test)\n",
    "test_tfidf.shape"
   ]
  },
  {
   "cell_type": "code",
   "execution_count": 81,
   "metadata": {},
   "outputs": [],
   "source": [
    "np.save(\"train_tfidf\", train_tfidf)\n",
    "np.save(\"cv_tfidf\", cv_tfidf)\n",
    "np.save(\"test_tfidf\", test_tfidf)"
   ]
  },
  {
   "cell_type": "markdown",
   "metadata": {},
   "source": [
    "##### HyperParameter Tuning :"
   ]
  },
  {
   "cell_type": "code",
   "execution_count": 82,
   "metadata": {},
   "outputs": [
    {
     "name": "stdout",
     "output_type": "stream",
     "text": [
      "CV ROC_AUC Score :  0.8482378563997598  Train ROC_AUC Score :  0.842157470337462 alpha :  1e-05  penalty :  l1\n",
      "CV ROC_AUC Score :  0.8411602498498701  Train ROC_AUC Score :  0.8320123585541761 alpha :  1e-05  penalty :  l2\n",
      "CV ROC_AUC Score :  0.8544391910750987  Train ROC_AUC Score :  0.8502321975399508 alpha :  5e-05  penalty :  l1\n",
      "CV ROC_AUC Score :  0.8452680980453519  Train ROC_AUC Score :  0.8410577834208456 alpha :  5e-05  penalty :  l2\n",
      "CV ROC_AUC Score :  0.8639065684972638  Train ROC_AUC Score :  0.8597068919394131 alpha :  0.0001  penalty :  l1\n",
      "CV ROC_AUC Score :  0.8553171756984208  Train ROC_AUC Score :  0.8534581890906716 alpha :  0.0001  penalty :  l2\n",
      "CV ROC_AUC Score :  0.8603579856382844  Train ROC_AUC Score :  0.8532486954987152 alpha :  0.001  penalty :  l1\n",
      "CV ROC_AUC Score :  0.8672264676776819  Train ROC_AUC Score :  0.8617988131676368 alpha :  0.001  penalty :  l2\n",
      "CV ROC_AUC Score :  0.7620041275130888  Train ROC_AUC Score :  0.7643907863004442 alpha :  0.01  penalty :  l1\n",
      "CV ROC_AUC Score :  0.86655798817569  Train ROC_AUC Score :  0.8630501489429124 alpha :  0.01  penalty :  l2\n",
      "CV ROC_AUC Score :  0.5  Train ROC_AUC Score :  0.5 alpha :  0.1  penalty :  l1\n",
      "CV ROC_AUC Score :  0.862084098079184  Train ROC_AUC Score :  0.8580248781280138 alpha :  0.1  penalty :  l2\n",
      "CV ROC_AUC Score :  0.5  Train ROC_AUC Score :  0.5 alpha :  1  penalty :  l1\n",
      "CV ROC_AUC Score :  0.8664069702531485  Train ROC_AUC Score :  0.8628524285717828 alpha :  1  penalty :  l2\n",
      "CV ROC_AUC Score :  0.5  Train ROC_AUC Score :  0.5 alpha :  10  penalty :  l1\n",
      "CV ROC_AUC Score :  0.7991133459075878  Train ROC_AUC Score :  0.7817172992085356 alpha :  10  penalty :  l2\n",
      "CV ROC_AUC Score :  0.5  Train ROC_AUC Score :  0.5 alpha :  100  penalty :  l1\n",
      "CV ROC_AUC Score :  0.6172283495868258  Train ROC_AUC Score :  0.6048769274087942 alpha :  100  penalty :  l2\n"
     ]
    }
   ],
   "source": [
    "# Hyperparameter tuning :\n",
    "penalties = ['l1', 'l2']\n",
    "C = [0.00001, 0.00005, 0.0001, 0.001, 0.01, 0.1, 1, 10, 100]\n",
    "cv_scores = []\n",
    "tr_scores = []\n",
    "i = 0\n",
    "for alpha in C:\n",
    "    for p in penalties:\n",
    "        m = SGDClassifier(loss='hinge', penalty=p, alpha=alpha)\n",
    "        clf = CalibratedClassifierCV(base_estimator=m, cv=None)\n",
    "        clf.fit(train_tfidf, y_train)\n",
    "        scores = roc_auc_score(y_true=np.array(y_cv), y_score=clf.predict_proba(cv_tfidf)[:,1])\n",
    "        cv_scores.append(scores)\n",
    "        scores = roc_auc_score(y_true=np.array(y_train), y_score=clf.predict_proba(train_tfidf)[:,1])\n",
    "        tr_scores.append(scores)\n",
    "        print(\"CV ROC_AUC Score : \", cv_scores[i], \" Train ROC_AUC Score : \", tr_scores[i], \"alpha : \", alpha, \" penalty : \", p)\n",
    "        i += 1"
   ]
  },
  {
   "cell_type": "code",
   "execution_count": 83,
   "metadata": {},
   "outputs": [
    {
     "data": {
      "image/png": "[encoded data removed]",
      "text/plain": [
       "<Figure size 1080x216 with 1 Axes>"
      ]
     },
     "metadata": {
      "needs_background": "light"
     },
     "output_type": "display_data"
    }
   ],
   "source": [
    "ticks = ['0.00001+L1', '0.00001+L2', '0.00005+L1', '0.00005+L2', '0.0001+L1', '0.0001+L2', '0.001+L1', '0.001+L2',\n",
    "         '0.01+L1', '0.01+L2', '0.1+L1', '0.1+L2', '1+L1', '1+L2', '10+L1', '10+L2', '100+L1', '100+L2']\n",
    "plt.figure(figsize=(15,3))\n",
    "plt.plot(range(len(C)*len(penalties)), tr_scores)\n",
    "plt.plot(range(len(C)*len(penalties)), cv_scores)\n",
    "plt.xticks(range(len(C)*len(penalties)), ticks, rotation = 45)\n",
    "plt.legend(['train', 'cv'])\n",
    "plt.show()"
   ]
  },
  {
   "cell_type": "code",
   "execution_count": 84,
   "metadata": {},
   "outputs": [
    {
     "data": {
      "text/plain": [
       "CalibratedClassifierCV(base_estimator=SGDClassifier(alpha=0.0001, average=False, class_weight=None,\n",
       "       early_stopping=False, epsilon=0.1, eta0=0.0, fit_intercept=True,\n",
       "       l1_ratio=0.15, learning_rate='optimal', loss='hinge', max_iter=None,\n",
       "       n_iter=None, n_iter_no_change=5, n_jobs=None, penalty='l1',\n",
       "       power_t=0.5, random_state=None, shuffle=True, tol=None,\n",
       "       validation_fraction=0.1, verbose=0, warm_start=False),\n",
       "            cv=None, method='sigmoid')"
      ]
     },
     "execution_count": 84,
     "metadata": {},
     "output_type": "execute_result"
    }
   ],
   "source": [
    "m = SGDClassifier(loss='hinge', penalty='l1', alpha=0.0001)\n",
    "model = CalibratedClassifierCV(base_estimator=m, cv=None)\n",
    "model.fit(train_tfidf, y_train)"
   ]
  },
  {
   "cell_type": "markdown",
   "metadata": {},
   "source": [
    "##### Test Metrics :"
   ]
  },
  {
   "cell_type": "code",
   "execution_count": 85,
   "metadata": {},
   "outputs": [
    {
     "name": "stdout",
     "output_type": "stream",
     "text": [
      "Confusion Matrix : \n"
     ]
    },
    {
     "data": {
      "image/png": "[encoded data removed]",
      "text/plain": [
       "<Figure size 720x504 with 2 Axes>"
      ]
     },
     "metadata": {
      "needs_background": "light"
     },
     "output_type": "display_data"
    },
    {
     "name": "stdout",
     "output_type": "stream",
     "text": [
      "True Positives : 17078\n",
      "False Positives : 2182\n",
      "True Negatives : 496\n",
      "False Negatives : 244\n"
     ]
    }
   ],
   "source": [
    "y_pred = model.predict(test_tfidf)\n",
    "plot_confusion_matrix(np.array(y_test), y_pred)"
   ]
  },
  {
   "cell_type": "code",
   "execution_count": 86,
   "metadata": {},
   "outputs": [
    {
     "data": {
      "text/plain": [
       "0.8587122347791198"
      ]
     },
     "execution_count": 86,
     "metadata": {},
     "output_type": "execute_result"
    }
   ],
   "source": [
    "y_pred = model.predict_proba(test_tfidf)\n",
    "roc_auc_score(y_true=y_test, y_score=y_pred[:,1])"
   ]
  },
  {
   "cell_type": "markdown",
   "metadata": {},
   "source": [
    "#### Conclusions for TFIDF W2V :\n",
    "\n",
    "1. CV ROC_AUC Score :  0.8639065684972638\n",
    "2. Train ROC_AUC Score :  0.8597068919394131\n",
    "3. Test ROC_AUC_Score :  0.8587122347791198\n",
    "4. alpha :  0.0001\n",
    "5. penalty :  l1"
   ]
  },
  {
   "cell_type": "markdown",
   "metadata": {},
   "source": [
    "## SVC with RBF Kernel :"
   ]
  },
  {
   "cell_type": "code",
   "execution_count": null,
   "metadata": {},
   "outputs": [],
   "source": [
    "# Getting data :\n",
    "X_train = X[:80000]\n",
    "X_cv = X_train[60000:80000]\n",
    "X_train = X_train[:60000]\n",
    "X_test =  X[80000:100000]\n",
    "\n",
    "\n",
    "y_train = Y[:80000]\n",
    "y_cv = y_train[60000:80000]\n",
    "y_train = y_train[:60000]\n",
    "y_test =  Y[80000:100000]\n",
    "\n",
    "print(X_train.shape, \"   \", y_train.shape)\n",
    "print(X_cv.shape, \"   \", y_cv.shape)\n",
    "print(X_test.shape, \"   \", y_test.shape)"
   ]
  },
  {
   "cell_type": "code",
   "execution_count": 87,
   "metadata": {},
   "outputs": [
    {
     "name": "stdout",
     "output_type": "stream",
     "text": [
      "(13000, 11)     (13000,)\n",
      "(3000, 11)     (3000,)\n",
      "(4000, 11)     (4000,)\n"
     ]
    }
   ],
   "source": [
    "X_cv = X_train[13000:16000]\n",
    "X_test = X_train[16000:20000]\n",
    "X_train = X_train[:13000]\n",
    "\n",
    "y_cv = np.array(y_train[13000:16000])\n",
    "y_test = np.array(y_train[16000:20000])\n",
    "y_train = np.array(y_train[:13000])\n",
    "\n",
    "print(X_train.shape, \"   \", y_train.shape)\n",
    "print(X_cv.shape, \"   \", y_cv.shape)\n",
    "print(X_test.shape, \"   \", y_test.shape)"
   ]
  },
  {
   "cell_type": "markdown",
   "metadata": {},
   "source": [
    "### Bow Data :"
   ]
  },
  {
   "cell_type": "code",
   "execution_count": 139,
   "metadata": {},
   "outputs": [
    {
     "name": "stdout",
     "output_type": "stream",
     "text": [
      "(13000, 200)\n",
      "(3000, 200)\n",
      "(4000, 200)\n"
     ]
    }
   ],
   "source": [
    "cnt_vec = CountVectorizer(ngram_range=(1,2), min_df=10, max_features=200)\n",
    "bow_train = cnt_vec.fit_transform(X_train['CleanedText'])\n",
    "bow_cv  = cnt_vec.transform(X_cv['CleanedText'])\n",
    "bow_test = cnt_vec.transform(X_test['CleanedText'])\n",
    "\n",
    "print(bow_train.shape)\n",
    "print(bow_cv.shape)\n",
    "print(bow_test.shape)"
   ]
  },
  {
   "cell_type": "markdown",
   "metadata": {},
   "source": [
    "##### HyperParameter Tuning :"
   ]
  },
  {
   "cell_type": "code",
   "execution_count": 140,
   "metadata": {},
   "outputs": [
    {
     "name": "stdout",
     "output_type": "stream",
     "text": [
      "[LibSVM]CV ROC_AUC Score :  0.5026451725746268  Train ROC_AUC Score :  0.4958874158638994 C :  1e-05  degree :  3\n",
      "[LibSVM]CV ROC_AUC Score :  0.5026504197761194  Train ROC_AUC Score :  0.495809541051051 C :  1e-05  degree :  4\n",
      "[LibSVM]CV ROC_AUC Score :  0.6300478078358209  Train ROC_AUC Score :  0.6090461153875073 C :  5e-05  degree :  3\n",
      "[LibSVM]CV ROC_AUC Score :  0.6286357276119403  Train ROC_AUC Score :  0.605571005307642 C :  5e-05  degree :  4\n",
      "[LibSVM]CV ROC_AUC Score :  0.6835867537313434  Train ROC_AUC Score :  0.6655174482030188 C :  0.0001  degree :  3\n",
      "[LibSVM]CV ROC_AUC Score :  0.6835867537313434  Train ROC_AUC Score :  0.6655174176638765 C :  0.0001  degree :  4\n",
      "[LibSVM]CV ROC_AUC Score :  0.8153066697761194  Train ROC_AUC Score :  0.8257463109784979 C :  0.001  degree :  3\n",
      "[LibSVM]CV ROC_AUC Score :  0.8153078358208955  Train ROC_AUC Score :  0.8257466163699209 C :  0.001  degree :  4\n",
      "[LibSVM]CV ROC_AUC Score :  0.8489132462686567  Train ROC_AUC Score :  0.9016848200490202 C :  0.01  degree :  3\n",
      "[LibSVM]CV ROC_AUC Score :  0.8489132462686567  Train ROC_AUC Score :  0.9016842398053165 C :  0.01  degree :  4\n",
      "[LibSVM]CV ROC_AUC Score :  0.8548938899253731  Train ROC_AUC Score :  0.9232973099718667 C :  0.1  degree :  3\n",
      "[LibSVM]CV ROC_AUC Score :  0.8548892257462687  Train ROC_AUC Score :  0.923297554285005 C :  0.1  degree :  4\n",
      "[LibSVM]CV ROC_AUC Score :  0.8553708022388059  Train ROC_AUC Score :  0.9244714789147684 C :  1  degree :  3\n",
      "[LibSVM]CV ROC_AUC Score :  0.8553708022388059  Train ROC_AUC Score :  0.9244714789147684 C :  1  degree :  4\n",
      "[LibSVM]CV ROC_AUC Score :  0.8572096548507462  Train ROC_AUC Score :  0.9327485942680105 C :  10  degree :  3\n",
      "[LibSVM]CV ROC_AUC Score :  0.8572044076492538  Train ROC_AUC Score :  0.9327512511733902 C :  10  degree :  4\n",
      "[LibSVM]CV ROC_AUC Score :  0.8472924440298506  Train ROC_AUC Score :  0.9685579679645618 C :  100  degree :  3\n",
      "[LibSVM]CV ROC_AUC Score :  0.847295942164179  Train ROC_AUC Score :  0.968557876347135 C :  100  degree :  4\n"
     ]
    }
   ],
   "source": [
    "# Hyperparameter tuning :\n",
    "degree = [3, 4]\n",
    "C = [0.00001, 0.00005, 0.0001, 0.001, 0.01, 0.1, 1, 10, 100]\n",
    "cv_scores = []\n",
    "tr_scores = []\n",
    "i = 0\n",
    "for alpha in C:\n",
    "    for p in degree:\n",
    "        clf = SVC(C=alpha, kernel='rbf',  degree=p, probability=True, verbose=10)\n",
    "        clf.fit(bow_train, y_train)\n",
    "        scores = roc_auc_score(y_true=np.array(y_cv), y_score=clf.predict_proba(bow_cv)[:,1])\n",
    "        cv_scores.append(scores)\n",
    "        scores = roc_auc_score(y_true=np.array(y_train), y_score=clf.predict_proba(bow_train)[:,1])\n",
    "        tr_scores.append(scores)\n",
    "        print(\"CV ROC_AUC Score : \", cv_scores[i], \" Train ROC_AUC Score : \", tr_scores[i], \"C : \", alpha, \" degree : \", p)\n",
    "        i += 1"
   ]
  },
  {
   "cell_type": "code",
   "execution_count": 141,
   "metadata": {},
   "outputs": [
    {
     "data": {
      "image/png": "[encoded data removed]",
      "text/plain": [
       "<Figure size 1080x216 with 1 Axes>"
      ]
     },
     "metadata": {
      "needs_background": "light"
     },
     "output_type": "display_data"
    }
   ],
   "source": [
    "ticks = ['0.00001+3', '0.00001+4', '0.00005+3', '0.00005+4', '0.0001+3', '0.0001+4', '0.001+3', '0.001+4',\n",
    "         '0.01+3', '0.01+4', '0.1+3', '0.1+4', '1+3', '1+4', '10+3', '10+4', '100+3', '100+4']\n",
    "plt.figure(figsize=(15,3))\n",
    "plt.plot(range(len(C)*len(penalties)), tr_scores)\n",
    "plt.plot(range(len(C)*len(penalties)), cv_scores)\n",
    "plt.xticks(range(len(C)*len(penalties)), ticks, rotation = 45)\n",
    "plt.legend(['train', 'cv'])\n",
    "plt.title(\"Train/CV roc_auc score vs C and degree\")\n",
    "plt.show()"
   ]
  },
  {
   "cell_type": "code",
   "execution_count": 145,
   "metadata": {},
   "outputs": [
    {
     "data": {
      "text/plain": [
       "SVC(C=1, cache_size=200, class_weight=None, coef0=0.0,\n",
       "  decision_function_shape='ovr', degree=3, gamma='auto_deprecated',\n",
       "  kernel='rbf', max_iter=-1, probability=True, random_state=None,\n",
       "  shrinking=True, tol=0.001, verbose=False)"
      ]
     },
     "execution_count": 145,
     "metadata": {},
     "output_type": "execute_result"
    }
   ],
   "source": [
    "model = SVC(C=1, degree=3, kernel='rbf', probability=True)\n",
    "model.fit(bow_train, y_train)"
   ]
  },
  {
   "cell_type": "markdown",
   "metadata": {},
   "source": [
    "##### Test Metrics :"
   ]
  },
  {
   "cell_type": "code",
   "execution_count": 146,
   "metadata": {},
   "outputs": [
    {
     "data": {
      "text/plain": [
       "0.8378130497305225"
      ]
     },
     "execution_count": 146,
     "metadata": {},
     "output_type": "execute_result"
    }
   ],
   "source": [
    "y_pred = model.predict_proba(bow_test)\n",
    "roc_auc_score(y_true=y_test, y_score=y_pred[:,1])"
   ]
  },
  {
   "cell_type": "markdown",
   "metadata": {},
   "source": [
    "#### Conclusions for Bow Data :\n",
    "1. CV ROC_AUC Score :  0.8553708022388059\n",
    "2. Train ROC_AUC Score :  0.9244714789147684\n",
    "3. Test ROC_AUC Score : 0.8378130497305225\n",
    "4. C :  1\n",
    "5. degree :  3"
   ]
  },
  {
   "cell_type": "markdown",
   "metadata": {},
   "source": [
    "### TFIDF Data :"
   ]
  },
  {
   "cell_type": "code",
   "execution_count": 147,
   "metadata": {},
   "outputs": [
    {
     "name": "stdout",
     "output_type": "stream",
     "text": [
      "(13000, 200)\n",
      "(3000, 200)\n",
      "(4000, 200)\n"
     ]
    }
   ],
   "source": [
    "tfidf_vec = TfidfVectorizer(ngram_range=(1,2), min_df=10, max_features=200)\n",
    "tf_train = tfidf_vec.fit_transform(X_train['CleanedText'])\n",
    "tf_cv  = tfidf_vec.transform(X_cv['CleanedText'])\n",
    "tf_test = tfidf_vec.transform(X_test['CleanedText'])\n",
    "\n",
    "print(tf_train.shape)\n",
    "print(tf_cv.shape)\n",
    "print(tf_test.shape)"
   ]
  },
  {
   "cell_type": "code",
   "execution_count": 148,
   "metadata": {},
   "outputs": [
    {
     "name": "stdout",
     "output_type": "stream",
     "text": [
      "[LibSVM]CV ROC_AUC Score :  0.771279151119403  Train ROC_AUC Score :  0.7738291582966512 C :  1e-05  degree :  3\n",
      "[LibSVM]CV ROC_AUC Score :  0.777811333955224  Train ROC_AUC Score :  0.7789485263367426 C :  1e-05  degree :  4\n",
      "[LibSVM]CV ROC_AUC Score :  0.7724580223880596  Train ROC_AUC Score :  0.7736352347430874 C :  5e-05  degree :  3\n",
      "[LibSVM]CV ROC_AUC Score :  0.7799096315298506  Train ROC_AUC Score :  0.7803553424656363 C :  5e-05  degree :  4\n",
      "[LibSVM]CV ROC_AUC Score :  0.7769881063432837  Train ROC_AUC Score :  0.778468328863319 C :  0.0001  degree :  3\n",
      "[LibSVM]CV ROC_AUC Score :  0.7723495802238807  Train ROC_AUC Score :  0.7759528502517434 C :  0.0001  degree :  4\n",
      "[LibSVM]CV ROC_AUC Score :  0.7714056669776119  Train ROC_AUC Score :  0.7740107134975862 C :  0.001  degree :  3\n",
      "[LibSVM]CV ROC_AUC Score :  0.7802203824626864  Train ROC_AUC Score :  0.7807260265747952 C :  0.001  degree :  4\n",
      "[LibSVM]CV ROC_AUC Score :  0.8511077425373135  Train ROC_AUC Score :  0.8512253006288437 C :  0.01  degree :  3\n",
      "[LibSVM]CV ROC_AUC Score :  0.8510634328358209  Train ROC_AUC Score :  0.8512377300597571 C :  0.01  degree :  4\n",
      "[LibSVM]CV ROC_AUC Score :  0.8557975746268657  Train ROC_AUC Score :  0.8707962183502254 C :  0.1  degree :  3\n",
      "[LibSVM]CV ROC_AUC Score :  0.8558039878731344  Train ROC_AUC Score :  0.8707960351153716 C :  0.1  degree :  4\n",
      "[LibSVM]CV ROC_AUC Score :  0.8589062500000001  Train ROC_AUC Score :  0.8820058243030617 C :  1  degree :  3\n",
      "[LibSVM]CV ROC_AUC Score :  0.8589109141791045  Train ROC_AUC Score :  0.8820073817993186 C :  1  degree :  4\n",
      "[LibSVM]CV ROC_AUC Score :  0.8595848880597015  Train ROC_AUC Score :  0.9420806842917829 C :  10  degree :  3\n",
      "[LibSVM]CV ROC_AUC Score :  0.8595848880597015  Train ROC_AUC Score :  0.9420823944837514 C :  10  degree :  4\n",
      "[LibSVM]CV ROC_AUC Score :  0.8660471082089553  Train ROC_AUC Score :  0.9394373688305665 C :  100  degree :  3\n",
      "[LibSVM]CV ROC_AUC Score :  0.8660436100746268  Train ROC_AUC Score :  0.93943794907427 C :  100  degree :  4\n"
     ]
    }
   ],
   "source": [
    "# Hyperparameter tuning :\n",
    "degree = [3, 4]\n",
    "C = [0.00001, 0.00005, 0.0001, 0.001, 0.01, 0.1, 1, 10, 100]\n",
    "cv_scores = []\n",
    "tr_scores = []\n",
    "i = 0\n",
    "for alpha in C:\n",
    "    for p in degree:\n",
    "        clf = SVC(C=alpha, kernel='rbf',  degree=p, probability=True, verbose=10)\n",
    "        clf.fit(tf_train, y_train)\n",
    "        scores = roc_auc_score(y_true=np.array(y_cv), y_score=clf.predict_proba(tf_cv)[:,1])\n",
    "        cv_scores.append(scores)\n",
    "        scores = roc_auc_score(y_true=np.array(y_train), y_score=clf.predict_proba(tf_train)[:,1])\n",
    "        tr_scores.append(scores)\n",
    "        print(\"CV ROC_AUC Score : \", cv_scores[i], \" Train ROC_AUC Score : \", tr_scores[i], \"C : \", alpha, \" degree : \", p)\n",
    "        i += 1"
   ]
  },
  {
   "cell_type": "code",
   "execution_count": 149,
   "metadata": {},
   "outputs": [
    {
     "data": {
      "image/png": "[encoded data removed]",
      "text/plain": [
       "<Figure size 1080x216 with 1 Axes>"
      ]
     },
     "metadata": {
      "needs_background": "light"
     },
     "output_type": "display_data"
    }
   ],
   "source": [
    "ticks = ['0.00001+3', '0.00001+4', '0.00005+3', '0.00005+4', '0.0001+3', '0.0001+4', '0.001+3', '0.001+4',\n",
    "         '0.01+3', '0.01+4', '0.1+3', '0.1+4', '1+3', '1+4', '10+3', '10+4', '100+3', '100+4']\n",
    "plt.figure(figsize=(15,3))\n",
    "plt.plot(range(len(C)*len(penalties)), tr_scores)\n",
    "plt.plot(range(len(C)*len(penalties)), cv_scores)\n",
    "plt.xticks(range(len(C)*len(penalties)), ticks, rotation = 45)\n",
    "plt.legend(['train', 'cv'])\n",
    "plt.title(\"Train/CV roc_auc score vs C and degree\")\n",
    "plt.show()"
   ]
  },
  {
   "cell_type": "code",
   "execution_count": 150,
   "metadata": {},
   "outputs": [
    {
     "data": {
      "text/plain": [
       "SVC(C=1, cache_size=200, class_weight=None, coef0=0.0,\n",
       "  decision_function_shape='ovr', degree=3, gamma='auto_deprecated',\n",
       "  kernel='rbf', max_iter=-1, probability=True, random_state=None,\n",
       "  shrinking=True, tol=0.001, verbose=False)"
      ]
     },
     "execution_count": 150,
     "metadata": {},
     "output_type": "execute_result"
    }
   ],
   "source": [
    "model = SVC(C=1, degree=3, kernel='rbf', probability=True)\n",
    "model.fit(tf_train, y_train)"
   ]
  },
  {
   "cell_type": "markdown",
   "metadata": {},
   "source": [
    "##### Test Metrics :"
   ]
  },
  {
   "cell_type": "code",
   "execution_count": 151,
   "metadata": {},
   "outputs": [
    {
     "data": {
      "text/plain": [
       "0.8395699574200758"
      ]
     },
     "execution_count": 151,
     "metadata": {},
     "output_type": "execute_result"
    }
   ],
   "source": [
    "y_pred = model.predict_proba(tf_test)\n",
    "roc_auc_score(y_true=y_test, y_score=y_pred[:,1])"
   ]
  },
  {
   "cell_type": "markdown",
   "metadata": {},
   "source": [
    "#### Conclusion for TFIDF Data :\n",
    "1. CV ROC_AUC Score :  0.8589062500000001\n",
    "2. Train ROC_AUC Score :  0.8820058243030617\n",
    "3. Test ROC_AUC Score : 0.8395699574200758\n",
    "4. C :  1\n",
    "5. degree :  3"
   ]
  },
  {
   "cell_type": "markdown",
   "metadata": {},
   "source": [
    "### AVGW2V :"
   ]
  },
  {
   "cell_type": "code",
   "execution_count": 152,
   "metadata": {},
   "outputs": [],
   "source": [
    "y_train = np.load(\"y_train.npy\")"
   ]
  },
  {
   "cell_type": "code",
   "execution_count": 153,
   "metadata": {},
   "outputs": [
    {
     "name": "stdout",
     "output_type": "stream",
     "text": [
      "train shape  (20000, 50) y_train shape -  (20000,)\n",
      "Cv shape  (10000, 50) y_cv shape -  (10000,)\n",
      "Test shape  (10000, 50) y_test shape -  (10000,)\n"
     ]
    }
   ],
   "source": [
    "cv_avgw2v = train_avgw2v[20000:30000]\n",
    "test_avgw2v = train_avgw2v[30000:40000]\n",
    "train_avgw2v = train_avgw2v[:20000]\n",
    "\n",
    "y_cv = y_train[20000:30000]\n",
    "y_test = y_train[30000:40000]\n",
    "y_train = y_train[:20000]\n",
    "\n",
    "print(\"train shape \", train_avgw2v.shape, \"y_train shape - \", y_train.shape)\n",
    "print(\"Cv shape \", cv_avgw2v.shape, \"y_cv shape - \", y_cv.shape)\n",
    "print(\"Test shape \", test_avgw2v.shape, \"y_test shape - \", y_test.shape)"
   ]
  },
  {
   "cell_type": "markdown",
   "metadata": {},
   "source": [
    "##### HyperParameter Tuning :"
   ]
  },
  {
   "cell_type": "code",
   "execution_count": 154,
   "metadata": {},
   "outputs": [
    {
     "name": "stdout",
     "output_type": "stream",
     "text": [
      "[LibSVM]CV ROC_AUC Score :  0.6864224931758055  Train ROC_AUC Score :  0.7018015739597051 C :  1e-05  degree :  3\n",
      "[LibSVM]CV ROC_AUC Score :  0.6894096382060315  Train ROC_AUC Score :  0.7061399699290836 C :  1e-05  degree :  4\n",
      "[LibSVM]CV ROC_AUC Score :  0.8588136016246706  Train ROC_AUC Score :  0.861363581471551 C :  5e-05  degree :  3\n",
      "[LibSVM]CV ROC_AUC Score :  0.8566773594373553  Train ROC_AUC Score :  0.8604313355795175 C :  5e-05  degree :  4\n",
      "[LibSVM]CV ROC_AUC Score :  0.8810758976541585  Train ROC_AUC Score :  0.8808531794260599 C :  0.0001  degree :  3\n",
      "[LibSVM]CV ROC_AUC Score :  0.8810358063321169  Train ROC_AUC Score :  0.8808603271262395 C :  0.0001  degree :  4\n",
      "[LibSVM]CV ROC_AUC Score :  0.9027253166452549  Train ROC_AUC Score :  0.9027688022962645 C :  0.001  degree :  3\n",
      "[LibSVM]CV ROC_AUC Score :  0.9027251590122718  Train ROC_AUC Score :  0.9027703505345706 C :  0.001  degree :  4\n",
      "[LibSVM]CV ROC_AUC Score :  0.9035975524852152  Train ROC_AUC Score :  0.9050927854056039 C :  0.01  degree :  3\n",
      "[LibSVM]CV ROC_AUC Score :  0.9035961863326949  Train ROC_AUC Score :  0.9050944884677405 C :  0.01  degree :  4\n",
      "[LibSVM]CV ROC_AUC Score :  0.903608271528068  Train ROC_AUC Score :  0.9053400648670563 C :  0.1  degree :  3\n",
      "[LibSVM]CV ROC_AUC Score :  0.9036083240723957  Train ROC_AUC Score :  0.9053412647517436 C :  0.1  degree :  4\n",
      "[LibSVM]CV ROC_AUC Score :  0.9050657460900452  Train ROC_AUC Score :  0.9091211208502181 C :  1  degree :  3\n",
      "[LibSVM]CV ROC_AUC Score :  0.9050657460900452  Train ROC_AUC Score :  0.9091215337137665 C :  1  degree :  4\n",
      "[LibSVM]CV ROC_AUC Score :  0.9029217798865569  Train ROC_AUC Score :  0.9280331485046444 C :  10  degree :  3\n",
      "[LibSVM]CV ROC_AUC Score :  0.9029224629628171  Train ROC_AUC Score :  0.9280327227391101 C :  10  degree :  4\n",
      "[LibSVM]CV ROC_AUC Score :  0.8860805346910787  Train ROC_AUC Score :  0.9571920623679934 C :  100  degree :  3\n",
      "[LibSVM]CV ROC_AUC Score :  0.8860827940971702  Train ROC_AUC Score :  0.9571925268394851 C :  100  degree :  4\n"
     ]
    }
   ],
   "source": [
    "# Hyperparameter tuning :\n",
    "degree = [3, 4]\n",
    "C = [0.00001, 0.00005, 0.0001, 0.001, 0.01, 0.1, 1, 10, 100]\n",
    "cv_scores = []\n",
    "tr_scores = []\n",
    "i = 0\n",
    "for alpha in C:\n",
    "    for p in degree:\n",
    "        clf = SVC(C=alpha, kernel='rbf',  degree=p, probability=True, verbose=10)\n",
    "        clf.fit(train_avgw2v, y_train)\n",
    "        scores = roc_auc_score(y_true=np.array(y_cv), y_score=clf.predict_proba(cv_avgw2v)[:,1])\n",
    "        cv_scores.append(scores)\n",
    "        scores = roc_auc_score(y_true=np.array(y_train), y_score=clf.predict_proba(train_avgw2v)[:,1])\n",
    "        tr_scores.append(scores)\n",
    "        print(\"CV ROC_AUC Score : \", cv_scores[i], \" Train ROC_AUC Score : \", tr_scores[i], \"C : \", alpha, \" degree : \", p)\n",
    "        i += 1"
   ]
  },
  {
   "cell_type": "code",
   "execution_count": 155,
   "metadata": {},
   "outputs": [
    {
     "data": {
      "image/png": "[encoded data removed]",
      "text/plain": [
       "<Figure size 1080x216 with 1 Axes>"
      ]
     },
     "metadata": {
      "needs_background": "light"
     },
     "output_type": "display_data"
    }
   ],
   "source": [
    "ticks = ['0.00001+3', '0.00001+4', '0.00005+3', '0.00005+4', '0.0001+3', '0.0001+4', '0.001+3', '0.001+4',\n",
    "         '0.01+3', '0.01+4', '0.1+3', '0.1+4', '1+3', '1+4', '10+3', '10+4', '100+3', '100+4']\n",
    "plt.figure(figsize=(15,3))\n",
    "plt.plot(range(len(C)*len(penalties)), tr_scores)\n",
    "plt.plot(range(len(C)*len(penalties)), cv_scores)\n",
    "plt.xticks(range(len(C)*len(penalties)), ticks, rotation = 45)\n",
    "plt.legend(['train', 'cv'])\n",
    "plt.title(\"Train/CV roc_auc score vs C and degree\")\n",
    "plt.show()"
   ]
  },
  {
   "cell_type": "code",
   "execution_count": 156,
   "metadata": {},
   "outputs": [
    {
     "data": {
      "text/plain": [
       "SVC(C=1, cache_size=200, class_weight=None, coef0=0.0,\n",
       "  decision_function_shape='ovr', degree=3, gamma='auto_deprecated',\n",
       "  kernel='rbf', max_iter=-1, probability=True, random_state=None,\n",
       "  shrinking=True, tol=0.001, verbose=False)"
      ]
     },
     "execution_count": 156,
     "metadata": {},
     "output_type": "execute_result"
    }
   ],
   "source": [
    "model = SVC(C=1, degree=3, kernel='rbf', probability=True)\n",
    "model.fit(train_avgw2v, y_train)"
   ]
  },
  {
   "cell_type": "markdown",
   "metadata": {},
   "source": [
    "##### Test Metrics :"
   ]
  },
  {
   "cell_type": "code",
   "execution_count": 157,
   "metadata": {},
   "outputs": [
    {
     "name": "stdout",
     "output_type": "stream",
     "text": [
      "Confusion Matrix : \n"
     ]
    },
    {
     "data": {
      "image/png": "[encoded data removed]",
      "text/plain": [
       "<Figure size 720x504 with 2 Axes>"
      ]
     },
     "metadata": {
      "needs_background": "light"
     },
     "output_type": "display_data"
    },
    {
     "name": "stdout",
     "output_type": "stream",
     "text": [
      "True Positives : 8786\n",
      "False Positives : 945\n",
      "True Negatives : 221\n",
      "False Negatives : 48\n"
     ]
    }
   ],
   "source": [
    "y_pred = model.predict(test_avgw2v)\n",
    "plot_confusion_matrix(np.array(y_test), y_pred)"
   ]
  },
  {
   "cell_type": "code",
   "execution_count": 158,
   "metadata": {},
   "outputs": [
    {
     "data": {
      "text/plain": [
       "0.892975341645467"
      ]
     },
     "execution_count": 158,
     "metadata": {},
     "output_type": "execute_result"
    }
   ],
   "source": [
    "y_pred = model.predict_proba(test_avgw2v)\n",
    "roc_auc_score(y_true=y_test, y_score=y_pred[:,1])"
   ]
  },
  {
   "cell_type": "markdown",
   "metadata": {},
   "source": [
    "#### Conclusion for AVGW2V :\n",
    "\n",
    "1. CV ROC_AUC Score :  0.9050657460900452\n",
    "2. Train ROC_AUC Score :  0.9091211208502181\n",
    "3. Test ROC_AUC Score : 0.892975341645467\n",
    "4. C :  1\n",
    "5. degree :  3"
   ]
  },
  {
   "cell_type": "markdown",
   "metadata": {},
   "source": [
    "### TFIDF W2V :"
   ]
  },
  {
   "cell_type": "code",
   "execution_count": 159,
   "metadata": {},
   "outputs": [
    {
     "name": "stdout",
     "output_type": "stream",
     "text": [
      "(20000, 50)\n",
      "(10000, 50)\n",
      "(10000, 50)\n"
     ]
    }
   ],
   "source": [
    "cv_tfidf = train_tfidf[20000:30000]\n",
    "test_tfidf = train_tfidf[30000:40000]\n",
    "train_tfidf = train_tfidf[:20000]\n",
    "\n",
    "print(train_tfidf.shape)\n",
    "print(test_tfidf.shape)\n",
    "print(cv_tfidf.shape)"
   ]
  },
  {
   "cell_type": "code",
   "execution_count": 160,
   "metadata": {},
   "outputs": [
    {
     "name": "stdout",
     "output_type": "stream",
     "text": [
      "[LibSVM]CV ROC_AUC Score :  0.674970246774435  Train ROC_AUC Score :  0.6913019120433432 C :  1e-05  degree :  3\n",
      "[LibSVM]CV ROC_AUC Score :  0.6712869944907273  Train ROC_AUC Score :  0.6869638902315556 C :  1e-05  degree :  4\n",
      "[LibSVM]CV ROC_AUC Score :  0.7816567751969756  Train ROC_AUC Score :  0.7915700307923956 C :  5e-05  degree :  3\n",
      "[LibSVM]CV ROC_AUC Score :  0.7936261628716526  Train ROC_AUC Score :  0.8024166787171215 C :  5e-05  degree :  4\n",
      "[LibSVM]CV ROC_AUC Score :  0.8437123092969308  Train ROC_AUC Score :  0.8488908446579223 C :  0.0001  degree :  3\n",
      "[LibSVM]CV ROC_AUC Score :  0.8437545023920805  Train ROC_AUC Score :  0.8488370949847298 C :  0.0001  degree :  4\n",
      "[LibSVM]CV ROC_AUC Score :  0.8771774238041568  Train ROC_AUC Score :  0.883751042867519 C :  0.001  degree :  3\n",
      "[LibSVM]CV ROC_AUC Score :  0.8771764780062581  Train ROC_AUC Score :  0.8837489011378622 C :  0.001  degree :  4\n",
      "[LibSVM]CV ROC_AUC Score :  0.8799125662386931  Train ROC_AUC Score :  0.8940166369559736 C :  0.01  degree :  3\n",
      "[LibSVM]CV ROC_AUC Score :  0.8799110949975173  Train ROC_AUC Score :  0.8940161982884536 C :  0.01  degree :  4\n",
      "[LibSVM]CV ROC_AUC Score :  0.8811751013448721  Train ROC_AUC Score :  0.8944309971346238 C :  0.1  degree :  3\n",
      "[LibSVM]CV ROC_AUC Score :  0.8811737351923516  Train ROC_AUC Score :  0.8944315261160452 C :  0.1  degree :  4\n",
      "[LibSVM]CV ROC_AUC Score :  0.8821843202471685  Train ROC_AUC Score :  0.8977807010237262 C :  1  degree :  3\n",
      "[LibSVM]CV ROC_AUC Score :  0.8821852135007396  Train ROC_AUC Score :  0.8977815138488368 C :  1  degree :  4\n",
      "[LibSVM]CV ROC_AUC Score :  0.8796920902396284  Train ROC_AUC Score :  0.924561340221136 C :  10  degree :  3\n",
      "[LibSVM]CV ROC_AUC Score :  0.8796913546190404  Train ROC_AUC Score :  0.9245612886131923 C :  10  degree :  4\n",
      "[LibSVM]CV ROC_AUC Score :  0.8640052964682331  Train ROC_AUC Score :  0.9596579286160989 C :  100  degree :  3\n",
      "[LibSVM]CV ROC_AUC Score :  0.8640021438085705  Train ROC_AUC Score :  0.9596569609671577 C :  100  degree :  4\n"
     ]
    }
   ],
   "source": [
    "# Hyperparameter tuning :\n",
    "degree = [3, 4]\n",
    "C = [0.00001, 0.00005, 0.0001, 0.001, 0.01, 0.1, 1, 10, 100]\n",
    "cv_scores = []\n",
    "tr_scores = []\n",
    "i = 0\n",
    "for alpha in C:\n",
    "    for p in degree:\n",
    "        clf = SVC(C=alpha, kernel='rbf',  degree=p, probability=True, verbose=10)\n",
    "        clf.fit(train_tfidf, y_train)\n",
    "        scores = roc_auc_score(y_true=np.array(y_cv), y_score=clf.predict_proba(cv_tfidf)[:,1])\n",
    "        cv_scores.append(scores)\n",
    "        scores = roc_auc_score(y_true=np.array(y_train), y_score=clf.predict_proba(train_tfidf)[:,1])\n",
    "        tr_scores.append(scores)\n",
    "        print(\"CV ROC_AUC Score : \", cv_scores[i], \" Train ROC_AUC Score : \", tr_scores[i], \"C : \", alpha, \" degree : \", p)\n",
    "        i += 1"
   ]
  },
  {
   "cell_type": "code",
   "execution_count": 161,
   "metadata": {},
   "outputs": [
    {
     "data": {
      "image/png": "[encoded data removed]",
      "text/plain": [
       "<Figure size 1080x216 with 1 Axes>"
      ]
     },
     "metadata": {
      "needs_background": "light"
     },
     "output_type": "display_data"
    }
   ],
   "source": [
    "ticks = ['0.00001+3', '0.00001+4', '0.00005+3', '0.00005+4', '0.0001+3', '0.0001+4', '0.001+3', '0.001+4',\n",
    "         '0.01+3', '0.01+4', '0.1+3', '0.1+4', '1+3', '1+4', '10+3', '10+4', '100+3', '100+4']\n",
    "plt.figure(figsize=(15,3))\n",
    "plt.plot(range(len(C)*len(penalties)), tr_scores)\n",
    "plt.plot(range(len(C)*len(penalties)), cv_scores)\n",
    "plt.xticks(range(len(C)*len(penalties)), ticks, rotation = 45)\n",
    "plt.legend(['train', 'cv'])\n",
    "plt.title(\"Train/CV roc_auc score vs C and degree\")\n",
    "plt.show()"
   ]
  },
  {
   "cell_type": "code",
   "execution_count": 162,
   "metadata": {},
   "outputs": [
    {
     "data": {
      "text/plain": [
       "SVC(C=1, cache_size=200, class_weight=None, coef0=0.0,\n",
       "  decision_function_shape='ovr', degree=3, gamma='auto_deprecated',\n",
       "  kernel='rbf', max_iter=-1, probability=True, random_state=None,\n",
       "  shrinking=True, tol=0.001, verbose=False)"
      ]
     },
     "execution_count": 162,
     "metadata": {},
     "output_type": "execute_result"
    }
   ],
   "source": [
    "model = SVC(C=1, degree=3, kernel='rbf', probability=True)\n",
    "model.fit(train_tfidf, y_train)"
   ]
  },
  {
   "cell_type": "markdown",
   "metadata": {},
   "source": [
    "##### Test Metrics :"
   ]
  },
  {
   "cell_type": "code",
   "execution_count": 163,
   "metadata": {},
   "outputs": [
    {
     "name": "stdout",
     "output_type": "stream",
     "text": [
      "Confusion Matrix : \n"
     ]
    },
    {
     "data": {
      "image/png": "[encoded data removed]",
      "text/plain": [
       "<Figure size 720x504 with 2 Axes>"
      ]
     },
     "metadata": {
      "needs_background": "light"
     },
     "output_type": "display_data"
    },
    {
     "name": "stdout",
     "output_type": "stream",
     "text": [
      "True Positives : 8812\n",
      "False Positives : 1085\n",
      "True Negatives : 81\n",
      "False Negatives : 22\n"
     ]
    }
   ],
   "source": [
    "y_pred = model.predict(test_tfidf)\n",
    "plot_confusion_matrix(np.array(y_test), y_pred)"
   ]
  },
  {
   "cell_type": "code",
   "execution_count": 164,
   "metadata": {},
   "outputs": [
    {
     "data": {
      "text/plain": [
       "0.8694115515797183"
      ]
     },
     "execution_count": 164,
     "metadata": {},
     "output_type": "execute_result"
    }
   ],
   "source": [
    "y_pred = model.predict_proba(test_tfidf)\n",
    "roc_auc_score(y_true=y_test, y_score=y_pred[:,1])"
   ]
  },
  {
   "cell_type": "markdown",
   "metadata": {},
   "source": [
    "#### Conclusions for TFIDF W2V:\n",
    "\n",
    "1. CV ROC_AUC Score :  0.8821843202471685\n",
    "2. Train ROC_AUC Score :  0.8977807010237262\n",
    "3. Test ROC_AUC Score :  0.8694115515797183\n",
    "4. C :  1\n",
    "5. degree :  3"
   ]
  },
  {
   "cell_type": "markdown",
   "metadata": {},
   "source": [
    "## Results :\n",
    "\n",
    "<table><tr><th>Featurization</th><th>Train ROC_AUC</th><th>Test ROC_AUC</th><th>CV ROC_AUC</th><th>Alpha</th><th>Penalty</th></tr><tr><td>BOW Linear SVM</td><td>0.9610021573685849<br></td><td>0.9305193467251538<br></td><td>0.9205223037951129<br></td><td>5e-05<br></td><td>L1</td></tr><tr><td>TFIDF Linear SVM</td><td>0.9719169517002875<br></td><td>0.9508753346424559<br></td><td>0.9484688871784897<br></td><td>1e-05<br></td><td>L1</td></tr><tr><td>AVG-W2V Linear SVM</td><td>0.8902927614259952<br></td><td>0.8955613844658642<br></td><td>0.896676337001294<br></td><td>0.001</td><td>L2</td></tr><tr><td>TFIDF-W2V Linear SVM</td><td>0.8597068919394131<br></td><td>0.8587122347791198</td><td>0.8639065684972638<br></td><td>0.0001</td><td>L1</td></tr><tr><th>Featurization</th><th>Train ROC_AUC</th><th>Test ROC_AUC</th><th>CV ROC_AUC</th><th>C</th><th>Degree of Polynomial</th></tr><tr><td>BOW RBF SVM</td><td>0.9244714789147684</td><td>0.8378130497305225</td><td>0.8553708022388059</td><td>1</td><td>3</td></tr><tr><td>TFIDF RBF SVM</td><td>0.8820058243030617</td><td>0.8395699574200758</td><td>0.8589062500000001</td><td>1</td><td>3</td></tr><tr><td>AVGW2V RBF SVM</td><td>0.9091211208502181</td><td>0.892975341645467</td><td>0.9050657460900452</td><td>1</td><td>3</td></tr><tr><td>TFIDF-W2V RBF SVM</td><td>0.8977807010237262</td><td>0.8694115515797183</td><td>0.8821843202471685</td><td>1</td><td>3</td></tr></table>"
   ]
  },
  {
   "cell_type": "code",
   "execution_count": null,
   "metadata": {},
   "outputs": [],
   "source": []
  }
 ],
 "metadata": {
  "kernelspec": {
   "display_name": "Python 3",
   "language": "python",
   "name": "python3"
  },
  "language_info": {
   "codemirror_mode": {
    "name": "ipython",
    "version": 3
   },
   "file_extension": ".py",
   "mimetype": "text/x-python",
   "name": "python",
   "nbconvert_exporter": "python",
   "pygments_lexer": "ipython3",
   "version": "3.6.7"
  }
 },
 "nbformat": 4,
 "nbformat_minor": 2
}
