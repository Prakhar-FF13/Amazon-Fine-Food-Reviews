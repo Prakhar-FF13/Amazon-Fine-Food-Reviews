{
 "cells": [
  {
   "cell_type": "markdown",
   "metadata": {},
   "source": [
    "# Amazon Fine Food Reviews \n",
    "\n",
    "\n",
    "Data Source: https://www.kaggle.com/snap/amazon-fine-food-reviews\n",
    "\n",
    "The Amazon Fine Food Reviews dataset consists of reviews of fine foods from Amazon.<br>\n",
    "\n",
    "Number of reviews: 568,454<br>\n",
    "Number of users: 256,059<br>\n",
    "Number of products: 74,258<br>\n",
    "Timespan: Oct 1999 - Oct 2012<br>\n",
    "Number of Attributes/Columns in data: 10 \n",
    "\n",
    "Attribute Information:\n",
    "\n",
    "1. Id\n",
    "2. ProductId - unique identifier for the product\n",
    "3. UserId - unqiue identifier for the user\n",
    "4. ProfileName\n",
    "5. HelpfulnessNumerator - number of users who found the review helpful\n",
    "6. HelpfulnessDenominator - number of users who indicated whether they found the review helpful or not\n",
    "7. Score - rating between 1 and 5\n",
    "8. Time - timestamp for the review"
   ]
  },
  {
   "cell_type": "markdown",
   "metadata": {},
   "source": [
    "## Importing libraries and loading the dataset :\n",
    "* Cleaning and handling deduplication of data is already performed."
   ]
  },
  {
   "cell_type": "code",
   "execution_count": 1,
   "metadata": {},
   "outputs": [
    {
     "name": "stderr",
     "output_type": "stream",
     "text": [
      "c:\\program files\\python36\\lib\\site-packages\\gensim\\utils.py:1212: UserWarning: detected Windows; aliasing chunkize to chunkize_serial\n",
      "  warnings.warn(\"detected Windows; aliasing chunkize to chunkize_serial\")\n"
     ]
    }
   ],
   "source": [
    "%matplotlib inline\n",
    "\n",
    "import sqlite3\n",
    "import pandas as pd\n",
    "import numpy as np\n",
    "import nltk\n",
    "import string\n",
    "import matplotlib.pyplot as plt\n",
    "import seaborn as sns\n",
    "from sklearn.feature_extraction.text import TfidfTransformer\n",
    "from sklearn.feature_extraction.text import TfidfVectorizer\n",
    "\n",
    "from sklearn.feature_extraction.text import CountVectorizer\n",
    "from sklearn.metrics import confusion_matrix\n",
    "from sklearn import metrics\n",
    "from sklearn.metrics import roc_curve, auc\n",
    "from nltk.stem.porter import PorterStemmer\n",
    "from sklearn.model_selection import train_test_split\n",
    "from sklearn.neighbors import KNeighborsClassifier\n",
    "from sklearn.metrics import accuracy_score\n",
    "from sklearn.metrics import roc_auc_score\n",
    "from sklearn.model_selection import cross_val_score\n",
    "from collections import Counter\n",
    "from sklearn.metrics import accuracy_score\n",
    "from sklearn import datasets, neighbors\n",
    "from sklearn.linear_model import LogisticRegression\n",
    "from scipy import *\n",
    "from scipy.sparse import *\n",
    "from gensim.models import Word2Vec\n",
    "import warnings\n",
    "from tqdm import tqdm\n",
    "warnings.filterwarnings(\"ignore\")"
   ]
  },
  {
   "cell_type": "code",
   "execution_count": 2,
   "metadata": {},
   "outputs": [],
   "source": [
    "conn = sqlite3.connect('final.sqlite')"
   ]
  },
  {
   "cell_type": "code",
   "execution_count": 3,
   "metadata": {},
   "outputs": [
    {
     "data": {
      "text/html": [
       "<div>\n",
       "<style scoped>\n",
       "    .dataframe tbody tr th:only-of-type {\n",
       "        vertical-align: middle;\n",
       "    }\n",
       "\n",
       "    .dataframe tbody tr th {\n",
       "        vertical-align: top;\n",
       "    }\n",
       "\n",
       "    .dataframe thead th {\n",
       "        text-align: right;\n",
       "    }\n",
       "</style>\n",
       "<table border=\"1\" class=\"dataframe\">\n",
       "  <thead>\n",
       "    <tr style=\"text-align: right;\">\n",
       "      <th></th>\n",
       "      <th>index</th>\n",
       "      <th>Id</th>\n",
       "      <th>ProductId</th>\n",
       "      <th>UserId</th>\n",
       "      <th>ProfileName</th>\n",
       "      <th>HelpfulnessNumerator</th>\n",
       "      <th>HelpfulnessDenominator</th>\n",
       "      <th>Score</th>\n",
       "      <th>Time</th>\n",
       "      <th>Summary</th>\n",
       "      <th>Text</th>\n",
       "      <th>CleanedText</th>\n",
       "    </tr>\n",
       "  </thead>\n",
       "  <tbody>\n",
       "    <tr>\n",
       "      <th>0</th>\n",
       "      <td>138706</td>\n",
       "      <td>150524</td>\n",
       "      <td>0006641040</td>\n",
       "      <td>ACITT7DI6IDDL</td>\n",
       "      <td>shari zychinski</td>\n",
       "      <td>0</td>\n",
       "      <td>0</td>\n",
       "      <td>positive</td>\n",
       "      <td>939340800</td>\n",
       "      <td>EVERY book is educational</td>\n",
       "      <td>this witty little book makes my son laugh at l...</td>\n",
       "      <td>b'witti littl book make son laugh loud recit c...</td>\n",
       "    </tr>\n",
       "    <tr>\n",
       "      <th>1</th>\n",
       "      <td>138688</td>\n",
       "      <td>150506</td>\n",
       "      <td>0006641040</td>\n",
       "      <td>A2IW4PEEKO2R0U</td>\n",
       "      <td>Tracy</td>\n",
       "      <td>1</td>\n",
       "      <td>1</td>\n",
       "      <td>positive</td>\n",
       "      <td>1194739200</td>\n",
       "      <td>Love the book, miss the hard cover version</td>\n",
       "      <td>I grew up reading these Sendak books, and watc...</td>\n",
       "      <td>b'grew read sendak book watch realli rosi movi...</td>\n",
       "    </tr>\n",
       "  </tbody>\n",
       "</table>\n",
       "</div>"
      ],
      "text/plain": [
       "    index      Id   ProductId          UserId      ProfileName  \\\n",
       "0  138706  150524  0006641040   ACITT7DI6IDDL  shari zychinski   \n",
       "1  138688  150506  0006641040  A2IW4PEEKO2R0U            Tracy   \n",
       "\n",
       "   HelpfulnessNumerator  HelpfulnessDenominator     Score        Time  \\\n",
       "0                     0                       0  positive   939340800   \n",
       "1                     1                       1  positive  1194739200   \n",
       "\n",
       "                                      Summary  \\\n",
       "0                   EVERY book is educational   \n",
       "1  Love the book, miss the hard cover version   \n",
       "\n",
       "                                                Text  \\\n",
       "0  this witty little book makes my son laugh at l...   \n",
       "1  I grew up reading these Sendak books, and watc...   \n",
       "\n",
       "                                         CleanedText  \n",
       "0  b'witti littl book make son laugh loud recit c...  \n",
       "1  b'grew read sendak book watch realli rosi movi...  "
      ]
     },
     "execution_count": 3,
     "metadata": {},
     "output_type": "execute_result"
    }
   ],
   "source": [
    "data = pd.read_sql_query(\"\"\"\n",
    "SELECT *\n",
    "FROM Reviews\"\"\", conn)\n",
    "data.head(2)"
   ]
  },
  {
   "cell_type": "code",
   "execution_count": 4,
   "metadata": {},
   "outputs": [
    {
     "data": {
      "text/plain": [
       "(364171, 12)"
      ]
     },
     "execution_count": 4,
     "metadata": {},
     "output_type": "execute_result"
    }
   ],
   "source": [
    "data.shape"
   ]
  },
  {
   "cell_type": "markdown",
   "metadata": {},
   "source": [
    "## Sorting the DataFrame using Time Column:"
   ]
  },
  {
   "cell_type": "code",
   "execution_count": 5,
   "metadata": {},
   "outputs": [
    {
     "data": {
      "text/html": [
       "<div>\n",
       "<style scoped>\n",
       "    .dataframe tbody tr th:only-of-type {\n",
       "        vertical-align: middle;\n",
       "    }\n",
       "\n",
       "    .dataframe tbody tr th {\n",
       "        vertical-align: top;\n",
       "    }\n",
       "\n",
       "    .dataframe thead th {\n",
       "        text-align: right;\n",
       "    }\n",
       "</style>\n",
       "<table border=\"1\" class=\"dataframe\">\n",
       "  <thead>\n",
       "    <tr style=\"text-align: right;\">\n",
       "      <th></th>\n",
       "      <th>index</th>\n",
       "      <th>Id</th>\n",
       "      <th>ProductId</th>\n",
       "      <th>UserId</th>\n",
       "      <th>ProfileName</th>\n",
       "      <th>HelpfulnessNumerator</th>\n",
       "      <th>HelpfulnessDenominator</th>\n",
       "      <th>Score</th>\n",
       "      <th>Time</th>\n",
       "      <th>Summary</th>\n",
       "      <th>Text</th>\n",
       "      <th>CleanedText</th>\n",
       "    </tr>\n",
       "  </thead>\n",
       "  <tbody>\n",
       "    <tr>\n",
       "      <th>0</th>\n",
       "      <td>138706</td>\n",
       "      <td>150524</td>\n",
       "      <td>0006641040</td>\n",
       "      <td>ACITT7DI6IDDL</td>\n",
       "      <td>shari zychinski</td>\n",
       "      <td>0</td>\n",
       "      <td>0</td>\n",
       "      <td>positive</td>\n",
       "      <td>939340800</td>\n",
       "      <td>EVERY book is educational</td>\n",
       "      <td>this witty little book makes my son laugh at l...</td>\n",
       "      <td>b'witti littl book make son laugh loud recit c...</td>\n",
       "    </tr>\n",
       "    <tr>\n",
       "      <th>30</th>\n",
       "      <td>138683</td>\n",
       "      <td>150501</td>\n",
       "      <td>0006641040</td>\n",
       "      <td>AJ46FKXOVC7NR</td>\n",
       "      <td>Nicholas A Mesiano</td>\n",
       "      <td>2</td>\n",
       "      <td>2</td>\n",
       "      <td>positive</td>\n",
       "      <td>940809600</td>\n",
       "      <td>This whole series is great way to spend time w...</td>\n",
       "      <td>I can remember seeing the show when it aired o...</td>\n",
       "      <td>b'rememb see show air televis year ago child s...</td>\n",
       "    </tr>\n",
       "  </tbody>\n",
       "</table>\n",
       "</div>"
      ],
      "text/plain": [
       "     index      Id   ProductId         UserId         ProfileName  \\\n",
       "0   138706  150524  0006641040  ACITT7DI6IDDL     shari zychinski   \n",
       "30  138683  150501  0006641040  AJ46FKXOVC7NR  Nicholas A Mesiano   \n",
       "\n",
       "    HelpfulnessNumerator  HelpfulnessDenominator     Score       Time  \\\n",
       "0                      0                       0  positive  939340800   \n",
       "30                     2                       2  positive  940809600   \n",
       "\n",
       "                                              Summary  \\\n",
       "0                           EVERY book is educational   \n",
       "30  This whole series is great way to spend time w...   \n",
       "\n",
       "                                                 Text  \\\n",
       "0   this witty little book makes my son laugh at l...   \n",
       "30  I can remember seeing the show when it aired o...   \n",
       "\n",
       "                                          CleanedText  \n",
       "0   b'witti littl book make son laugh loud recit c...  \n",
       "30  b'rememb see show air televis year ago child s...  "
      ]
     },
     "execution_count": 5,
     "metadata": {},
     "output_type": "execute_result"
    }
   ],
   "source": [
    "data = data.sort_values(by='Time')\n",
    "data.head(2)"
   ]
  },
  {
   "cell_type": "markdown",
   "metadata": {},
   "source": [
    "## Preparing the data :\n",
    "\n",
    "> Seperating training data and values to predict."
   ]
  },
  {
   "cell_type": "code",
   "execution_count": 6,
   "metadata": {},
   "outputs": [],
   "source": [
    "# Getting the column names\n",
    "cols = data.columns\n",
    "cols = cols[cols != 'Score']\n",
    "# Train data excluding the score column\n",
    "X = data[cols]\n",
    "# Score coumn\n",
    "Y = data['Score']\n",
    "# Maping positive as 1 and negative as 0\n",
    "mapping_dict = {'positive': 1, 'negative': 0}\n",
    "labels = ['negative', 'positive']\n",
    "# Mapping is done as some metrics dont work with string so a value of 1 or 0 is given to positive or negative.\n",
    "Y = Y.map(mapping_dict)"
   ]
  },
  {
   "cell_type": "markdown",
   "metadata": {},
   "source": [
    "## Time Based Splitting :\n",
    "> Splitting the data into 70% train data and 30% test data."
   ]
  },
  {
   "cell_type": "code",
   "execution_count": 7,
   "metadata": {},
   "outputs": [
    {
     "name": "stdout",
     "output_type": "stream",
     "text": [
      "(178443, 11)\n",
      "(76476, 11)\n",
      "(109252, 11)\n"
     ]
    }
   ],
   "source": [
    "X_train = X[:int((0.7) * X.shape[0])]\n",
    "X_cv = X_train[int(0.7 * X_train.shape[0]):]\n",
    "X_train = X_train[:int((0.7) * X_train.shape[0])]\n",
    "X_test = X[int((0.7) * X.shape[0]):]\n",
    "\n",
    "print(X_train.shape)\n",
    "print(X_cv.shape)\n",
    "print(X_test.shape)"
   ]
  },
  {
   "cell_type": "code",
   "execution_count": 8,
   "metadata": {},
   "outputs": [
    {
     "name": "stdout",
     "output_type": "stream",
     "text": [
      "(178443,)\n",
      "(76476,)\n",
      "(109252,)\n"
     ]
    }
   ],
   "source": [
    "y_train = Y[:int((0.7) * X.shape[0])]\n",
    "y_cv = y_train[ int(0.7 * y_train.shape[0]) : ]\n",
    "y_train = y_train[ : int((0.7) * y_train.shape[0]) ]\n",
    "y_test = Y[int((0.7) * X.shape[0]) : ]\n",
    "\n",
    "print(y_train.shape)\n",
    "print(y_cv.shape)\n",
    "print(y_test.shape)"
   ]
  },
  {
   "cell_type": "markdown",
   "metadata": {},
   "source": [
    "## Tasks to do :\n",
    "\n",
    "Three main Tasks :\n",
    "1. Apply Logistics Regression on BoW, TFIDF, AVGW2V, TFIDF W2V.\n",
    "2. Hyperparameter tune the model.\n",
    "3. Get important features."
   ]
  },
  {
   "cell_type": "markdown",
   "metadata": {},
   "source": [
    "### Bag of Words :"
   ]
  },
  {
   "cell_type": "code",
   "execution_count": 9,
   "metadata": {},
   "outputs": [
    {
     "data": {
      "text/plain": [
       "(178443, 49468)"
      ]
     },
     "execution_count": 9,
     "metadata": {},
     "output_type": "execute_result"
    }
   ],
   "source": [
    "count_vect = CountVectorizer()\n",
    "bow_train = count_vect.fit_transform(X_train['CleanedText'].values)\n",
    "bow_train.shape"
   ]
  },
  {
   "cell_type": "code",
   "execution_count": 10,
   "metadata": {},
   "outputs": [
    {
     "data": {
      "text/plain": [
       "(76476, 49468)"
      ]
     },
     "execution_count": 10,
     "metadata": {},
     "output_type": "execute_result"
    }
   ],
   "source": [
    "bow_cv = count_vect.transform(X_cv['CleanedText'])\n",
    "bow_cv.shape"
   ]
  },
  {
   "cell_type": "code",
   "execution_count": 11,
   "metadata": {},
   "outputs": [
    {
     "data": {
      "text/plain": [
       "(109252, 49468)"
      ]
     },
     "execution_count": 11,
     "metadata": {},
     "output_type": "execute_result"
    }
   ],
   "source": [
    "bow_test = count_vect.transform(X_test['CleanedText'].values)\n",
    "bow_test.shape"
   ]
  },
  {
   "cell_type": "markdown",
   "metadata": {},
   "source": [
    "##### Hyperparameter tuning :"
   ]
  },
  {
   "cell_type": "code",
   "execution_count": 12,
   "metadata": {},
   "outputs": [
    {
     "name": "stdout",
     "output_type": "stream",
     "text": [
      "CV ROC_AUC Score :  0.5  Train ROC_AUC Score :  0.5 C :  1e-05  penalty :  l1\n",
      "CV ROC_AUC Score :  0.6030323423456887  Train ROC_AUC Score :  0.5918217326055184 C :  1e-05  penalty :  l2\n",
      "CV ROC_AUC Score :  0.5  Train ROC_AUC Score :  0.5 C :  5e-05  penalty :  l1\n",
      "CV ROC_AUC Score :  0.7770084150956468  Train ROC_AUC Score :  0.7651586717071146 C :  5e-05  penalty :  l2\n",
      "CV ROC_AUC Score :  0.5  Train ROC_AUC Score :  0.5 C :  0.0001  penalty :  l1\n",
      "CV ROC_AUC Score :  0.8508390236976879  Train ROC_AUC Score :  0.8417477048045323 C :  0.0001  penalty :  l2\n",
      "CV ROC_AUC Score :  0.8033579389078852  Train ROC_AUC Score :  0.7967919721961861 C :  0.001  penalty :  l1\n",
      "CV ROC_AUC Score :  0.9205276652348735  Train ROC_AUC Score :  0.9174302154559966 C :  0.001  penalty :  l2\n",
      "CV ROC_AUC Score :  0.9193246141079783  Train ROC_AUC Score :  0.9127375419033545 C :  0.01  penalty :  l1\n",
      "CV ROC_AUC Score :  0.9395685993226462  Train ROC_AUC Score :  0.9430225472937468 C :  0.01  penalty :  l2\n",
      "CV ROC_AUC Score :  0.941259538018658  Train ROC_AUC Score :  0.9442144665994422 C :  0.1  penalty :  l1\n",
      "CV ROC_AUC Score :  0.9431293100430937  Train ROC_AUC Score :  0.9583839431006043 C :  0.1  penalty :  l2\n",
      "CV ROC_AUC Score :  0.939371840735897  Train ROC_AUC Score :  0.9662756234714807 C :  1  penalty :  l1\n",
      "CV ROC_AUC Score :  0.9391747957993078  Train ROC_AUC Score :  0.9712499775727478 C :  1  penalty :  l2\n",
      "CV ROC_AUC Score :  0.9183860100786952  Train ROC_AUC Score :  0.9845633472300473 C :  10  penalty :  l1\n",
      "CV ROC_AUC Score :  0.9341196778228897  Train ROC_AUC Score :  0.9767933567773921 C :  10  penalty :  l2\n",
      "CV ROC_AUC Score :  0.8915677635967443  Train ROC_AUC Score :  0.9871395935356028 C :  100  penalty :  l1\n",
      "CV ROC_AUC Score :  0.9323365749540768  Train ROC_AUC Score :  0.9781831366189633 C :  100  penalty :  l2\n"
     ]
    }
   ],
   "source": [
    "# Hyperparameter tuning :\n",
    "penalties = ['l1', 'l2']\n",
    "C = [0.00001, 0.00005, 0.0001, 0.001, 0.01, 0.1, 1, 10, 100]\n",
    "cv_scores = []\n",
    "tr_scores = []\n",
    "i = 0\n",
    "for alpha in C:\n",
    "    for p in penalties:\n",
    "        clf = LogisticRegression(penalty=p, C=alpha)\n",
    "        clf.fit(bow_train, y_train)\n",
    "        scores = roc_auc_score(y_true=np.array(y_cv), y_score=clf.predict_proba(bow_cv)[:,1])\n",
    "        cv_scores.append(scores)\n",
    "        scores = roc_auc_score(y_true=np.array(y_train), y_score=clf.predict_proba(bow_train)[:,1])\n",
    "        tr_scores.append(scores)\n",
    "        print(\"CV ROC_AUC Score : \", cv_scores[i], \" Train ROC_AUC Score : \", tr_scores[i], \"C : \", alpha, \" penalty : \", p)\n",
    "        i += 1"
   ]
  },
  {
   "cell_type": "code",
   "execution_count": 15,
   "metadata": {},
   "outputs": [
    {
     "data": {
      "image/png": "[encoded data removed]",
      "text/plain": [
       "<Figure size 1080x216 with 1 Axes>"
      ]
     },
     "metadata": {
      "needs_background": "light"
     },
     "output_type": "display_data"
    }
   ],
   "source": [
    "ticks = ['0.00001+L1', '0.00001+L2', '0.00005+L1', '0.00005+L2', '0.0001+L1', '0.0001+L2', '0.001+L1', '0.001+L2',\n",
    "         '0.01+L1', '0.01+L2', '0.1+L1', '0.1+L2', '1+L1', '1+L2', '10+L1', '10+L2', '100+L1', '100+L2']\n",
    "plt.figure(figsize=(15,3))\n",
    "plt.plot(range(len(C)*len(penalties)), tr_scores)\n",
    "plt.plot(range(len(C)*len(penalties)), cv_scores)\n",
    "plt.xticks(range(len(C)*len(penalties)), ticks, rotation = 45)\n",
    "plt.legend(['train', 'cv'])\n",
    "plt.show()"
   ]
  },
  {
   "cell_type": "markdown",
   "metadata": {},
   "source": [
    "> Best combination of C and penalty is : 0.1 C and l2 penalty"
   ]
  },
  {
   "cell_type": "code",
   "execution_count": 16,
   "metadata": {},
   "outputs": [
    {
     "data": {
      "text/plain": [
       "LogisticRegression(C=0.1, class_weight=None, dual=False, fit_intercept=True,\n",
       "          intercept_scaling=1, max_iter=100, multi_class='warn',\n",
       "          n_jobs=None, penalty='l2', random_state=None, solver='warn',\n",
       "          tol=0.0001, verbose=0, warm_start=False)"
      ]
     },
     "execution_count": 16,
     "metadata": {},
     "output_type": "execute_result"
    }
   ],
   "source": [
    "model = LogisticRegression(C=0.1, penalty='l2')\n",
    "model.fit(bow_train, y_train)"
   ]
  },
  {
   "cell_type": "markdown",
   "metadata": {},
   "source": [
    "##### Test metrics :"
   ]
  },
  {
   "cell_type": "code",
   "execution_count": 17,
   "metadata": {},
   "outputs": [],
   "source": [
    "# Plots confusion matrix using heatmap and calculates and displays TN,FN,TP,FP\n",
    "def plot_confusion_matrix(y_actual, y_predicted):\n",
    "    cm = confusion_matrix(y_predicted, y_actual)\n",
    "    df = pd.DataFrame(data=cm, index=labels, columns=labels)\n",
    "    print(\"Confusion Matrix : \")\n",
    "    plt.figure(figsize=(10,7))\n",
    "    sns.heatmap(df, annot=True)\n",
    "    plt.show()\n",
    "    \n",
    "    TP = 0\n",
    "    FP = 0\n",
    "    TN = 0\n",
    "    FN = 0\n",
    "\n",
    "    for i in range(len(y_predicted)): \n",
    "        if y_actual[i]== 1 and y_predicted[i]==1:\n",
    "            TP += 1\n",
    "        if y_predicted[i]==1 and y_actual[i]!=y_predicted[i]:\n",
    "            FP += 1\n",
    "        if y_actual[i]==y_predicted[i]==0:\n",
    "            TN += 1\n",
    "        if y_predicted[i]==0 and y_actual[i]!=y_predicted[i]:\n",
    "            FN += 1\n",
    "            \n",
    "    print(\"True Positives :\", TP)\n",
    "    print(\"False Positives :\", FP)\n",
    "    print(\"True Negatives :\", TN)\n",
    "    print(\"False Negatives :\", FN)"
   ]
  },
  {
   "cell_type": "code",
   "execution_count": 18,
   "metadata": {},
   "outputs": [],
   "source": [
    "y_pred = model.predict(bow_test)"
   ]
  },
  {
   "cell_type": "code",
   "execution_count": 19,
   "metadata": {},
   "outputs": [
    {
     "name": "stdout",
     "output_type": "stream",
     "text": [
      "Confusion Matrix : \n"
     ]
    },
    {
     "data": {
      "image/png": "[encoded data removed]",
      "text/plain": [
       "<Figure size 720x504 with 2 Axes>"
      ]
     },
     "metadata": {
      "needs_background": "light"
     },
     "output_type": "display_data"
    },
    {
     "name": "stdout",
     "output_type": "stream",
     "text": [
      "True Positives : 87675\n",
      "False Positives : 7203\n",
      "True Negatives : 11878\n",
      "False Negatives : 2496\n"
     ]
    }
   ],
   "source": [
    "plot_confusion_matrix(np.array(y_test), y_pred)"
   ]
  },
  {
   "cell_type": "code",
   "execution_count": 20,
   "metadata": {},
   "outputs": [
    {
     "data": {
      "text/plain": [
       "0.9401458322305265"
      ]
     },
     "execution_count": 20,
     "metadata": {},
     "output_type": "execute_result"
    }
   ],
   "source": [
    "# Printing roc_auc score\n",
    "y_pred = model.predict_proba(bow_test)\n",
    "roc_auc_score(y_true=y_test, y_score=y_pred[:,1])"
   ]
  },
  {
   "cell_type": "markdown",
   "metadata": {},
   "source": [
    "##### Checking sparsity :"
   ]
  },
  {
   "cell_type": "code",
   "execution_count": 21,
   "metadata": {},
   "outputs": [
    {
     "data": {
      "text/plain": [
       "(6,)"
      ]
     },
     "execution_count": 21,
     "metadata": {},
     "output_type": "execute_result"
    }
   ],
   "source": [
    "C_sparse = np.array([0.0001, 0.001, 0.01, 0.1, 1, 10])\n",
    "C_sparse.shape"
   ]
  },
  {
   "cell_type": "code",
   "execution_count": 22,
   "metadata": {},
   "outputs": [
    {
     "name": "stdout",
     "output_type": "stream",
     "text": [
      "For c: 0.0001   NonZero coefficients : 0\n",
      "For c: 0.001   NonZero coefficients : 27\n",
      "For c: 0.01   NonZero coefficients : 310\n",
      "For c: 0.1   NonZero coefficients : 1486\n",
      "For c: 1.0   NonZero coefficients : 6789\n",
      "For c: 10.0   NonZero coefficients : 17301\n"
     ]
    }
   ],
   "source": [
    "spc = [] # Counts number of non zero weights for a given C.\n",
    "error = [] # This wll store error for each val of C\n",
    "for c in C_sparse:\n",
    "    m = LogisticRegression(penalty='l1', C=c)\n",
    "    m.fit(bow_train, y_train)\n",
    "    error.append(1- m.score(bow_test, y_test))\n",
    "    spc.append(np.count_nonzero(m.coef_))\n",
    "    print(\"For c:\", c, \"  NonZero coefficients :\", np.count_nonzero(m.coef_))"
   ]
  },
  {
   "cell_type": "code",
   "execution_count": 23,
   "metadata": {},
   "outputs": [
    {
     "data": {
      "image/png": "[encoded data removed]",
      "text/plain": [
       "<Figure size 432x288 with 1 Axes>"
      ]
     },
     "metadata": {
      "needs_background": "light"
     },
     "output_type": "display_data"
    }
   ],
   "source": [
    "# Plotting C vs Sparsity\n",
    "plt.title(\"C vs Sparsity\")\n",
    "plt.xlabel(\"Values of C\")\n",
    "plt.ylabel(\"Number of non zero weights\")\n",
    "plt.xticks(range(len(C_sparse)), C_sparse)\n",
    "plt.plot(range(len(C_sparse)), spc)\n",
    "plt.show()"
   ]
  },
  {
   "cell_type": "markdown",
   "metadata": {},
   "source": [
    "> As the regulaization strength decreases or C increase the number of non zero weights increase."
   ]
  },
  {
   "cell_type": "code",
   "execution_count": 24,
   "metadata": {},
   "outputs": [
    {
     "data": {
      "image/png": "[encoded data removed]",
      "text/plain": [
       "<Figure size 432x288 with 1 Axes>"
      ]
     },
     "metadata": {
      "needs_background": "light"
     },
     "output_type": "display_data"
    }
   ],
   "source": [
    "# Plotting C vs Error.\n",
    "plt.title(\"C vs Error\")\n",
    "plt.xlabel(\"Values of C\")\n",
    "plt.ylabel(\"Error\")\n",
    "plt.xticks(range(len(C_sparse)), C_sparse)\n",
    "plt.plot(range(len(C_sparse)), error)\n",
    "plt.show()"
   ]
  },
  {
   "cell_type": "markdown",
   "metadata": {},
   "source": [
    "> As regularization strength decrease the error is increasing, so regularization is preventing overfitting of LR Model."
   ]
  },
  {
   "cell_type": "markdown",
   "metadata": {},
   "source": [
    "##### Feature Importance:"
   ]
  },
  {
   "cell_type": "code",
   "execution_count": 25,
   "metadata": {},
   "outputs": [],
   "source": [
    "# Creating a dataframe with feature - weights.\n",
    "df = pd.DataFrame(data=model.coef_.reshape(-1,1), index=count_vect.get_feature_names())"
   ]
  },
  {
   "cell_type": "code",
   "execution_count": 26,
   "metadata": {},
   "outputs": [
    {
     "data": {
      "text/html": [
       "<div>\n",
       "<style scoped>\n",
       "    .dataframe tbody tr th:only-of-type {\n",
       "        vertical-align: middle;\n",
       "    }\n",
       "\n",
       "    .dataframe tbody tr th {\n",
       "        vertical-align: top;\n",
       "    }\n",
       "\n",
       "    .dataframe thead th {\n",
       "        text-align: right;\n",
       "    }\n",
       "</style>\n",
       "<table border=\"1\" class=\"dataframe\">\n",
       "  <thead>\n",
       "    <tr style=\"text-align: right;\">\n",
       "      <th></th>\n",
       "      <th>0</th>\n",
       "    </tr>\n",
       "  </thead>\n",
       "  <tbody>\n",
       "    <tr>\n",
       "      <th>worst</th>\n",
       "      <td>-2.415767</td>\n",
       "    </tr>\n",
       "    <tr>\n",
       "      <th>terribl</th>\n",
       "      <td>-1.755508</td>\n",
       "    </tr>\n",
       "    <tr>\n",
       "      <th>aw</th>\n",
       "      <td>-1.625560</td>\n",
       "    </tr>\n",
       "    <tr>\n",
       "      <th>horribl</th>\n",
       "      <td>-1.579208</td>\n",
       "    </tr>\n",
       "    <tr>\n",
       "      <th>disappoint</th>\n",
       "      <td>-1.501832</td>\n",
       "    </tr>\n",
       "    <tr>\n",
       "      <th>threw</th>\n",
       "      <td>-1.446667</td>\n",
       "    </tr>\n",
       "    <tr>\n",
       "      <th>tasteless</th>\n",
       "      <td>-1.419774</td>\n",
       "    </tr>\n",
       "    <tr>\n",
       "      <th>disgust</th>\n",
       "      <td>-1.404928</td>\n",
       "    </tr>\n",
       "    <tr>\n",
       "      <th>yuck</th>\n",
       "      <td>-1.351462</td>\n",
       "    </tr>\n",
       "    <tr>\n",
       "      <th>bland</th>\n",
       "      <td>-1.347544</td>\n",
       "    </tr>\n",
       "  </tbody>\n",
       "</table>\n",
       "</div>"
      ],
      "text/plain": [
       "                   0\n",
       "worst      -2.415767\n",
       "terribl    -1.755508\n",
       "aw         -1.625560\n",
       "horribl    -1.579208\n",
       "disappoint -1.501832\n",
       "threw      -1.446667\n",
       "tasteless  -1.419774\n",
       "disgust    -1.404928\n",
       "yuck       -1.351462\n",
       "bland      -1.347544"
      ]
     },
     "execution_count": 26,
     "metadata": {},
     "output_type": "execute_result"
    }
   ],
   "source": [
    "# Top 10 negative feature coefficients..\n",
    "df.sort_values(by = 0).head(10)"
   ]
  },
  {
   "cell_type": "code",
   "execution_count": 27,
   "metadata": {},
   "outputs": [
    {
     "data": {
      "text/html": [
       "<div>\n",
       "<style scoped>\n",
       "    .dataframe tbody tr th:only-of-type {\n",
       "        vertical-align: middle;\n",
       "    }\n",
       "\n",
       "    .dataframe tbody tr th {\n",
       "        vertical-align: top;\n",
       "    }\n",
       "\n",
       "    .dataframe thead th {\n",
       "        text-align: right;\n",
       "    }\n",
       "</style>\n",
       "<table border=\"1\" class=\"dataframe\">\n",
       "  <thead>\n",
       "    <tr style=\"text-align: right;\">\n",
       "      <th></th>\n",
       "      <th>0</th>\n",
       "    </tr>\n",
       "  </thead>\n",
       "  <tbody>\n",
       "    <tr>\n",
       "      <th>delici</th>\n",
       "      <td>1.561867</td>\n",
       "    </tr>\n",
       "    <tr>\n",
       "      <th>excel</th>\n",
       "      <td>1.405759</td>\n",
       "    </tr>\n",
       "    <tr>\n",
       "      <th>amaz</th>\n",
       "      <td>1.327336</td>\n",
       "    </tr>\n",
       "    <tr>\n",
       "      <th>perfect</th>\n",
       "      <td>1.326261</td>\n",
       "    </tr>\n",
       "    <tr>\n",
       "      <th>hook</th>\n",
       "      <td>1.313772</td>\n",
       "    </tr>\n",
       "    <tr>\n",
       "      <th>addict</th>\n",
       "      <td>1.283823</td>\n",
       "    </tr>\n",
       "    <tr>\n",
       "      <th>awesom</th>\n",
       "      <td>1.265760</td>\n",
       "    </tr>\n",
       "    <tr>\n",
       "      <th>yummi</th>\n",
       "      <td>1.239095</td>\n",
       "    </tr>\n",
       "    <tr>\n",
       "      <th>beat</th>\n",
       "      <td>1.238024</td>\n",
       "    </tr>\n",
       "    <tr>\n",
       "      <th>skeptic</th>\n",
       "      <td>1.232962</td>\n",
       "    </tr>\n",
       "  </tbody>\n",
       "</table>\n",
       "</div>"
      ],
      "text/plain": [
       "                0\n",
       "delici   1.561867\n",
       "excel    1.405759\n",
       "amaz     1.327336\n",
       "perfect  1.326261\n",
       "hook     1.313772\n",
       "addict   1.283823\n",
       "awesom   1.265760\n",
       "yummi    1.239095\n",
       "beat     1.238024\n",
       "skeptic  1.232962"
      ]
     },
     "execution_count": 27,
     "metadata": {},
     "output_type": "execute_result"
    }
   ],
   "source": [
    "# Top 10 positive features :\n",
    "df.sort_values(by = 0, ascending=False).head(10)"
   ]
  },
  {
   "cell_type": "markdown",
   "metadata": {},
   "source": [
    "##### Perturbation Test :"
   ]
  },
  {
   "cell_type": "code",
   "execution_count": 28,
   "metadata": {},
   "outputs": [
    {
     "data": {
      "text/plain": [
       "(5553632,)"
      ]
     },
     "execution_count": 28,
     "metadata": {},
     "output_type": "execute_result"
    }
   ],
   "source": [
    "# Adding noise to csr matrix\n",
    "epsilon = 0.00005\n",
    "bow_train_2 = bow_train.data + epsilon\n",
    "bow_train_2.shape"
   ]
  },
  {
   "cell_type": "code",
   "execution_count": 29,
   "metadata": {},
   "outputs": [
    {
     "data": {
      "text/plain": [
       "(178443, 49468)"
      ]
     },
     "execution_count": 29,
     "metadata": {},
     "output_type": "execute_result"
    }
   ],
   "source": [
    "# Converting to CSR_Matrix..\n",
    "bow_train_2 = csr_matrix((bow_train_2, bow_train.indices, bow_train.indptr), shape=bow_train.shape)\n",
    "bow_train_2.shape"
   ]
  },
  {
   "cell_type": "code",
   "execution_count": 30,
   "metadata": {},
   "outputs": [
    {
     "data": {
      "text/plain": [
       "LogisticRegression(C=0.1, class_weight=None, dual=False, fit_intercept=True,\n",
       "          intercept_scaling=1, max_iter=100, multi_class='warn',\n",
       "          n_jobs=None, penalty='l2', random_state=None, solver='warn',\n",
       "          tol=0.0001, verbose=0, warm_start=False)"
      ]
     },
     "execution_count": 30,
     "metadata": {},
     "output_type": "execute_result"
    }
   ],
   "source": [
    "model_2 = LogisticRegression(C=0.1, penalty='l2')\n",
    "model_2.fit(bow_train_2, y_train)"
   ]
  },
  {
   "cell_type": "code",
   "execution_count": 31,
   "metadata": {},
   "outputs": [
    {
     "data": {
      "text/plain": [
       "(49468,)"
      ]
     },
     "execution_count": 31,
     "metadata": {},
     "output_type": "execute_result"
    }
   ],
   "source": [
    "# Finding percentage change :\n",
    "# Adding a very small value to avoid divison by zero error\n",
    "w = model.coef_ + 0.0000001\n",
    "w_dash = model_2.coef_\n",
    "\n",
    "# Percentage change = (original - changed)/original * 100\n",
    "diff = w - w_dash\n",
    "change = diff*1.0/w\n",
    "percentage_change = change * 100\n",
    "percentage_change = percentage_change[0]\n",
    "percentage_change.shape"
   ]
  },
  {
   "cell_type": "code",
   "execution_count": 32,
   "metadata": {},
   "outputs": [
    {
     "name": "stdout",
     "output_type": "stream",
     "text": [
      " 10th Percentile value : -0.01630\n",
      " 20th Percentile value : -0.01234\n",
      " 30th Percentile value : -0.00919\n",
      " 40th Percentile value : -0.00605\n",
      " 50th Percentile value : -0.00279\n",
      " 60th Percentile value : 0.00092\n",
      " 70th Percentile value : 0.00631\n",
      " 80th Percentile value : 0.02403\n",
      " 90th Percentile value : 0.15188\n",
      "100th Percentile value : 17632.76550\n"
     ]
    }
   ],
   "source": [
    "# Printing Percentiles :\n",
    "for i in range(10, 101, 10):\n",
    "    print(\"{:3d}th Percentile value : {:.5f}\".format(i, np.percentile(percentage_change, i)))"
   ]
  },
  {
   "cell_type": "markdown",
   "metadata": {},
   "source": [
    "> We see that there is a abrupt change when going from 90th percentile to 100th percentile."
   ]
  },
  {
   "cell_type": "code",
   "execution_count": 33,
   "metadata": {},
   "outputs": [
    {
     "name": "stdout",
     "output_type": "stream",
     "text": [
      " 91th Percentile value : 0.20115\n",
      " 92th Percentile value : 0.27799\n",
      " 93th Percentile value : 0.40031\n",
      " 94th Percentile value : 0.64472\n",
      " 95th Percentile value : 1.08919\n",
      " 96th Percentile value : 2.21258\n",
      " 97th Percentile value : 6.11973\n",
      " 98th Percentile value : 20.03829\n",
      " 99th Percentile value : 87.13591\n",
      "100th Percentile value : 17632.76550\n"
     ]
    }
   ],
   "source": [
    "# Printing close percentiles :\n",
    "for i in range(91, 101, 1):\n",
    "    print(\"{:3d}th Percentile value : {:.5f}\".format(i, np.percentile(percentage_change, i)))"
   ]
  },
  {
   "cell_type": "code",
   "execution_count": 34,
   "metadata": {},
   "outputs": [
    {
     "name": "stdout",
     "output_type": "stream",
     "text": [
      "99.1th Percentile value :94.83285\n",
      "99.2th Percentile value :101.88830\n",
      "99.3th Percentile value :107.80067\n",
      "99.4th Percentile value :113.59370\n",
      "99.5th Percentile value :124.59235\n",
      "99.6th Percentile value :135.30181\n",
      "99.7th Percentile value :157.90281\n",
      "99.8th Percentile value :192.05636\n",
      "99.9th Percentile value :284.09278\n",
      "100.0th Percentile value :17632.76550\n"
     ]
    }
   ],
   "source": [
    "# Lookign at 99.1, 99.2 percentiles :\n",
    "for i in range(1, 11, 1):\n",
    "    print(\"{:.1f}th Percentile value :{:.5f}\".format(i*1.0/10 + 99, np.percentile(percentage_change, i*1.0/10 + 99)))"
   ]
  },
  {
   "cell_type": "markdown",
   "metadata": {},
   "source": [
    "> We see that there is an abrupt change from 99.9th percentile to 100th percentile. Let' see what these values are :"
   ]
  },
  {
   "cell_type": "code",
   "execution_count": 35,
   "metadata": {},
   "outputs": [
    {
     "data": {
      "text/html": [
       "<div>\n",
       "<style scoped>\n",
       "    .dataframe tbody tr th:only-of-type {\n",
       "        vertical-align: middle;\n",
       "    }\n",
       "\n",
       "    .dataframe tbody tr th {\n",
       "        vertical-align: top;\n",
       "    }\n",
       "\n",
       "    .dataframe thead th {\n",
       "        text-align: right;\n",
       "    }\n",
       "</style>\n",
       "<table border=\"1\" class=\"dataframe\">\n",
       "  <thead>\n",
       "    <tr style=\"text-align: right;\">\n",
       "      <th></th>\n",
       "      <th>%Change</th>\n",
       "    </tr>\n",
       "  </thead>\n",
       "  <tbody>\n",
       "    <tr>\n",
       "      <th>aa</th>\n",
       "      <td>-0.012965</td>\n",
       "    </tr>\n",
       "    <tr>\n",
       "      <th>aaa</th>\n",
       "      <td>0.001329</td>\n",
       "    </tr>\n",
       "  </tbody>\n",
       "</table>\n",
       "</div>"
      ],
      "text/plain": [
       "      %Change\n",
       "aa  -0.012965\n",
       "aaa  0.001329"
      ]
     },
     "execution_count": 35,
     "metadata": {},
     "output_type": "execute_result"
    }
   ],
   "source": [
    "# Creating dataframe of percentage change..\n",
    "percendf = pd.DataFrame(percentage_change, index = count_vect.get_feature_names(), columns=['%Change'])\n",
    "percendf.head(2)"
   ]
  },
  {
   "cell_type": "code",
   "execution_count": 36,
   "metadata": {},
   "outputs": [
    {
     "data": {
      "text/plain": [
       "(50, 1)"
      ]
     },
     "execution_count": 36,
     "metadata": {},
     "output_type": "execute_result"
    }
   ],
   "source": [
    "# Getting those features/words where the percentage change is more than 335% .\n",
    "percendf = percendf[percendf['%Change'] > 284]\n",
    "percendf.shape"
   ]
  },
  {
   "cell_type": "code",
   "execution_count": 37,
   "metadata": {},
   "outputs": [
    {
     "data": {
      "text/html": [
       "<div>\n",
       "<style scoped>\n",
       "    .dataframe tbody tr th:only-of-type {\n",
       "        vertical-align: middle;\n",
       "    }\n",
       "\n",
       "    .dataframe tbody tr th {\n",
       "        vertical-align: top;\n",
       "    }\n",
       "\n",
       "    .dataframe thead th {\n",
       "        text-align: right;\n",
       "    }\n",
       "</style>\n",
       "<table border=\"1\" class=\"dataframe\">\n",
       "  <thead>\n",
       "    <tr style=\"text-align: right;\">\n",
       "      <th></th>\n",
       "      <th>%Change</th>\n",
       "    </tr>\n",
       "  </thead>\n",
       "  <tbody>\n",
       "    <tr>\n",
       "      <th>powerse</th>\n",
       "      <td>307.137996</td>\n",
       "    </tr>\n",
       "    <tr>\n",
       "      <th>lamington</th>\n",
       "      <td>305.293921</td>\n",
       "    </tr>\n",
       "    <tr>\n",
       "      <th>cooconut</th>\n",
       "      <td>305.293921</td>\n",
       "    </tr>\n",
       "    <tr>\n",
       "      <th>hao</th>\n",
       "      <td>294.219320</td>\n",
       "    </tr>\n",
       "    <tr>\n",
       "      <th>effronteri</th>\n",
       "      <td>286.243729</td>\n",
       "    </tr>\n",
       "  </tbody>\n",
       "</table>\n",
       "</div>"
      ],
      "text/plain": [
       "               %Change\n",
       "powerse     307.137996\n",
       "lamington   305.293921\n",
       "cooconut    305.293921\n",
       "hao         294.219320\n",
       "effronteri  286.243729"
      ]
     },
     "execution_count": 37,
     "metadata": {},
     "output_type": "execute_result"
    }
   ],
   "source": [
    "percendf.sort_values(by='%Change', ascending=False, inplace=True)\n",
    "percendf.tail(5)"
   ]
  },
  {
   "cell_type": "markdown",
   "metadata": {},
   "source": [
    "#### Conclusions for BoW:\n",
    "\n",
    "1. CV auc_roc score - 0.9583\n",
    "2. Test auc_roc score - 0.9401\n",
    "3. From feature importance we see that if a review contains the word <b style=\"color:red\">worst</b> then it is likely a negative review.\n",
    "4. From feature importance we see that if a review contaisn the word <b style=\"color:green\">delici</b> then it is more likely to be positive review.\n",
    "5. From perturbation test we see that there are many features where the percentage change is a whole lot more. Some feature are - powerse, lamington etc."
   ]
  },
  {
   "cell_type": "markdown",
   "metadata": {},
   "source": [
    "### TFIDF :"
   ]
  },
  {
   "cell_type": "code",
   "execution_count": 38,
   "metadata": {},
   "outputs": [
    {
     "data": {
      "text/plain": [
       "(178443, 49468)"
      ]
     },
     "execution_count": 38,
     "metadata": {},
     "output_type": "execute_result"
    }
   ],
   "source": [
    "# Generating TFIDF features.\n",
    "tfidf = TfidfVectorizer()\n",
    "tf_train = tfidf.fit_transform(X_train['CleanedText'].values)\n",
    "tf_train.shape"
   ]
  },
  {
   "cell_type": "code",
   "execution_count": 39,
   "metadata": {},
   "outputs": [
    {
     "data": {
      "text/plain": [
       "(76476, 49468)"
      ]
     },
     "execution_count": 39,
     "metadata": {},
     "output_type": "execute_result"
    }
   ],
   "source": [
    "tf_cv = tfidf.transform(X_cv['CleanedText'].values)\n",
    "tf_cv.shape"
   ]
  },
  {
   "cell_type": "code",
   "execution_count": 40,
   "metadata": {},
   "outputs": [
    {
     "data": {
      "text/plain": [
       "(109252, 49468)"
      ]
     },
     "execution_count": 40,
     "metadata": {},
     "output_type": "execute_result"
    }
   ],
   "source": [
    "tf_test = tfidf.transform(X_test['CleanedText'].values)\n",
    "tf_test.shape"
   ]
  },
  {
   "cell_type": "markdown",
   "metadata": {},
   "source": [
    "##### Hyperparameter tuning :"
   ]
  },
  {
   "cell_type": "code",
   "execution_count": 41,
   "metadata": {},
   "outputs": [
    {
     "name": "stdout",
     "output_type": "stream",
     "text": [
      "CV ROC_AUC Score :  0.5  Train ROC_AUC Score :  0.5 C :  1e-05  penalty :  l1\n",
      "CV ROC_AUC Score :  0.6774983648669006  Train ROC_AUC Score :  0.6698887726199152 C :  1e-05  penalty :  l2\n",
      "CV ROC_AUC Score :  0.5  Train ROC_AUC Score :  0.5 C :  5e-05  penalty :  l1\n",
      "CV ROC_AUC Score :  0.7542288564198806  Train ROC_AUC Score :  0.7454850770616036 C :  5e-05  penalty :  l2\n",
      "CV ROC_AUC Score :  0.5  Train ROC_AUC Score :  0.5 C :  0.0001  penalty :  l1\n",
      "CV ROC_AUC Score :  0.8110593172448647  Train ROC_AUC Score :  0.802760294027889 C :  0.0001  penalty :  l2\n",
      "CV ROC_AUC Score :  0.5  Train ROC_AUC Score :  0.5 C :  0.001  penalty :  l1\n",
      "CV ROC_AUC Score :  0.9105174475355713  Train ROC_AUC Score :  0.907124307840478 C :  0.001  penalty :  l2\n",
      "CV ROC_AUC Score :  0.8451948122113099  Train ROC_AUC Score :  0.8379936201686762 C :  0.01  penalty :  l1\n",
      "CV ROC_AUC Score :  0.9255010726199832  Train ROC_AUC Score :  0.9234204803877508 C :  0.01  penalty :  l2\n",
      "CV ROC_AUC Score :  0.9376961402009798  Train ROC_AUC Score :  0.9326020083121096 C :  0.1  penalty :  l1\n",
      "CV ROC_AUC Score :  0.9455638032189739  Train ROC_AUC Score :  0.9455658931659772 C :  0.1  penalty :  l2\n",
      "CV ROC_AUC Score :  0.952787833956573  Train ROC_AUC Score :  0.9565035198043031 C :  1  penalty :  l1\n",
      "CV ROC_AUC Score :  0.9534989378710534  Train ROC_AUC Score :  0.9605184543169616 C :  1  penalty :  l2\n",
      "CV ROC_AUC Score :  0.945643126957504  Train ROC_AUC Score :  0.9781131800261763 C :  10  penalty :  l1\n",
      "CV ROC_AUC Score :  0.9516965263238031  Train ROC_AUC Score :  0.973136594547006 C :  10  penalty :  l2\n",
      "CV ROC_AUC Score :  0.9168709518038991  Train ROC_AUC Score :  0.9851529735807829 C :  100  penalty :  l1\n",
      "CV ROC_AUC Score :  0.9408501719252292  Train ROC_AUC Score :  0.9816732886905759 C :  100  penalty :  l2\n"
     ]
    }
   ],
   "source": [
    "# Hyperparameter tuning :\n",
    "penalties = ['l1', 'l2']\n",
    "C = [0.00001, 0.00005, 0.0001, 0.001, 0.01, 0.1, 1, 10, 100]\n",
    "cv_scores = []\n",
    "tr_scores = []\n",
    "i = 0\n",
    "for alpha in C:\n",
    "    for p in penalties:\n",
    "        clf = LogisticRegression(penalty=p, C=alpha)\n",
    "        clf.fit(tf_train, y_train)\n",
    "        scores = roc_auc_score(y_true=np.array(y_cv), y_score=clf.predict_proba(tf_cv)[:,1])\n",
    "        cv_scores.append(scores)\n",
    "        scores = roc_auc_score(y_true=np.array(y_train), y_score=clf.predict_proba(tf_train)[:,1])\n",
    "        tr_scores.append(scores)\n",
    "        print(\"CV ROC_AUC Score : \", cv_scores[i], \" Train ROC_AUC Score : \", tr_scores[i], \"C : \", alpha, \" penalty : \", p)\n",
    "        i += 1"
   ]
  },
  {
   "cell_type": "code",
   "execution_count": 72,
   "metadata": {},
   "outputs": [
    {
     "data": {
      "image/png": "[encoded data removed]",
      "text/plain": [
       "<Figure size 1080x216 with 1 Axes>"
      ]
     },
     "metadata": {
      "needs_background": "light"
     },
     "output_type": "display_data"
    }
   ],
   "source": [
    "ticks = ['0.00001+L1', '0.00001+L2', '0.00005+L1', '0.00005+L2', '0.0001+L1', '0.0001+L2', '0.001+L1', '0.001+L2',\n",
    "         '0.01+L1', '0.01+L2', '0.1+L1', '0.1+L2', '1+L1', '1+L2', '10+L1', '10+L2', '100+L1', '100+L2']\n",
    "plt.figure(figsize=(15,3))\n",
    "plt.plot(range(len(C)*len(penalties)), tr_scores)\n",
    "plt.plot(range(len(C)*len(penalties)), cv_scores)\n",
    "plt.xticks(range(len(C)*len(penalties)), ticks, rotation = 45)\n",
    "plt.legend(['train', 'cv'])\n",
    "plt.show()"
   ]
  },
  {
   "cell_type": "code",
   "execution_count": 42,
   "metadata": {},
   "outputs": [
    {
     "data": {
      "text/plain": [
       "LogisticRegression(C=1, class_weight=None, dual=False, fit_intercept=True,\n",
       "          intercept_scaling=1, max_iter=100, multi_class='warn',\n",
       "          n_jobs=None, penalty='l2', random_state=None, solver='warn',\n",
       "          tol=0.0001, verbose=0, warm_start=False)"
      ]
     },
     "execution_count": 42,
     "metadata": {},
     "output_type": "execute_result"
    }
   ],
   "source": [
    "model = LogisticRegression(C=1, penalty='l2')\n",
    "model.fit(tf_train, y_train)"
   ]
  },
  {
   "cell_type": "markdown",
   "metadata": {},
   "source": [
    "##### Test Metrics :"
   ]
  },
  {
   "cell_type": "code",
   "execution_count": 43,
   "metadata": {},
   "outputs": [
    {
     "name": "stdout",
     "output_type": "stream",
     "text": [
      "Confusion Matrix : \n"
     ]
    },
    {
     "data": {
      "image/png": "[encoded data removed]",
      "text/plain": [
       "<Figure size 720x504 with 2 Axes>"
      ]
     },
     "metadata": {
      "needs_background": "light"
     },
     "output_type": "display_data"
    },
    {
     "name": "stdout",
     "output_type": "stream",
     "text": [
      "True Positives : 88045\n",
      "False Positives : 7259\n",
      "True Negatives : 11822\n",
      "False Negatives : 2126\n"
     ]
    }
   ],
   "source": [
    "y_pred = model.predict(tf_test)\n",
    "plot_confusion_matrix(np.array(y_test), y_pred)"
   ]
  },
  {
   "cell_type": "code",
   "execution_count": 44,
   "metadata": {},
   "outputs": [
    {
     "data": {
      "text/plain": [
       "0.9504780141159408"
      ]
     },
     "execution_count": 44,
     "metadata": {},
     "output_type": "execute_result"
    }
   ],
   "source": [
    "# Printing roc_auc score\n",
    "y_pred = model.predict_proba(tf_test)[:,1]\n",
    "roc_auc_score(y_true=y_test, y_score=y_pred)"
   ]
  },
  {
   "cell_type": "markdown",
   "metadata": {},
   "source": [
    "##### Checking sparsity :"
   ]
  },
  {
   "cell_type": "code",
   "execution_count": 45,
   "metadata": {},
   "outputs": [
    {
     "name": "stdout",
     "output_type": "stream",
     "text": [
      "For c: 0.0001   NonZero coefficients : 0\n",
      "For c: 0.001   NonZero coefficients : 0\n",
      "For c: 0.01   NonZero coefficients : 36\n",
      "For c: 0.1   NonZero coefficients : 440\n",
      "For c: 1.0   NonZero coefficients : 2427\n",
      "For c: 10.0   NonZero coefficients : 12747\n"
     ]
    }
   ],
   "source": [
    "spc = [] # Counts number of non zero weights for a given C.\n",
    "error = [] # This wll store error for each val of C\n",
    "for c in C_sparse:\n",
    "    m = LogisticRegression(penalty='l1', C=c)\n",
    "    m.fit(tf_train, y_train)\n",
    "    error.append(1- m.score(tf_test, y_test))\n",
    "    spc.append(np.count_nonzero(m.coef_))\n",
    "    print(\"For c:\", c, \"  NonZero coefficients :\", np.count_nonzero(m.coef_))"
   ]
  },
  {
   "cell_type": "code",
   "execution_count": 46,
   "metadata": {},
   "outputs": [
    {
     "data": {
      "image/png": "[encoded data removed]",
      "text/plain": [
       "<Figure size 432x288 with 1 Axes>"
      ]
     },
     "metadata": {
      "needs_background": "light"
     },
     "output_type": "display_data"
    }
   ],
   "source": [
    "# Plotting C vs Sparsity\n",
    "plt.title(\"C vs Sparsity\")\n",
    "plt.xlabel(\"Values of C\")\n",
    "plt.ylabel(\"Number of non zero weights\")\n",
    "plt.xticks(range(len(C_sparse)), C_sparse)\n",
    "plt.plot(range(len(C_sparse)), spc)\n",
    "plt.show()"
   ]
  },
  {
   "cell_type": "markdown",
   "metadata": {},
   "source": [
    "> Non zero weights increase as regularization strength decrease."
   ]
  },
  {
   "cell_type": "code",
   "execution_count": 47,
   "metadata": {},
   "outputs": [
    {
     "data": {
      "image/png": "[encoded data removed]",
      "text/plain": [
       "<Figure size 432x288 with 1 Axes>"
      ]
     },
     "metadata": {
      "needs_background": "light"
     },
     "output_type": "display_data"
    }
   ],
   "source": [
    "# Plotting C vs Error.\n",
    "plt.title(\"C vs Error\")\n",
    "plt.xlabel(\"Values of C\")\n",
    "plt.ylabel(\"Error\")\n",
    "plt.xticks(range(len(C_sparse)), C_sparse)\n",
    "plt.plot(range(len(C_sparse)), error)\n",
    "plt.show()"
   ]
  },
  {
   "cell_type": "markdown",
   "metadata": {},
   "source": [
    "##### Feature Importance:"
   ]
  },
  {
   "cell_type": "code",
   "execution_count": 48,
   "metadata": {},
   "outputs": [],
   "source": [
    "# Creating a dataframe with feature - weights.\n",
    "df = pd.DataFrame(data=model.coef_.reshape(-1,1), index=tfidf.get_feature_names())"
   ]
  },
  {
   "cell_type": "code",
   "execution_count": 49,
   "metadata": {},
   "outputs": [
    {
     "data": {
      "text/html": [
       "<div>\n",
       "<style scoped>\n",
       "    .dataframe tbody tr th:only-of-type {\n",
       "        vertical-align: middle;\n",
       "    }\n",
       "\n",
       "    .dataframe tbody tr th {\n",
       "        vertical-align: top;\n",
       "    }\n",
       "\n",
       "    .dataframe thead th {\n",
       "        text-align: right;\n",
       "    }\n",
       "</style>\n",
       "<table border=\"1\" class=\"dataframe\">\n",
       "  <thead>\n",
       "    <tr style=\"text-align: right;\">\n",
       "      <th></th>\n",
       "      <th>0</th>\n",
       "    </tr>\n",
       "  </thead>\n",
       "  <tbody>\n",
       "    <tr>\n",
       "      <th>worst</th>\n",
       "      <td>-10.199662</td>\n",
       "    </tr>\n",
       "    <tr>\n",
       "      <th>disappoint</th>\n",
       "      <td>-8.556547</td>\n",
       "    </tr>\n",
       "    <tr>\n",
       "      <th>terribl</th>\n",
       "      <td>-7.792601</td>\n",
       "    </tr>\n",
       "    <tr>\n",
       "      <th>aw</th>\n",
       "      <td>-7.308264</td>\n",
       "    </tr>\n",
       "    <tr>\n",
       "      <th>horribl</th>\n",
       "      <td>-7.142684</td>\n",
       "    </tr>\n",
       "    <tr>\n",
       "      <th>threw</th>\n",
       "      <td>-6.256774</td>\n",
       "    </tr>\n",
       "    <tr>\n",
       "      <th>unfortun</th>\n",
       "      <td>-6.163699</td>\n",
       "    </tr>\n",
       "    <tr>\n",
       "      <th>disgust</th>\n",
       "      <td>-6.135713</td>\n",
       "    </tr>\n",
       "    <tr>\n",
       "      <th>bland</th>\n",
       "      <td>-5.954374</td>\n",
       "    </tr>\n",
       "    <tr>\n",
       "      <th>return</th>\n",
       "      <td>-5.925929</td>\n",
       "    </tr>\n",
       "  </tbody>\n",
       "</table>\n",
       "</div>"
      ],
      "text/plain": [
       "                    0\n",
       "worst      -10.199662\n",
       "disappoint  -8.556547\n",
       "terribl     -7.792601\n",
       "aw          -7.308264\n",
       "horribl     -7.142684\n",
       "threw       -6.256774\n",
       "unfortun    -6.163699\n",
       "disgust     -6.135713\n",
       "bland       -5.954374\n",
       "return      -5.925929"
      ]
     },
     "execution_count": 49,
     "metadata": {},
     "output_type": "execute_result"
    }
   ],
   "source": [
    "# Top 10 negative feature coefficients..\n",
    "df.sort_values(by = 0).head(10)"
   ]
  },
  {
   "cell_type": "code",
   "execution_count": 50,
   "metadata": {},
   "outputs": [
    {
     "data": {
      "text/html": [
       "<div>\n",
       "<style scoped>\n",
       "    .dataframe tbody tr th:only-of-type {\n",
       "        vertical-align: middle;\n",
       "    }\n",
       "\n",
       "    .dataframe tbody tr th {\n",
       "        vertical-align: top;\n",
       "    }\n",
       "\n",
       "    .dataframe thead th {\n",
       "        text-align: right;\n",
       "    }\n",
       "</style>\n",
       "<table border=\"1\" class=\"dataframe\">\n",
       "  <thead>\n",
       "    <tr style=\"text-align: right;\">\n",
       "      <th></th>\n",
       "      <th>0</th>\n",
       "    </tr>\n",
       "  </thead>\n",
       "  <tbody>\n",
       "    <tr>\n",
       "      <th>great</th>\n",
       "      <td>12.207917</td>\n",
       "    </tr>\n",
       "    <tr>\n",
       "      <th>delici</th>\n",
       "      <td>10.397972</td>\n",
       "    </tr>\n",
       "    <tr>\n",
       "      <th>best</th>\n",
       "      <td>10.368612</td>\n",
       "    </tr>\n",
       "    <tr>\n",
       "      <th>love</th>\n",
       "      <td>9.256229</td>\n",
       "    </tr>\n",
       "    <tr>\n",
       "      <th>perfect</th>\n",
       "      <td>8.808885</td>\n",
       "    </tr>\n",
       "    <tr>\n",
       "      <th>excel</th>\n",
       "      <td>8.288287</td>\n",
       "    </tr>\n",
       "    <tr>\n",
       "      <th>amaz</th>\n",
       "      <td>6.919878</td>\n",
       "    </tr>\n",
       "    <tr>\n",
       "      <th>good</th>\n",
       "      <td>6.345056</td>\n",
       "    </tr>\n",
       "    <tr>\n",
       "      <th>nice</th>\n",
       "      <td>6.240103</td>\n",
       "    </tr>\n",
       "    <tr>\n",
       "      <th>favorit</th>\n",
       "      <td>6.097244</td>\n",
       "    </tr>\n",
       "  </tbody>\n",
       "</table>\n",
       "</div>"
      ],
      "text/plain": [
       "                 0\n",
       "great    12.207917\n",
       "delici   10.397972\n",
       "best     10.368612\n",
       "love      9.256229\n",
       "perfect   8.808885\n",
       "excel     8.288287\n",
       "amaz      6.919878\n",
       "good      6.345056\n",
       "nice      6.240103\n",
       "favorit   6.097244"
      ]
     },
     "execution_count": 50,
     "metadata": {},
     "output_type": "execute_result"
    }
   ],
   "source": [
    "# Top 10 positive features :\n",
    "df.sort_values(by = 0, ascending=False).head(10)"
   ]
  },
  {
   "cell_type": "markdown",
   "metadata": {},
   "source": [
    "> Reviews containing the words like <b style=\"color:red\">worst, disappoint, return, disgust</b> etc. are likely to be negative reviews.\n",
    "\n",
    "> Reviews containing the words like <b style=\"color:green\">great, delici, best, prefect, love</b> etc. are likely to be positive reviews."
   ]
  },
  {
   "cell_type": "markdown",
   "metadata": {},
   "source": [
    "##### Perturbation Test :"
   ]
  },
  {
   "cell_type": "code",
   "execution_count": 51,
   "metadata": {},
   "outputs": [
    {
     "data": {
      "text/plain": [
       "(5553632,)"
      ]
     },
     "execution_count": 51,
     "metadata": {},
     "output_type": "execute_result"
    }
   ],
   "source": [
    "# Adding noise to csr matrix\n",
    "epsilon = 0.000001\n",
    "tf_train_2 = tf_train.data + epsilon\n",
    "tf_train_2.shape"
   ]
  },
  {
   "cell_type": "code",
   "execution_count": 52,
   "metadata": {},
   "outputs": [
    {
     "data": {
      "text/plain": [
       "(178443, 49468)"
      ]
     },
     "execution_count": 52,
     "metadata": {},
     "output_type": "execute_result"
    }
   ],
   "source": [
    "# Converting to CSR_Matrix..\n",
    "tf_train_2 = csr_matrix((tf_train_2, tf_train.indices, tf_train.indptr), shape=tf_train.shape)\n",
    "tf_train_2.shape"
   ]
  },
  {
   "cell_type": "code",
   "execution_count": 53,
   "metadata": {},
   "outputs": [
    {
     "data": {
      "text/plain": [
       "LogisticRegression(C=1, class_weight=None, dual=False, fit_intercept=True,\n",
       "          intercept_scaling=1, max_iter=100, multi_class='warn',\n",
       "          n_jobs=None, penalty='l2', random_state=None, solver='warn',\n",
       "          tol=0.0001, verbose=0, warm_start=False)"
      ]
     },
     "execution_count": 53,
     "metadata": {},
     "output_type": "execute_result"
    }
   ],
   "source": [
    "model_2 = LogisticRegression(C=1, penalty='l2')\n",
    "model_2.fit(tf_train_2, y_train)"
   ]
  },
  {
   "cell_type": "code",
   "execution_count": 54,
   "metadata": {},
   "outputs": [
    {
     "data": {
      "text/plain": [
       "(49468,)"
      ]
     },
     "execution_count": 54,
     "metadata": {},
     "output_type": "execute_result"
    }
   ],
   "source": [
    "# Finding percentage change :\n",
    "# Adding a very small value to avoid divison by zero error\n",
    "w = model.coef_ + 0.0000001\n",
    "w_dash = model_2.coef_\n",
    "\n",
    "# Percentage change = (original - changed)/original * 100\n",
    "diff = w - w_dash\n",
    "change = diff*1.0/w\n",
    "percentage_change = change * 100\n",
    "percentage_change = percentage_change[0]\n",
    "percentage_change.shape"
   ]
  },
  {
   "cell_type": "code",
   "execution_count": 55,
   "metadata": {},
   "outputs": [
    {
     "name": "stdout",
     "output_type": "stream",
     "text": [
      " 10th Percentile value : -0.04740\n",
      " 20th Percentile value : -0.03812\n",
      " 30th Percentile value : -0.03132\n",
      " 40th Percentile value : -0.02525\n",
      " 50th Percentile value : -0.01924\n",
      " 60th Percentile value : -0.01291\n",
      " 70th Percentile value : -0.00611\n",
      " 80th Percentile value : 0.00095\n",
      " 90th Percentile value : 0.01994\n",
      "100th Percentile value : 88.16294\n",
      "**************************************************\n",
      " 91th Percentile value : 0.02437\n",
      " 92th Percentile value : 0.02910\n",
      " 93th Percentile value : 0.03432\n",
      " 94th Percentile value : 0.04111\n",
      " 95th Percentile value : 0.04891\n",
      " 96th Percentile value : 0.06029\n",
      " 97th Percentile value : 0.07593\n",
      " 98th Percentile value : 0.10326\n",
      " 99th Percentile value : 0.17903\n",
      "100th Percentile value : 88.16294\n",
      "**************************************************\n",
      "99.1th Percentile value : 0.19289\n",
      "99.2th Percentile value : 0.20973\n",
      "99.3th Percentile value : 0.23366\n",
      "99.4th Percentile value : 0.27577\n",
      "99.5th Percentile value : 0.32267\n",
      "99.6th Percentile value : 0.37441\n",
      "99.7th Percentile value : 0.46216\n",
      "99.8th Percentile value : 0.61178\n",
      "99.9th Percentile value : 0.99327\n",
      "100.0th Percentile value : 88.16294\n"
     ]
    }
   ],
   "source": [
    "# Printing Percentiles :\n",
    "for i in range(10, 101, 10):\n",
    "    print(\"{:3d}th Percentile value : {:.5f}\".format(i, np.percentile(percentage_change, i)))\n",
    "    \n",
    "print(\"*\"*50)\n",
    "# Printing close percentiles :\n",
    "for i in range(91, 101, 1):\n",
    "    print(\"{:3d}th Percentile value : {:.5f}\".format(i, np.percentile(percentage_change, i)))\n",
    "    \n",
    "print(\"*\"*50)\n",
    "# Lookign at 99.1, 99.2 percentiles :\n",
    "for i in range(1, 11, 1):\n",
    "    print(\"{:.1f}th Percentile value : {:.5f}\".format(i*1.0/10 + 99, np.percentile(percentage_change, i*1.0/10 + 99)))"
   ]
  },
  {
   "cell_type": "code",
   "execution_count": 56,
   "metadata": {},
   "outputs": [
    {
     "data": {
      "text/html": [
       "<div>\n",
       "<style scoped>\n",
       "    .dataframe tbody tr th:only-of-type {\n",
       "        vertical-align: middle;\n",
       "    }\n",
       "\n",
       "    .dataframe tbody tr th {\n",
       "        vertical-align: top;\n",
       "    }\n",
       "\n",
       "    .dataframe thead th {\n",
       "        text-align: right;\n",
       "    }\n",
       "</style>\n",
       "<table border=\"1\" class=\"dataframe\">\n",
       "  <thead>\n",
       "    <tr style=\"text-align: right;\">\n",
       "      <th></th>\n",
       "      <th>%Change</th>\n",
       "    </tr>\n",
       "  </thead>\n",
       "  <tbody>\n",
       "    <tr>\n",
       "      <th>aa</th>\n",
       "      <td>-0.031585</td>\n",
       "    </tr>\n",
       "    <tr>\n",
       "      <th>aaa</th>\n",
       "      <td>-0.008627</td>\n",
       "    </tr>\n",
       "  </tbody>\n",
       "</table>\n",
       "</div>"
      ],
      "text/plain": [
       "      %Change\n",
       "aa  -0.031585\n",
       "aaa -0.008627"
      ]
     },
     "execution_count": 56,
     "metadata": {},
     "output_type": "execute_result"
    }
   ],
   "source": [
    "# Creating dataframe of percentage change..\n",
    "percendf = pd.DataFrame(percentage_change, index = count_vect.get_feature_names(), columns=['%Change'])\n",
    "percendf.head(2)"
   ]
  },
  {
   "cell_type": "code",
   "execution_count": 57,
   "metadata": {},
   "outputs": [
    {
     "data": {
      "text/plain": [
       "(50, 1)"
      ]
     },
     "execution_count": 57,
     "metadata": {},
     "output_type": "execute_result"
    }
   ],
   "source": [
    "# Getting those features/words where the percentage change is more than 335% .\n",
    "percendf = percendf[percendf['%Change'] > 1]\n",
    "percendf.shape"
   ]
  },
  {
   "cell_type": "code",
   "execution_count": 58,
   "metadata": {},
   "outputs": [
    {
     "data": {
      "text/html": [
       "<div>\n",
       "<style scoped>\n",
       "    .dataframe tbody tr th:only-of-type {\n",
       "        vertical-align: middle;\n",
       "    }\n",
       "\n",
       "    .dataframe tbody tr th {\n",
       "        vertical-align: top;\n",
       "    }\n",
       "\n",
       "    .dataframe thead th {\n",
       "        text-align: right;\n",
       "    }\n",
       "</style>\n",
       "<table border=\"1\" class=\"dataframe\">\n",
       "  <thead>\n",
       "    <tr style=\"text-align: right;\">\n",
       "      <th></th>\n",
       "      <th>%Change</th>\n",
       "    </tr>\n",
       "  </thead>\n",
       "  <tbody>\n",
       "    <tr>\n",
       "      <th>brunell</th>\n",
       "      <td>1.055876</td>\n",
       "    </tr>\n",
       "    <tr>\n",
       "      <th>yami</th>\n",
       "      <td>1.043136</td>\n",
       "    </tr>\n",
       "    <tr>\n",
       "      <th>brough</th>\n",
       "      <td>1.039905</td>\n",
       "    </tr>\n",
       "    <tr>\n",
       "      <th>goop</th>\n",
       "      <td>1.031363</td>\n",
       "    </tr>\n",
       "    <tr>\n",
       "      <th>driveway</th>\n",
       "      <td>1.013042</td>\n",
       "    </tr>\n",
       "  </tbody>\n",
       "</table>\n",
       "</div>"
      ],
      "text/plain": [
       "           %Change\n",
       "brunell   1.055876\n",
       "yami      1.043136\n",
       "brough    1.039905\n",
       "goop      1.031363\n",
       "driveway  1.013042"
      ]
     },
     "execution_count": 58,
     "metadata": {},
     "output_type": "execute_result"
    }
   ],
   "source": [
    "percendf.sort_values(by='%Change', ascending=False, inplace=True)\n",
    "percendf.tail(5)"
   ]
  },
  {
   "cell_type": "markdown",
   "metadata": {},
   "source": [
    "#### Conclusions for TFIDF :\n",
    "\n",
    "1. Cv roc_auc score - 0.9534.\n",
    "2. Test roc_auc score - 0.9504."
   ]
  },
  {
   "cell_type": "markdown",
   "metadata": {},
   "source": [
    "## Word2Vec :\n",
    "* We will train W2V on our train dataset."
   ]
  },
  {
   "cell_type": "code",
   "execution_count": 59,
   "metadata": {},
   "outputs": [],
   "source": [
    "# Train your own Word2Vec model using your own text corpus\n",
    "i=0\n",
    "list_of_sent_train=[]\n",
    "for sentance in X_train['CleanedText']:\n",
    "    list_of_sent_train.append(sentance.split())"
   ]
  },
  {
   "cell_type": "code",
   "execution_count": 60,
   "metadata": {},
   "outputs": [],
   "source": [
    "i=0\n",
    "list_of_sent_test=[]\n",
    "for sentance in X_test['CleanedText']:\n",
    "    list_of_sent_test.append(sentance.split())"
   ]
  },
  {
   "cell_type": "code",
   "execution_count": 62,
   "metadata": {},
   "outputs": [],
   "source": [
    "i=0\n",
    "list_of_sent_cv=[]\n",
    "for sentance in X_cv['CleanedText']:\n",
    "    list_of_sent_cv.append(sentance.split())"
   ]
  },
  {
   "cell_type": "code",
   "execution_count": 63,
   "metadata": {},
   "outputs": [
    {
     "name": "stdout",
     "output_type": "stream",
     "text": [
      "178443\n",
      "76476\n",
      "109252\n"
     ]
    }
   ],
   "source": [
    "print(len(list_of_sent_train))\n",
    "print(len(list_of_sent_cv))\n",
    "print(len(list_of_sent_test))"
   ]
  },
  {
   "cell_type": "code",
   "execution_count": 64,
   "metadata": {},
   "outputs": [],
   "source": [
    "def convertByteStringtoString(sentlist):\n",
    "    for x in sentlist:\n",
    "        for i in range(len(x)):\n",
    "            x[i] = x[i].decode(\"utf-8\")\n",
    "            \n",
    "    return sentlist"
   ]
  },
  {
   "cell_type": "code",
   "execution_count": 65,
   "metadata": {},
   "outputs": [],
   "source": [
    "list_of_sent_train = convertByteStringtoString(list_of_sent_train)\n",
    "list_of_sent_cv = convertByteStringtoString(list_of_sent_cv)\n",
    "list_of_sent_test = convertByteStringtoString(list_of_sent_test)"
   ]
  },
  {
   "cell_type": "code",
   "execution_count": 66,
   "metadata": {},
   "outputs": [],
   "source": [
    "# Training word 2 vec on our train set --\n",
    "w2v_model=Word2Vec(list_of_sent_train,min_count=5,size=100, workers=4)"
   ]
  },
  {
   "cell_type": "code",
   "execution_count": 67,
   "metadata": {},
   "outputs": [],
   "source": [
    "w2v_words = list(w2v_model.wv.vocab)"
   ]
  },
  {
   "cell_type": "code",
   "execution_count": 68,
   "metadata": {},
   "outputs": [],
   "source": [
    "list_of_sent_train = np.array(list_of_sent_train)\n",
    "list_of_sent_cv = np.array(list_of_sent_cv)\n",
    "list_of_sent_test = np.array(list_of_sent_test)"
   ]
  },
  {
   "cell_type": "code",
   "execution_count": 69,
   "metadata": {},
   "outputs": [],
   "source": [
    "np.save(\"train_sent.npy\", list_of_sent_train)\n",
    "np.save(\"cv_sent.npy\", list_of_sent_cv)\n",
    "np.save(\"test_sent.npy\", list_of_sent_test)"
   ]
  },
  {
   "cell_type": "markdown",
   "metadata": {},
   "source": [
    "### Average W2V :"
   ]
  },
  {
   "cell_type": "code",
   "execution_count": 70,
   "metadata": {},
   "outputs": [],
   "source": [
    "def avgw2vvectors(list_of_sent):\n",
    "    sent_vectors = []; # the avg-w2v for each sentence/review is stored in this list\n",
    "    for sent in tqdm(list_of_sent): # for each review/sentence\n",
    "        sent_vec = np.zeros(100) # as word vectors are of zero length 200, you might need to change this to 300 if you use google's w2v\n",
    "        cnt_words = 0; # num of words with a valid vector in the sentence/review\n",
    "        for word in sent: # for each word in a review/sentence\n",
    "            if word in w2v_words:\n",
    "                vec = w2v_model.wv[word]\n",
    "                sent_vec += vec\n",
    "                cnt_words += 1\n",
    "        if cnt_words != 0:\n",
    "            sent_vec /= cnt_words\n",
    "        sent_vectors.append(sent_vec)\n",
    "    print(len(sent_vectors))\n",
    "    print(len(sent_vectors[0]))\n",
    "    return sent_vectors"
   ]
  },
  {
   "cell_type": "code",
   "execution_count": 71,
   "metadata": {},
   "outputs": [
    {
     "name": "stdout",
     "output_type": "stream",
     "text": [
      "178443\n",
      "100\n"
     ]
    }
   ],
   "source": [
    "train_avgw2v = avgw2vvectors(list_of_sent_train)"
   ]
  },
  {
   "cell_type": "code",
   "execution_count": 73,
   "metadata": {},
   "outputs": [
    {
     "name": "stdout",
     "output_type": "stream",
     "text": [
      "76476\n",
      "100\n"
     ]
    }
   ],
   "source": [
    "cv_avgw2v = avgw2vvectors(list_of_sent_cv)"
   ]
  },
  {
   "cell_type": "code",
   "execution_count": 74,
   "metadata": {},
   "outputs": [
    {
     "name": "stdout",
     "output_type": "stream",
     "text": [
      "109252\n",
      "100\n"
     ]
    }
   ],
   "source": [
    "test_avgw2v = avgw2vvectors(list_of_sent_test)"
   ]
  },
  {
   "cell_type": "code",
   "execution_count": 75,
   "metadata": {},
   "outputs": [],
   "source": [
    "train_avgw2v = np.array(train_avgw2v)\n",
    "cv_avgw2v = np.array(cv_avgw2v)\n",
    "test_avgw2v = np.array(test_avgw2v)\n",
    "\n",
    "np.save(\"train_avgw2v\", train_avgw2v)\n",
    "np.save(\"cv_avgw2v\", cv_avgw2v)\n",
    "np.save(\"test_avgw2v\", test_avgw2v)"
   ]
  },
  {
   "cell_type": "code",
   "execution_count": 76,
   "metadata": {},
   "outputs": [
    {
     "name": "stdout",
     "output_type": "stream",
     "text": [
      "CV ROC_AUC Score :  0.5  Train ROC_AUC Score :  0.5 C :  1e-05  penalty :  l1\n",
      "CV ROC_AUC Score :  0.730128694570964  Train ROC_AUC Score :  0.7288374254527659 C :  1e-05  penalty :  l2\n",
      "CV ROC_AUC Score :  0.5  Train ROC_AUC Score :  0.5 C :  5e-05  penalty :  l1\n",
      "CV ROC_AUC Score :  0.855322243653259  Train ROC_AUC Score :  0.8499868055499507 C :  5e-05  penalty :  l2\n",
      "CV ROC_AUC Score :  0.6995269112805782  Train ROC_AUC Score :  0.696582085201208 C :  0.0001  penalty :  l1\n",
      "CV ROC_AUC Score :  0.8872931198978931  Train ROC_AUC Score :  0.8816280556814818 C :  0.0001  penalty :  l2\n",
      "CV ROC_AUC Score :  0.9067098440500955  Train ROC_AUC Score :  0.8996497777514741 C :  0.001  penalty :  l1\n",
      "CV ROC_AUC Score :  0.922669972833725  Train ROC_AUC Score :  0.916697574580911 C :  0.001  penalty :  l2\n",
      "CV ROC_AUC Score :  0.9269093810035562  Train ROC_AUC Score :  0.9204214690963264 C :  0.01  penalty :  l1\n",
      "CV ROC_AUC Score :  0.9281365495530337  Train ROC_AUC Score :  0.92189279466163 C :  0.01  penalty :  l2\n",
      "CV ROC_AUC Score :  0.9284503309825368  Train ROC_AUC Score :  0.9221238207928182 C :  0.1  penalty :  l1\n",
      "CV ROC_AUC Score :  0.9284201603418223  Train ROC_AUC Score :  0.92213101420842 C :  0.1  penalty :  l2\n",
      "CV ROC_AUC Score :  0.9284653395804687  Train ROC_AUC Score :  0.922179322470507 C :  1  penalty :  l1\n",
      "CV ROC_AUC Score :  0.9284768286126482  Train ROC_AUC Score :  0.922192700042755 C :  1  penalty :  l2\n",
      "CV ROC_AUC Score :  0.9284740992274665  Train ROC_AUC Score :  0.9221899717306801 C :  10  penalty :  l1\n",
      "CV ROC_AUC Score :  0.9284767814917886  Train ROC_AUC Score :  0.9221961519744588 C :  10  penalty :  l2\n",
      "CV ROC_AUC Score :  0.9284746405132395  Train ROC_AUC Score :  0.9221912348043073 C :  100  penalty :  l1\n",
      "CV ROC_AUC Score :  0.9284757629562823  Train ROC_AUC Score :  0.9221962231886471 C :  100  penalty :  l2\n"
     ]
    }
   ],
   "source": [
    "# Hyperparameter tuning :\n",
    "penalties = ['l1', 'l2']\n",
    "C = [0.00001, 0.00005, 0.0001, 0.001, 0.01, 0.1, 1, 10, 100]\n",
    "cv_scores = []\n",
    "tr_scores = []\n",
    "i = 0\n",
    "for alpha in C:\n",
    "    for p in penalties:\n",
    "        clf = LogisticRegression(penalty=p, C=alpha)\n",
    "        clf.fit(train_avgw2v, y_train)\n",
    "        scores = roc_auc_score(y_true=np.array(y_cv), y_score=clf.predict_proba(cv_avgw2v)[:,1])\n",
    "        cv_scores.append(scores)\n",
    "        scores = roc_auc_score(y_true=np.array(y_train), y_score=clf.predict_proba(train_avgw2v)[:,1])\n",
    "        tr_scores.append(scores)\n",
    "        print(\"CV ROC_AUC Score : \", cv_scores[i], \" Train ROC_AUC Score : \", tr_scores[i], \"C : \", alpha, \" penalty : \", p)\n",
    "        i += 1"
   ]
  },
  {
   "cell_type": "code",
   "execution_count": 77,
   "metadata": {},
   "outputs": [
    {
     "data": {
      "image/png": "[encoded data removed]",
      "text/plain": [
       "<Figure size 1080x216 with 1 Axes>"
      ]
     },
     "metadata": {
      "needs_background": "light"
     },
     "output_type": "display_data"
    }
   ],
   "source": [
    "ticks = ['0.00001+L1', '0.00001+L2', '0.00005+L1', '0.00005+L2', '0.0001+L1', '0.0001+L2', '0.001+L1', '0.001+L2',\n",
    "         '0.01+L1', '0.01+L2', '0.1+L1', '0.1+L2', '1+L1', '1+L2', '10+L1', '10+L2', '100+L1', '100+L2']\n",
    "plt.figure(figsize=(15,3))\n",
    "plt.plot(range(len(C)*len(penalties)), tr_scores)\n",
    "plt.plot(range(len(C)*len(penalties)), cv_scores)\n",
    "plt.xticks(range(len(C)*len(penalties)), ticks, rotation = 45)\n",
    "plt.legend(['train', 'cv'])\n",
    "plt.show()"
   ]
  },
  {
   "cell_type": "code",
   "execution_count": 78,
   "metadata": {},
   "outputs": [
    {
     "data": {
      "text/plain": [
       "LogisticRegression(C=1, class_weight=None, dual=False, fit_intercept=True,\n",
       "          intercept_scaling=1, max_iter=100, multi_class='warn',\n",
       "          n_jobs=None, penalty='l2', random_state=None, solver='warn',\n",
       "          tol=0.0001, verbose=0, warm_start=False)"
      ]
     },
     "execution_count": 78,
     "metadata": {},
     "output_type": "execute_result"
    }
   ],
   "source": [
    "model = LogisticRegression(C=1, penalty='l2')\n",
    "model.fit(train_avgw2v, y_train)"
   ]
  },
  {
   "cell_type": "markdown",
   "metadata": {},
   "source": [
    "##### Test Metrics :"
   ]
  },
  {
   "cell_type": "code",
   "execution_count": 79,
   "metadata": {},
   "outputs": [
    {
     "name": "stdout",
     "output_type": "stream",
     "text": [
      "Confusion Matrix : \n"
     ]
    },
    {
     "data": {
      "image/png": "[encoded data removed]",
      "text/plain": [
       "<Figure size 720x504 with 2 Axes>"
      ]
     },
     "metadata": {
      "needs_background": "light"
     },
     "output_type": "display_data"
    },
    {
     "name": "stdout",
     "output_type": "stream",
     "text": [
      "True Positives : 87452\n",
      "False Positives : 8742\n",
      "True Negatives : 10339\n",
      "False Negatives : 2719\n"
     ]
    }
   ],
   "source": [
    "y_pred = model.predict(test_avgw2v)\n",
    "plot_confusion_matrix(np.array(y_test), y_pred)"
   ]
  },
  {
   "cell_type": "code",
   "execution_count": 80,
   "metadata": {},
   "outputs": [
    {
     "data": {
      "text/plain": [
       "0.9234095198392717"
      ]
     },
     "execution_count": 80,
     "metadata": {},
     "output_type": "execute_result"
    }
   ],
   "source": [
    "# Printing roc_auc score\n",
    "y_pred = model.predict_proba(test_avgw2v)[:,1]\n",
    "roc_auc_score(y_true=y_test, y_score=y_pred)"
   ]
  },
  {
   "cell_type": "markdown",
   "metadata": {},
   "source": [
    "##### Sparsity :"
   ]
  },
  {
   "cell_type": "code",
   "execution_count": 81,
   "metadata": {},
   "outputs": [
    {
     "name": "stdout",
     "output_type": "stream",
     "text": [
      "For c: 0.0001   NonZero coefficients : 1\n",
      "For c: 0.001   NonZero coefficients : 25\n",
      "For c: 0.01   NonZero coefficients : 77\n",
      "For c: 0.1   NonZero coefficients : 97\n",
      "For c: 1.0   NonZero coefficients : 99\n",
      "For c: 10.0   NonZero coefficients : 100\n"
     ]
    }
   ],
   "source": [
    "spc = [] # Counts number of non zero weights for a given C.\n",
    "error = [] # This wll store error for each val of C\n",
    "for c in C_sparse:\n",
    "    m = LogisticRegression(penalty='l1', C=c)\n",
    "    m.fit(train_avgw2v, y_train)\n",
    "    error.append(1- m.score(test_avgw2v, y_test))\n",
    "    spc.append(np.count_nonzero(m.coef_))\n",
    "    print(\"For c:\", c, \"  NonZero coefficients :\", np.count_nonzero(m.coef_))"
   ]
  },
  {
   "cell_type": "code",
   "execution_count": 82,
   "metadata": {},
   "outputs": [
    {
     "data": {
      "image/png": "[encoded data removed]",
      "text/plain": [
       "<Figure size 432x288 with 1 Axes>"
      ]
     },
     "metadata": {
      "needs_background": "light"
     },
     "output_type": "display_data"
    }
   ],
   "source": [
    "# Plotting C vs Sparsity\n",
    "plt.title(\"C vs Sparsity\")\n",
    "plt.xlabel(\"Values of C\")\n",
    "plt.ylabel(\"Number of non zero weights\")\n",
    "plt.xticks(range(len(C_sparse)), C_sparse)\n",
    "plt.plot(range(len(C_sparse)), spc)\n",
    "plt.show()"
   ]
  },
  {
   "cell_type": "code",
   "execution_count": 83,
   "metadata": {},
   "outputs": [
    {
     "data": {
      "image/png": "[encoded data removed]",
      "text/plain": [
       "<Figure size 432x288 with 1 Axes>"
      ]
     },
     "metadata": {
      "needs_background": "light"
     },
     "output_type": "display_data"
    }
   ],
   "source": [
    "# Plotting C vs Error.\n",
    "plt.title(\"C vs Error\")\n",
    "plt.xlabel(\"Values of C\")\n",
    "plt.ylabel(\"Error\")\n",
    "plt.xticks(range(len(C_sparse)), C_sparse)\n",
    "plt.plot(range(len(C_sparse)), error)\n",
    "plt.show()"
   ]
  },
  {
   "cell_type": "markdown",
   "metadata": {},
   "source": [
    "##### Pertubation Test :"
   ]
  },
  {
   "cell_type": "code",
   "execution_count": 84,
   "metadata": {},
   "outputs": [],
   "source": [
    "# Adding noise to matrix\n",
    "epsilon = 0.000001\n",
    "train_avgw2v_2 = np.array(train_avgw2v) + epsilon"
   ]
  },
  {
   "cell_type": "code",
   "execution_count": 85,
   "metadata": {},
   "outputs": [
    {
     "data": {
      "text/plain": [
       "LogisticRegression(C=1, class_weight=None, dual=False, fit_intercept=True,\n",
       "          intercept_scaling=1, max_iter=100, multi_class='warn',\n",
       "          n_jobs=None, penalty='l2', random_state=None, solver='warn',\n",
       "          tol=0.0001, verbose=0, warm_start=False)"
      ]
     },
     "execution_count": 85,
     "metadata": {},
     "output_type": "execute_result"
    }
   ],
   "source": [
    "model_2 = LogisticRegression(C=1, penalty='l2')\n",
    "model_2.fit(train_avgw2v_2, y_train)"
   ]
  },
  {
   "cell_type": "code",
   "execution_count": 86,
   "metadata": {},
   "outputs": [],
   "source": [
    "# Finding percentage change :\n",
    "# Adding a very small value to avoid divison by zero error\n",
    "w = model.coef_ + 0.0000001\n",
    "w_dash = model_2.coef_\n",
    "\n",
    "# Percentage change = (original - changed)/original * 100\n",
    "diff = w - w_dash\n",
    "change = diff*1.0/w\n",
    "percentage_change = change * 100\n",
    "percentage_change = percentage_change[0]"
   ]
  },
  {
   "cell_type": "code",
   "execution_count": 88,
   "metadata": {},
   "outputs": [
    {
     "data": {
      "image/png": "[encoded data removed]",
      "text/plain": [
       "<Figure size 432x288 with 1 Axes>"
      ]
     },
     "metadata": {
      "needs_background": "light"
     },
     "output_type": "display_data"
    }
   ],
   "source": [
    "plt.bar(height=percentage_change, x = [i for i in range(len(percentage_change))])\n",
    "plt.title(\"% change in feature coefficients\")\n",
    "plt.show()"
   ]
  },
  {
   "cell_type": "markdown",
   "metadata": {},
   "source": [
    "### TFIDF W2V :"
   ]
  },
  {
   "cell_type": "code",
   "execution_count": 89,
   "metadata": {},
   "outputs": [
    {
     "name": "stdout",
     "output_type": "stream",
     "text": [
      "60000\n",
      "20000\n",
      "20000\n"
     ]
    }
   ],
   "source": [
    "Everything = np.load('train_sent.npy')\n",
    "list_of_sent_train = Everything[:80000]\n",
    "list_of_sent_cv = list_of_sent_train[60000:80000]\n",
    "list_of_sent_train = list_of_sent_train[:60000]\n",
    "list_of_sent_test = Everything[80000:100000]\n",
    "\n",
    "print(len(list_of_sent_train))\n",
    "print(len(list_of_sent_cv))\n",
    "print(len(list_of_sent_test))"
   ]
  },
  {
   "cell_type": "code",
   "execution_count": 99,
   "metadata": {},
   "outputs": [
    {
     "name": "stdout",
     "output_type": "stream",
     "text": [
      "(60000,)\n",
      "(20000,)\n",
      "(20000,)\n"
     ]
    }
   ],
   "source": [
    "y_tfidf_train = np.array(y_train[:60000])\n",
    "y_tfidf_cv = np.array(y_train[60000:80000])\n",
    "y_tfidf_test = np.array(y_train[80000:100000])\n",
    "\n",
    "np.save(\"y_tfidf_train\", y_tfidf_train)\n",
    "np.save(\"y_tfidf_cv\", y_tfidf_cv)\n",
    "np.save(\"y_tfidf_test\", y_tfidf_test)\n",
    "\n",
    "print(y_tfidf_train.shape)\n",
    "print(y_tfidf_cv.shape)\n",
    "print(y_tfidf_test.shape)"
   ]
  },
  {
   "cell_type": "code",
   "execution_count": 90,
   "metadata": {},
   "outputs": [],
   "source": [
    "# Training word 2 vec on our train set --\n",
    "w2v_model=Word2Vec(list_of_sent_train,min_count=5,size=50, workers=4)"
   ]
  },
  {
   "cell_type": "code",
   "execution_count": 91,
   "metadata": {},
   "outputs": [],
   "source": [
    "w2v_words = list(w2v_model.wv.vocab)"
   ]
  },
  {
   "cell_type": "code",
   "execution_count": 92,
   "metadata": {},
   "outputs": [],
   "source": [
    "# S = [\"abc def pqr\", \"def def def abc\", \"pqr pqr def\"]\n",
    "model = TfidfVectorizer()\n",
    "tf_idf_matrix = model.fit_transform(X_train.loc[:60000, 'CleanedText'])\n",
    "# we are converting a dictionary with word as a key, and the idf as a value\n",
    "dictionary = dict(zip(model.get_feature_names(), list(model.idf_)))"
   ]
  },
  {
   "cell_type": "code",
   "execution_count": 93,
   "metadata": {},
   "outputs": [],
   "source": [
    "def tfidfw2v(list_of_sent):\n",
    "    # TF-IDF weighted Word2Vec\n",
    "    tfidf_feat = model.get_feature_names() # tfidf words/col-names\n",
    "    # final_tf_idf is the sparse matrix with row= sentence, col=word and cell_val = tfidf\n",
    "\n",
    "    tfidf_sent_vectors = []; # the tfidf-w2v for each sentence/review is stored in this list\n",
    "    row=0;\n",
    "    for sent in tqdm(list_of_sent): # for each review/sentence \n",
    "        sent_vec = np.zeros(50) # as word vectors are of zero length\n",
    "        weight_sum =0; # num of words with a valid vector in the sentence/review\n",
    "        for word in sent: # for each word in a review/sentence\n",
    "            if word in w2v_words and word in tfidf_feat:\n",
    "                vec = w2v_model.wv[word]\n",
    "                #tf_idf = tf_idf_matrix[row, tfidf_feat.index(word)]\n",
    "                # to reduce the computation we are \n",
    "                # dictionary[word] = idf value of word in whole courpus\n",
    "                # sent.count(word) = tf valeus of word in this review\n",
    "                tf_idf = dictionary[word]*(sent.count(word)/len(sent))\n",
    "                sent_vec += (vec * tf_idf)\n",
    "                weight_sum += tf_idf\n",
    "        if weight_sum != 0:\n",
    "            sent_vec /= weight_sum\n",
    "        tfidf_sent_vectors.append(sent_vec)\n",
    "    row += 1\n",
    "    \n",
    "    return np.array(tfidf_sent_vectors)"
   ]
  },
  {
   "cell_type": "code",
   "execution_count": 94,
   "metadata": {},
   "outputs": [
    {
     "name": "stderr",
     "output_type": "stream",
     "text": [
      "100%|████████████████████████████████████████████████████████████████████████████| 60000/60000 [43:11<00:00, 27.07it/s]\n"
     ]
    },
    {
     "data": {
      "text/plain": [
       "(60000, 50)"
      ]
     },
     "execution_count": 94,
     "metadata": {},
     "output_type": "execute_result"
    }
   ],
   "source": [
    "train_tfidf = tfidfw2v(list_of_sent_train)\n",
    "train_tfidf.shape"
   ]
  },
  {
   "cell_type": "code",
   "execution_count": 95,
   "metadata": {},
   "outputs": [
    {
     "name": "stderr",
     "output_type": "stream",
     "text": [
      "100%|████████████████████████████████████████████████████████████████████████████| 20000/20000 [13:47<00:00, 24.17it/s]\n"
     ]
    },
    {
     "data": {
      "text/plain": [
       "(20000, 50)"
      ]
     },
     "execution_count": 95,
     "metadata": {},
     "output_type": "execute_result"
    }
   ],
   "source": [
    "cv_tfidf = tfidfw2v(list_of_sent_cv)\n",
    "cv_tfidf.shape"
   ]
  },
  {
   "cell_type": "code",
   "execution_count": 96,
   "metadata": {},
   "outputs": [
    {
     "name": "stderr",
     "output_type": "stream",
     "text": [
      "100%|████████████████████████████████████████████████████████████████████████████| 20000/20000 [13:31<00:00, 24.65it/s]\n"
     ]
    },
    {
     "data": {
      "text/plain": [
       "(20000, 50)"
      ]
     },
     "execution_count": 96,
     "metadata": {},
     "output_type": "execute_result"
    }
   ],
   "source": [
    "test_tfidf = tfidfw2v(list_of_sent_test)\n",
    "test_tfidf.shape"
   ]
  },
  {
   "cell_type": "code",
   "execution_count": 97,
   "metadata": {},
   "outputs": [],
   "source": [
    "np.save(\"train_tfidf\", train_tfidf)\n",
    "np.save(\"cv_tfidf\", cv_tfidf)\n",
    "np.save(\"test_tfidf\", test_tfidf)"
   ]
  },
  {
   "cell_type": "code",
   "execution_count": null,
   "metadata": {},
   "outputs": [],
   "source": []
  },
  {
   "cell_type": "code",
   "execution_count": 100,
   "metadata": {},
   "outputs": [
    {
     "name": "stdout",
     "output_type": "stream",
     "text": [
      "CV ROC_AUC Score :  0.5  Train ROC_AUC Score :  0.5 C :  1e-05  penalty :  l1\n",
      "CV ROC_AUC Score :  0.6370270064534682  Train ROC_AUC Score :  0.6236325467845295 C :  1e-05  penalty :  l2\n",
      "CV ROC_AUC Score :  0.5  Train ROC_AUC Score :  0.5 C :  5e-05  penalty :  l1\n",
      "CV ROC_AUC Score :  0.6978465673131413  Train ROC_AUC Score :  0.6829314018983841 C :  5e-05  penalty :  l2\n",
      "CV ROC_AUC Score :  0.5  Train ROC_AUC Score :  0.5 C :  0.0001  penalty :  l1\n",
      "CV ROC_AUC Score :  0.7456326175030238  Train ROC_AUC Score :  0.7314063784131011 C :  0.0001  penalty :  l2\n",
      "CV ROC_AUC Score :  0.766765336502271  Train ROC_AUC Score :  0.7577576471565224 C :  0.001  penalty :  l1\n",
      "CV ROC_AUC Score :  0.85483864214969  Train ROC_AUC Score :  0.849392342422063 C :  0.001  penalty :  l2\n",
      "CV ROC_AUC Score :  0.8618238448461063  Train ROC_AUC Score :  0.8593654410792292 C :  0.01  penalty :  l1\n",
      "CV ROC_AUC Score :  0.8669470781774662  Train ROC_AUC Score :  0.8638521749011565 C :  0.01  penalty :  l2\n",
      "CV ROC_AUC Score :  0.8675363906251321  Train ROC_AUC Score :  0.8648778591076643 C :  0.1  penalty :  l1\n",
      "CV ROC_AUC Score :  0.8675849185069906  Train ROC_AUC Score :  0.8649190351787326 C :  0.1  penalty :  l2\n",
      "CV ROC_AUC Score :  0.8675956179005506  Train ROC_AUC Score :  0.8648880179036205 C :  1  penalty :  l1\n",
      "CV ROC_AUC Score :  0.8675922346931007  Train ROC_AUC Score :  0.8648532089265581 C :  1  penalty :  l2\n",
      "CV ROC_AUC Score :  0.8675833114834519  Train ROC_AUC Score :  0.8648444064671433 C :  10  penalty :  l1\n",
      "CV ROC_AUC Score :  0.8675785327029291  Train ROC_AUC Score :  0.8648261810380741 C :  10  penalty :  l2\n",
      "CV ROC_AUC Score :  0.8675812181238424  Train ROC_AUC Score :  0.8648382590227797 C :  100  penalty :  l1\n",
      "CV ROC_AUC Score :  0.8675784692677893  Train ROC_AUC Score :  0.8648227297930696 C :  100  penalty :  l2\n"
     ]
    }
   ],
   "source": [
    "# Hyperparameter tuning :\n",
    "penalties = ['l1', 'l2']\n",
    "C = [0.00001, 0.00005, 0.0001, 0.001, 0.01, 0.1, 1, 10, 100]\n",
    "cv_scores = []\n",
    "tr_scores = []\n",
    "i = 0\n",
    "for alpha in C:\n",
    "    for p in penalties:\n",
    "        clf = LogisticRegression(penalty=p, C=alpha)\n",
    "        clf.fit(train_tfidf, y_tfidf_train)\n",
    "        scores = roc_auc_score(y_true=np.array(y_tfidf_cv), y_score=clf.predict_proba(cv_tfidf)[:,1])\n",
    "        cv_scores.append(scores)\n",
    "        scores = roc_auc_score(y_true=np.array(y_tfidf_train), y_score=clf.predict_proba(train_tfidf)[:,1])\n",
    "        tr_scores.append(scores)\n",
    "        print(\"CV ROC_AUC Score : \", cv_scores[i], \" Train ROC_AUC Score : \", tr_scores[i], \"C : \", alpha, \" penalty : \", p)\n",
    "        i += 1"
   ]
  },
  {
   "cell_type": "code",
   "execution_count": 101,
   "metadata": {},
   "outputs": [
    {
     "data": {
      "image/png": "[encoded data removed]",
      "text/plain": [
       "<Figure size 1080x216 with 1 Axes>"
      ]
     },
     "metadata": {
      "needs_background": "light"
     },
     "output_type": "display_data"
    }
   ],
   "source": [
    "ticks = ['0.00001+L1', '0.00001+L2', '0.00005+L1', '0.00005+L2', '0.0001+L1', '0.0001+L2', '0.001+L1', '0.001+L2',\n",
    "         '0.01+L1', '0.01+L2', '0.1+L1', '0.1+L2', '1+L1', '1+L2', '10+L1', '10+L2', '100+L1', '100+L2']\n",
    "plt.figure(figsize=(15,3))\n",
    "plt.plot(range(len(C)*len(penalties)), tr_scores)\n",
    "plt.plot(range(len(C)*len(penalties)), cv_scores)\n",
    "plt.xticks(range(len(C)*len(penalties)), ticks, rotation = 45)\n",
    "plt.legend(['train', 'cv'])\n",
    "plt.show()"
   ]
  },
  {
   "cell_type": "code",
   "execution_count": 102,
   "metadata": {},
   "outputs": [
    {
     "data": {
      "text/plain": [
       "LogisticRegression(C=1, class_weight=None, dual=False, fit_intercept=True,\n",
       "          intercept_scaling=1, max_iter=100, multi_class='warn',\n",
       "          n_jobs=None, penalty='l2', random_state=None, solver='warn',\n",
       "          tol=0.0001, verbose=0, warm_start=False)"
      ]
     },
     "execution_count": 102,
     "metadata": {},
     "output_type": "execute_result"
    }
   ],
   "source": [
    "model = LogisticRegression(C=1, penalty='l2')\n",
    "model.fit(train_tfidf, y_tfidf_train)"
   ]
  },
  {
   "cell_type": "markdown",
   "metadata": {},
   "source": [
    "##### Test Metrics :"
   ]
  },
  {
   "cell_type": "code",
   "execution_count": 103,
   "metadata": {},
   "outputs": [
    {
     "name": "stdout",
     "output_type": "stream",
     "text": [
      "Confusion Matrix : \n"
     ]
    },
    {
     "data": {
      "image/png": "[encoded data removed]",
      "text/plain": [
       "<Figure size 720x504 with 2 Axes>"
      ]
     },
     "metadata": {
      "needs_background": "light"
     },
     "output_type": "display_data"
    },
    {
     "name": "stdout",
     "output_type": "stream",
     "text": [
      "True Positives : 16981\n",
      "False Positives : 2016\n",
      "True Negatives : 662\n",
      "False Negatives : 341\n"
     ]
    }
   ],
   "source": [
    "y_pred = model.predict(test_tfidf)\n",
    "plot_confusion_matrix(y_tfidf_test, y_pred)"
   ]
  },
  {
   "cell_type": "code",
   "execution_count": 104,
   "metadata": {},
   "outputs": [
    {
     "data": {
      "text/plain": [
       "0.8665249995278985"
      ]
     },
     "execution_count": 104,
     "metadata": {},
     "output_type": "execute_result"
    }
   ],
   "source": [
    "# Printing roc_auc score\n",
    "y_pred = model.predict_proba(test_tfidf)[:,1]\n",
    "roc_auc_score(y_true=y_tfidf_test, y_score=y_pred)"
   ]
  },
  {
   "cell_type": "markdown",
   "metadata": {},
   "source": [
    "##### Sparsity :"
   ]
  },
  {
   "cell_type": "code",
   "execution_count": 106,
   "metadata": {},
   "outputs": [
    {
     "name": "stdout",
     "output_type": "stream",
     "text": [
      "For c: 0.0001   NonZero coefficients : 0\n",
      "For c: 0.001   NonZero coefficients : 7\n",
      "For c: 0.01   NonZero coefficients : 39\n",
      "For c: 0.1   NonZero coefficients : 47\n",
      "For c: 1.0   NonZero coefficients : 50\n",
      "For c: 10.0   NonZero coefficients : 50\n"
     ]
    }
   ],
   "source": [
    "C_sparse = np.array([0.0001, 0.001, 0.01, 0.1, 1, 10])\n",
    "spc = [] # Counts number of non zero weights for a given C.\n",
    "error = [] # This wll store error for each val of C\n",
    "for c in C_sparse:\n",
    "    m = LogisticRegression(penalty='l1', C=c)\n",
    "    m.fit(train_tfidf, y_tfidf_train)\n",
    "    error.append(1- m.score(test_tfidf, y_tfidf_test))\n",
    "    spc.append(np.count_nonzero(m.coef_))\n",
    "    print(\"For c:\", c, \"  NonZero coefficients :\", np.count_nonzero(m.coef_))"
   ]
  },
  {
   "cell_type": "code",
   "execution_count": 107,
   "metadata": {},
   "outputs": [
    {
     "data": {
      "image/png": "[encoded data removed]",
      "text/plain": [
       "<Figure size 432x288 with 1 Axes>"
      ]
     },
     "metadata": {
      "needs_background": "light"
     },
     "output_type": "display_data"
    }
   ],
   "source": [
    "# Plotting C vs Sparsity\n",
    "plt.title(\"C vs Sparsity\")\n",
    "plt.xlabel(\"Values of C\")\n",
    "plt.ylabel(\"Number of non zero weights\")\n",
    "plt.xticks(range(len(C_sparse)), C_sparse)\n",
    "plt.plot(range(len(C_sparse)), spc)\n",
    "plt.show()"
   ]
  },
  {
   "cell_type": "code",
   "execution_count": 108,
   "metadata": {},
   "outputs": [
    {
     "data": {
      "image/png": "[encoded data removed]",
      "text/plain": [
       "<Figure size 432x288 with 1 Axes>"
      ]
     },
     "metadata": {
      "needs_background": "light"
     },
     "output_type": "display_data"
    }
   ],
   "source": [
    "# Plotting C vs Error.\n",
    "plt.title(\"C vs Error\")\n",
    "plt.xlabel(\"Values of C\")\n",
    "plt.ylabel(\"Error\")\n",
    "plt.xticks(range(len(C_sparse)), C_sparse)\n",
    "plt.plot(range(len(C_sparse)), error)\n",
    "plt.show()"
   ]
  },
  {
   "cell_type": "markdown",
   "metadata": {},
   "source": [
    "##### Pertubation Test :"
   ]
  },
  {
   "cell_type": "code",
   "execution_count": 109,
   "metadata": {},
   "outputs": [],
   "source": [
    "# Adding noise to matrix\n",
    "epsilon = 0.000001\n",
    "train_tfidf_2 = np.array(train_tfidf) + epsilon"
   ]
  },
  {
   "cell_type": "code",
   "execution_count": 110,
   "metadata": {},
   "outputs": [
    {
     "data": {
      "text/plain": [
       "LogisticRegression(C=1, class_weight=None, dual=False, fit_intercept=True,\n",
       "          intercept_scaling=1, max_iter=100, multi_class='warn',\n",
       "          n_jobs=None, penalty='l2', random_state=None, solver='warn',\n",
       "          tol=0.0001, verbose=0, warm_start=False)"
      ]
     },
     "execution_count": 110,
     "metadata": {},
     "output_type": "execute_result"
    }
   ],
   "source": [
    "model_2 = LogisticRegression(C=1, penalty='l2')\n",
    "model_2.fit(train_tfidf_2, y_tfidf_train)"
   ]
  },
  {
   "cell_type": "code",
   "execution_count": 111,
   "metadata": {},
   "outputs": [],
   "source": [
    "# Finding percentage change :\n",
    "# Adding a very small value to avoid divison by zero error\n",
    "w = model.coef_ + 0.0000001\n",
    "w_dash = model_2.coef_\n",
    "\n",
    "# Percentage change = (original - changed)/original * 100\n",
    "diff = w - w_dash\n",
    "change = diff*1.0/w\n",
    "percentage_change = change * 100\n",
    "percentage_change = percentage_change[0]"
   ]
  },
  {
   "cell_type": "code",
   "execution_count": 113,
   "metadata": {},
   "outputs": [
    {
     "data": {
      "image/png": "[encoded data removed]",
      "text/plain": [
       "<Figure size 432x288 with 1 Axes>"
      ]
     },
     "metadata": {
      "needs_background": "light"
     },
     "output_type": "display_data"
    }
   ],
   "source": [
    "plt.bar(height=percentage_change, x = [i for i in range(len(percentage_change))])\n",
    "plt.title(\"% Change in weights\")\n",
    "plt.show()"
   ]
  },
  {
   "cell_type": "markdown",
   "metadata": {},
   "source": [
    "## Conclusions :\n",
    "\n",
    "\n",
    "<table>\n",
    "  <tr>\n",
    "    <th>Featurization</th>\n",
    "    <th>Train ROC_AUC</th>\n",
    "    <th>Test ROC_AUC</th>\n",
    "    <th>CV ROC_AUC</th>\n",
    "    <th>C</th>\n",
    "    <th>Penalty</th>\n",
    "  </tr>\n",
    "  <tr>\n",
    "    <td>BOW</td>\n",
    "    <td>0.9583</td>\n",
    "    <td>0.9401</td>\n",
    "    <td>0.9431</td>\n",
    "    <td>0.1</td>\n",
    "    <td>L2</td>\n",
    "  </tr>\n",
    "  <tr>\n",
    "    <td>TFIDF</td>\n",
    "    <td>0.9605</td>\n",
    "    <td>0.9504</td>\n",
    "    <td>0.9534</td>\n",
    "    <td>1</td>\n",
    "    <td>L2</td>\n",
    "  </tr>\n",
    "  <tr>\n",
    "    <td>AVG-W2V</td>\n",
    "    <td>0.9221</td>\n",
    "    <td>0.9234</td>\n",
    "    <td>0.9284</td>\n",
    "    <td>1</td>\n",
    "    <td>L2</td>\n",
    "  </tr>\n",
    "  <tr>\n",
    "    <td>TFIDF</td>\n",
    "    <td>0.8648</td>\n",
    "    <td>0.8665</td>\n",
    "    <td>0.8675</td>\n",
    "    <td>1</td>\n",
    "    <td>L2</td>\n",
    "  </tr>\n",
    "</table>"
   ]
  },
  {
   "cell_type": "code",
   "execution_count": null,
   "metadata": {},
   "outputs": [],
   "source": []
  }
 ],
 "metadata": {
  "kernelspec": {
   "display_name": "Python 3",
   "language": "python",
   "name": "python3"
  },
  "language_info": {
   "codemirror_mode": {
    "name": "ipython",
    "version": 3
   },
   "file_extension": ".py",
   "mimetype": "text/x-python",
   "name": "python",
   "nbconvert_exporter": "python",
   "pygments_lexer": "ipython3",
   "version": "3.6.7"
  }
 },
 "nbformat": 4,
 "nbformat_minor": 2
}
