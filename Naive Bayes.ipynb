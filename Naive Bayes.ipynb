{
 "cells": [
  {
   "cell_type": "markdown",
   "metadata": {},
   "source": [
    "# Amazon Fine Food Reviews Analysis\n",
    "\n",
    "\n",
    "Data Source: https://www.kaggle.com/snap/amazon-fine-food-reviews\n",
    "\n",
    "The Amazon Fine Food Reviews dataset consists of reviews of fine foods from Amazon.<br>\n",
    "\n",
    "Number of reviews: 568,454<br>\n",
    "Number of users: 256,059<br>\n",
    "Number of products: 74,258<br>\n",
    "Timespan: Oct 1999 - Oct 2012<br>\n",
    "Number of Attributes/Columns in data: 10 \n",
    "\n",
    "Attribute Information:\n",
    "\n",
    "1. Id\n",
    "2. ProductId - unique identifier for the product\n",
    "3. UserId - unqiue identifier for the user\n",
    "4. ProfileName\n",
    "5. HelpfulnessNumerator - number of users who found the review helpful\n",
    "6. HelpfulnessDenominator - number of users who indicated whether they found the review helpful or not\n",
    "7. Score - rating between 1 and 5\n",
    "8. Time - timestamp for the review\n",
    "9. Summary - brief summary of the review\n",
    "10. Text - text of the review"
   ]
  },
  {
   "cell_type": "markdown",
   "metadata": {},
   "source": [
    "## Importing the libraries :"
   ]
  },
  {
   "cell_type": "code",
   "execution_count": 1,
   "metadata": {},
   "outputs": [],
   "source": [
    "%matplotlib inline\n",
    "\n",
    "import sqlite3\n",
    "import pandas as pd\n",
    "import numpy as np\n",
    "import nltk\n",
    "import string\n",
    "import matplotlib.pyplot as plt\n",
    "import seaborn as sns\n",
    "from sklearn.feature_extraction.text import TfidfTransformer\n",
    "from sklearn.feature_extraction.text import TfidfVectorizer\n",
    "\n",
    "from sklearn.feature_extraction.text import CountVectorizer\n",
    "from sklearn.metrics import confusion_matrix\n",
    "from sklearn import metrics\n",
    "from sklearn.metrics import roc_curve, auc\n",
    "from sklearn.metrics import roc_auc_score\n",
    "from nltk.stem.porter import PorterStemmer\n",
    "from sklearn.naive_bayes import MultinomialNB\n",
    "from sklearn.model_selection import cross_val_score\n",
    "from sklearn.metrics import precision_recall_fscore_support"
   ]
  },
  {
   "cell_type": "markdown",
   "metadata": {},
   "source": [
    "## Loading dataset :"
   ]
  },
  {
   "cell_type": "code",
   "execution_count": 2,
   "metadata": {},
   "outputs": [
    {
     "data": {
      "text/html": [
       "<div>\n",
       "<style scoped>\n",
       "    .dataframe tbody tr th:only-of-type {\n",
       "        vertical-align: middle;\n",
       "    }\n",
       "\n",
       "    .dataframe tbody tr th {\n",
       "        vertical-align: top;\n",
       "    }\n",
       "\n",
       "    .dataframe thead th {\n",
       "        text-align: right;\n",
       "    }\n",
       "</style>\n",
       "<table border=\"1\" class=\"dataframe\">\n",
       "  <thead>\n",
       "    <tr style=\"text-align: right;\">\n",
       "      <th></th>\n",
       "      <th>index</th>\n",
       "      <th>Id</th>\n",
       "      <th>ProductId</th>\n",
       "      <th>UserId</th>\n",
       "      <th>ProfileName</th>\n",
       "      <th>HelpfulnessNumerator</th>\n",
       "      <th>HelpfulnessDenominator</th>\n",
       "      <th>Score</th>\n",
       "      <th>Time</th>\n",
       "      <th>Summary</th>\n",
       "      <th>Text</th>\n",
       "      <th>CleanedText</th>\n",
       "    </tr>\n",
       "  </thead>\n",
       "  <tbody>\n",
       "    <tr>\n",
       "      <th>0</th>\n",
       "      <td>138706</td>\n",
       "      <td>150524</td>\n",
       "      <td>0006641040</td>\n",
       "      <td>ACITT7DI6IDDL</td>\n",
       "      <td>shari zychinski</td>\n",
       "      <td>0</td>\n",
       "      <td>0</td>\n",
       "      <td>positive</td>\n",
       "      <td>939340800</td>\n",
       "      <td>EVERY book is educational</td>\n",
       "      <td>this witty little book makes my son laugh at l...</td>\n",
       "      <td>b'witti littl book make son laugh loud recit c...</td>\n",
       "    </tr>\n",
       "    <tr>\n",
       "      <th>1</th>\n",
       "      <td>138688</td>\n",
       "      <td>150506</td>\n",
       "      <td>0006641040</td>\n",
       "      <td>A2IW4PEEKO2R0U</td>\n",
       "      <td>Tracy</td>\n",
       "      <td>1</td>\n",
       "      <td>1</td>\n",
       "      <td>positive</td>\n",
       "      <td>1194739200</td>\n",
       "      <td>Love the book, miss the hard cover version</td>\n",
       "      <td>I grew up reading these Sendak books, and watc...</td>\n",
       "      <td>b'grew read sendak book watch realli rosi movi...</td>\n",
       "    </tr>\n",
       "    <tr>\n",
       "      <th>2</th>\n",
       "      <td>138689</td>\n",
       "      <td>150507</td>\n",
       "      <td>0006641040</td>\n",
       "      <td>A1S4A3IQ2MU7V4</td>\n",
       "      <td>sally sue \"sally sue\"</td>\n",
       "      <td>1</td>\n",
       "      <td>1</td>\n",
       "      <td>positive</td>\n",
       "      <td>1191456000</td>\n",
       "      <td>chicken soup with rice months</td>\n",
       "      <td>This is a fun way for children to learn their ...</td>\n",
       "      <td>b'fun way children learn month year learn poem...</td>\n",
       "    </tr>\n",
       "    <tr>\n",
       "      <th>3</th>\n",
       "      <td>138690</td>\n",
       "      <td>150508</td>\n",
       "      <td>0006641040</td>\n",
       "      <td>AZGXZ2UUK6X</td>\n",
       "      <td>Catherine Hallberg \"(Kate)\"</td>\n",
       "      <td>1</td>\n",
       "      <td>1</td>\n",
       "      <td>positive</td>\n",
       "      <td>1076025600</td>\n",
       "      <td>a good swingy rhythm for reading aloud</td>\n",
       "      <td>This is a great little book to read aloud- it ...</td>\n",
       "      <td>b'great littl book read nice rhythm well good ...</td>\n",
       "    </tr>\n",
       "    <tr>\n",
       "      <th>4</th>\n",
       "      <td>138691</td>\n",
       "      <td>150509</td>\n",
       "      <td>0006641040</td>\n",
       "      <td>A3CMRKGE0P909G</td>\n",
       "      <td>Teresa</td>\n",
       "      <td>3</td>\n",
       "      <td>4</td>\n",
       "      <td>positive</td>\n",
       "      <td>1018396800</td>\n",
       "      <td>A great way to learn the months</td>\n",
       "      <td>This is a book of poetry about the months of t...</td>\n",
       "      <td>b'book poetri month year goe month cute littl ...</td>\n",
       "    </tr>\n",
       "  </tbody>\n",
       "</table>\n",
       "</div>"
      ],
      "text/plain": [
       "    index      Id   ProductId          UserId                  ProfileName  \\\n",
       "0  138706  150524  0006641040   ACITT7DI6IDDL              shari zychinski   \n",
       "1  138688  150506  0006641040  A2IW4PEEKO2R0U                        Tracy   \n",
       "2  138689  150507  0006641040  A1S4A3IQ2MU7V4        sally sue \"sally sue\"   \n",
       "3  138690  150508  0006641040     AZGXZ2UUK6X  Catherine Hallberg \"(Kate)\"   \n",
       "4  138691  150509  0006641040  A3CMRKGE0P909G                       Teresa   \n",
       "\n",
       "   HelpfulnessNumerator  HelpfulnessDenominator     Score        Time  \\\n",
       "0                     0                       0  positive   939340800   \n",
       "1                     1                       1  positive  1194739200   \n",
       "2                     1                       1  positive  1191456000   \n",
       "3                     1                       1  positive  1076025600   \n",
       "4                     3                       4  positive  1018396800   \n",
       "\n",
       "                                      Summary  \\\n",
       "0                   EVERY book is educational   \n",
       "1  Love the book, miss the hard cover version   \n",
       "2               chicken soup with rice months   \n",
       "3      a good swingy rhythm for reading aloud   \n",
       "4             A great way to learn the months   \n",
       "\n",
       "                                                Text  \\\n",
       "0  this witty little book makes my son laugh at l...   \n",
       "1  I grew up reading these Sendak books, and watc...   \n",
       "2  This is a fun way for children to learn their ...   \n",
       "3  This is a great little book to read aloud- it ...   \n",
       "4  This is a book of poetry about the months of t...   \n",
       "\n",
       "                                         CleanedText  \n",
       "0  b'witti littl book make son laugh loud recit c...  \n",
       "1  b'grew read sendak book watch realli rosi movi...  \n",
       "2  b'fun way children learn month year learn poem...  \n",
       "3  b'great littl book read nice rhythm well good ...  \n",
       "4  b'book poetri month year goe month cute littl ...  "
      ]
     },
     "execution_count": 2,
     "metadata": {},
     "output_type": "execute_result"
    }
   ],
   "source": [
    "# using the SQLite Table to read data.\n",
    "con = sqlite3.connect('final.sqlite') \n",
    "\n",
    "\n",
    "\n",
    "#filtering only positive and negative reviews i.e. \n",
    "# not taking into consideration those reviews with Score=3\n",
    "filtered_data = pd.read_sql_query(\"\"\"\n",
    "SELECT *\n",
    "FROM Reviews\n",
    "WHERE Score != 3\n",
    "\"\"\", con) \n",
    "\n",
    "filtered_data.head()"
   ]
  },
  {
   "cell_type": "markdown",
   "metadata": {},
   "source": [
    "## Sorting the DataFrame using Time Column:"
   ]
  },
  {
   "cell_type": "code",
   "execution_count": 3,
   "metadata": {},
   "outputs": [
    {
     "data": {
      "text/html": [
       "<div>\n",
       "<style scoped>\n",
       "    .dataframe tbody tr th:only-of-type {\n",
       "        vertical-align: middle;\n",
       "    }\n",
       "\n",
       "    .dataframe tbody tr th {\n",
       "        vertical-align: top;\n",
       "    }\n",
       "\n",
       "    .dataframe thead th {\n",
       "        text-align: right;\n",
       "    }\n",
       "</style>\n",
       "<table border=\"1\" class=\"dataframe\">\n",
       "  <thead>\n",
       "    <tr style=\"text-align: right;\">\n",
       "      <th></th>\n",
       "      <th>index</th>\n",
       "      <th>Id</th>\n",
       "      <th>ProductId</th>\n",
       "      <th>UserId</th>\n",
       "      <th>ProfileName</th>\n",
       "      <th>HelpfulnessNumerator</th>\n",
       "      <th>HelpfulnessDenominator</th>\n",
       "      <th>Score</th>\n",
       "      <th>Time</th>\n",
       "      <th>Summary</th>\n",
       "      <th>Text</th>\n",
       "      <th>CleanedText</th>\n",
       "    </tr>\n",
       "  </thead>\n",
       "  <tbody>\n",
       "    <tr>\n",
       "      <th>0</th>\n",
       "      <td>138706</td>\n",
       "      <td>150524</td>\n",
       "      <td>0006641040</td>\n",
       "      <td>ACITT7DI6IDDL</td>\n",
       "      <td>shari zychinski</td>\n",
       "      <td>0</td>\n",
       "      <td>0</td>\n",
       "      <td>positive</td>\n",
       "      <td>939340800</td>\n",
       "      <td>EVERY book is educational</td>\n",
       "      <td>this witty little book makes my son laugh at l...</td>\n",
       "      <td>b'witti littl book make son laugh loud recit c...</td>\n",
       "    </tr>\n",
       "    <tr>\n",
       "      <th>30</th>\n",
       "      <td>138683</td>\n",
       "      <td>150501</td>\n",
       "      <td>0006641040</td>\n",
       "      <td>AJ46FKXOVC7NR</td>\n",
       "      <td>Nicholas A Mesiano</td>\n",
       "      <td>2</td>\n",
       "      <td>2</td>\n",
       "      <td>positive</td>\n",
       "      <td>940809600</td>\n",
       "      <td>This whole series is great way to spend time w...</td>\n",
       "      <td>I can remember seeing the show when it aired o...</td>\n",
       "      <td>b'rememb see show air televis year ago child s...</td>\n",
       "    </tr>\n",
       "  </tbody>\n",
       "</table>\n",
       "</div>"
      ],
      "text/plain": [
       "     index      Id   ProductId         UserId         ProfileName  \\\n",
       "0   138706  150524  0006641040  ACITT7DI6IDDL     shari zychinski   \n",
       "30  138683  150501  0006641040  AJ46FKXOVC7NR  Nicholas A Mesiano   \n",
       "\n",
       "    HelpfulnessNumerator  HelpfulnessDenominator     Score       Time  \\\n",
       "0                      0                       0  positive  939340800   \n",
       "30                     2                       2  positive  940809600   \n",
       "\n",
       "                                              Summary  \\\n",
       "0                           EVERY book is educational   \n",
       "30  This whole series is great way to spend time w...   \n",
       "\n",
       "                                                 Text  \\\n",
       "0   this witty little book makes my son laugh at l...   \n",
       "30  I can remember seeing the show when it aired o...   \n",
       "\n",
       "                                          CleanedText  \n",
       "0   b'witti littl book make son laugh loud recit c...  \n",
       "30  b'rememb see show air televis year ago child s...  "
      ]
     },
     "execution_count": 3,
     "metadata": {},
     "output_type": "execute_result"
    }
   ],
   "source": [
    "filtered_data = filtered_data.sort_values(by='Time')\n",
    "filtered_data.head(2)"
   ]
  },
  {
   "cell_type": "markdown",
   "metadata": {},
   "source": [
    "## Preparing the data :\n",
    "\n",
    "> Seperating training data and values to predict."
   ]
  },
  {
   "cell_type": "code",
   "execution_count": 4,
   "metadata": {},
   "outputs": [],
   "source": [
    "# Getting the column names\n",
    "cols = filtered_data.columns\n",
    "cols = cols[cols != 'Score']"
   ]
  },
  {
   "cell_type": "code",
   "execution_count": 5,
   "metadata": {},
   "outputs": [
    {
     "data": {
      "text/plain": [
       "(364171, 11)"
      ]
     },
     "execution_count": 5,
     "metadata": {},
     "output_type": "execute_result"
    }
   ],
   "source": [
    "# Train data excluding the score column\n",
    "X = filtered_data[cols]\n",
    "X.shape"
   ]
  },
  {
   "cell_type": "code",
   "execution_count": 6,
   "metadata": {},
   "outputs": [
    {
     "data": {
      "text/plain": [
       "(364171,)"
      ]
     },
     "execution_count": 6,
     "metadata": {},
     "output_type": "execute_result"
    }
   ],
   "source": [
    "# Score coumn\n",
    "Y = filtered_data['Score']\n",
    "Y.shape"
   ]
  },
  {
   "cell_type": "code",
   "execution_count": 7,
   "metadata": {},
   "outputs": [],
   "source": [
    "# Maping positive as 1 and negative as 0\n",
    "mapping_dict = {'positive': 1, 'negative': 0}\n",
    "labels = ['negative', 'positive']"
   ]
  },
  {
   "cell_type": "code",
   "execution_count": 8,
   "metadata": {},
   "outputs": [],
   "source": [
    "# Mapping is done as some metrics dont work with string so a value of 1 or 0 is given to positive or negative.\n",
    "Y = Y.map(mapping_dict)"
   ]
  },
  {
   "cell_type": "code",
   "execution_count": 9,
   "metadata": {},
   "outputs": [
    {
     "data": {
      "text/plain": [
       "array([1, 0], dtype=int64)"
      ]
     },
     "execution_count": 9,
     "metadata": {},
     "output_type": "execute_result"
    }
   ],
   "source": [
    "Y.unique()"
   ]
  },
  {
   "cell_type": "markdown",
   "metadata": {},
   "source": [
    "## Time Based Splitting :\n",
    "> Splitting the data into 70% train data and 30% test data."
   ]
  },
  {
   "cell_type": "code",
   "execution_count": 10,
   "metadata": {},
   "outputs": [
    {
     "name": "stdout",
     "output_type": "stream",
     "text": [
      "(178443, 11)\n",
      "(76476, 11)\n",
      "(109252, 11)\n"
     ]
    }
   ],
   "source": [
    "X_train = X[:int((0.7) * X.shape[0])]\n",
    "X_cv = X_train[int(0.7 * X_train.shape[0]):]\n",
    "X_train = X_train[:int((0.7) * X_train.shape[0])]\n",
    "X_test = X[int((0.7) * X.shape[0]):]\n",
    "\n",
    "print(X_train.shape)\n",
    "print(X_cv.shape)\n",
    "print(X_test.shape)"
   ]
  },
  {
   "cell_type": "code",
   "execution_count": 11,
   "metadata": {},
   "outputs": [
    {
     "name": "stdout",
     "output_type": "stream",
     "text": [
      "(178443,)\n",
      "(76476,)\n",
      "(109252,)\n"
     ]
    }
   ],
   "source": [
    "y_train = Y[:int((0.7) * X.shape[0])]\n",
    "y_cv = y_train[ int(0.7 * y_train.shape[0]) : ]\n",
    "y_train = y_train[ : int((0.7) * y_train.shape[0]) ]\n",
    "y_test = Y[int((0.7) * X.shape[0]) : ]\n",
    "\n",
    "print(y_train.shape)\n",
    "print(y_cv.shape)\n",
    "print(y_test.shape)"
   ]
  },
  {
   "cell_type": "markdown",
   "metadata": {},
   "source": [
    "## Tasks to do :\n",
    "\n",
    "1. Apply Naive Bayes/ Variation on BoW.\n",
    "2. Hyperparameter tune the model using any metric but accuracy.\n",
    "3. Apply Naive Bayes/ Variation on TFIDF.\n",
    "4. Hyperparameter tune the model using any metric but accuracy.\n",
    "5. Get the feature importance after training the model for both tfidf and bow."
   ]
  },
  {
   "cell_type": "markdown",
   "metadata": {},
   "source": [
    "### Bag of Words :"
   ]
  },
  {
   "cell_type": "code",
   "execution_count": 12,
   "metadata": {},
   "outputs": [],
   "source": [
    "bow_train_data = X_train['CleanedText']"
   ]
  },
  {
   "cell_type": "code",
   "execution_count": 13,
   "metadata": {},
   "outputs": [
    {
     "data": {
      "text/plain": [
       "(178443, 1816552)"
      ]
     },
     "execution_count": 13,
     "metadata": {},
     "output_type": "execute_result"
    }
   ],
   "source": [
    "bow_vectorizer = CountVectorizer(ngram_range=(1,2))\n",
    "bow_train_data = bow_vectorizer.fit_transform(bow_train_data)\n",
    "bow_train_data.shape"
   ]
  },
  {
   "cell_type": "code",
   "execution_count": 14,
   "metadata": {},
   "outputs": [
    {
     "data": {
      "text/plain": [
       "(76476, 1816552)"
      ]
     },
     "execution_count": 14,
     "metadata": {},
     "output_type": "execute_result"
    }
   ],
   "source": [
    "bow_cv_data = X_cv['CleanedText']\n",
    "bow_cv_data = bow_vectorizer.transform(bow_cv_data)\n",
    "bow_cv_data.shape"
   ]
  },
  {
   "cell_type": "code",
   "execution_count": 15,
   "metadata": {},
   "outputs": [
    {
     "data": {
      "text/plain": [
       "(109252, 1816552)"
      ]
     },
     "execution_count": 15,
     "metadata": {},
     "output_type": "execute_result"
    }
   ],
   "source": [
    "bow_test_data = X_test['CleanedText']\n",
    "bow_test_data = bow_vectorizer.transform(bow_test_data)\n",
    "bow_test_data.shape"
   ]
  },
  {
   "cell_type": "markdown",
   "metadata": {},
   "source": [
    "##### Training a Multinomial Naive Bayes classifier\n",
    "\n",
    "> A multinomial naive bayes assumes that the data comes from the multinomial distribution which is good for some text data.\n",
    "\n",
    "src : https://stats.stackexchange.com/questions/33185/difference-between-naive-bayes-multinomial-naive-bayes"
   ]
  },
  {
   "cell_type": "code",
   "execution_count": 16,
   "metadata": {},
   "outputs": [],
   "source": [
    "# Building a Feature importance function .\n",
    "# Returns Top 10 positive and negative most important Features.\n",
    "def feat_imp(feature_names, multinomial_model):\n",
    "    features = pd.DataFrame(data = multinomial_model.feature_log_prob_.T,index=feature_names, columns=labels)\n",
    "    pos_feat = features.sort_values(by='positive', ascending=False)[0:10]\n",
    "    neg_feat = features.sort_values(by='negative', ascending=False)[0:10]\n",
    "    return (pos_feat, neg_feat)"
   ]
  },
  {
   "cell_type": "code",
   "execution_count": 17,
   "metadata": {},
   "outputs": [],
   "source": [
    "# Plots confusion matrix using heatmap and calculates and displays TN,FN,TP,FP\n",
    "def plot_confusion_matrix(y_actual, y_predicted):\n",
    "    cm = confusion_matrix(y_predicted, y_actual)\n",
    "    df = pd.DataFrame(data=cm, index=labels, columns=labels)\n",
    "    print(\"Confusion Matrix : \")\n",
    "    plt.figure(figsize=(10,7))\n",
    "    sns.heatmap(df, annot=True)\n",
    "    plt.show()\n",
    "    \n",
    "    TP = 0\n",
    "    FP = 0\n",
    "    TN = 0\n",
    "    FN = 0\n",
    "\n",
    "    for i in range(len(y_predicted)): \n",
    "        if y_actual[i]== 1 and y_predicted[i]==1:\n",
    "            TP += 1\n",
    "        if y_predicted[i]==1 and y_actual[i]!=y_predicted[i]:\n",
    "            FP += 1\n",
    "        if y_actual[i]==y_predicted[i]==0:\n",
    "            TN += 1\n",
    "        if y_predicted[i]==0 and y_actual[i]!=y_predicted[i]:\n",
    "            FN += 1\n",
    "            \n",
    "    print(\"True Positives :\", TP)\n",
    "    print(\"False Positives :\", FP)\n",
    "    print(\"True Negatives :\", TN)\n",
    "    print(\"False Negatives :\", FN)"
   ]
  },
  {
   "cell_type": "code",
   "execution_count": 22,
   "metadata": {},
   "outputs": [
    {
     "name": "stdout",
     "output_type": "stream",
     "text": [
      "CV ROC_AUC Score :  0.736180177688968  Train ROC_AUC Score :  0.9999442332907528\n",
      "CV ROC_AUC Score :  0.7608692131504997  Train ROC_AUC Score :  0.9999375529825083\n",
      "CV ROC_AUC Score :  0.7717943065056522  Train ROC_AUC Score :  0.9999331024870202\n",
      "CV ROC_AUC Score :  0.8177877072195838  Train ROC_AUC Score :  0.9999068072348835\n",
      "CV ROC_AUC Score :  0.8717987222134981  Train ROC_AUC Score :  0.999817180135486\n",
      "CV ROC_AUC Score :  0.9180832639920684  Train ROC_AUC Score :  0.9991946011798589\n",
      "CV ROC_AUC Score :  0.848393949472348  Train ROC_AUC Score :  0.9811160884031962\n",
      "CV ROC_AUC Score :  0.6105849432133774  Train ROC_AUC Score :  0.6206485723169936\n",
      "CV ROC_AUC Score :  0.5648668569963572  Train ROC_AUC Score :  0.5506580931844386\n",
      "CV ROC_AUC Score :  0.5551723230802406  Train ROC_AUC Score :  0.5414968997803039\n",
      "CV ROC_AUC Score :  0.5487663527551916  Train ROC_AUC Score :  0.5370901365860483\n",
      "CV ROC_AUC Score :  0.5441031879021982  Train ROC_AUC Score :  0.5348636960694886\n"
     ]
    }
   ],
   "source": [
    "# Hyperparameter tuning :\n",
    "alpha_range = [0.00001, 0.00005, 0.0001, 0.001, 0.01, 0.1, 1, 10, 100, 250, 500, 1000]\n",
    "cv_scores = []\n",
    "tr_scores = []\n",
    "i = 0\n",
    "for alpha in alpha_range:\n",
    "    clf = MultinomialNB(alpha=alpha)\n",
    "    clf.fit(bow_train_data, y_train)\n",
    "    scores = roc_auc_score(y_true=np.array(y_cv), y_score=clf.predict_proba(bow_cv_data)[:,1])\n",
    "    cv_scores.append(scores)\n",
    "    scores = roc_auc_score(y_true=np.array(y_train), y_score=clf.predict_proba(bow_train_data)[:,1])\n",
    "    tr_scores.append(scores)\n",
    "    print(\"CV ROC_AUC Score : \", cv_scores[i], \" Train ROC_AUC Score : \", tr_scores[i])\n",
    "    i += 1"
   ]
  },
  {
   "cell_type": "code",
   "execution_count": 26,
   "metadata": {},
   "outputs": [
    {
     "data": {
      "image/png": "[encoded data removed]",
      "text/plain": [
       "<Figure size 1080x216 with 1 Axes>"
      ]
     },
     "metadata": {
      "needs_background": "light"
     },
     "output_type": "display_data"
    }
   ],
   "source": [
    "plt.figure(figsize=(15,3))\n",
    "plt.plot(range(len(alpha_range)), tr_scores)\n",
    "plt.plot(range(len(alpha_range)), cv_scores)\n",
    "plt.xticks(range(len(alpha_range)), alpha_range)\n",
    "plt.show()"
   ]
  },
  {
   "cell_type": "code",
   "execution_count": 27,
   "metadata": {},
   "outputs": [
    {
     "data": {
      "text/plain": [
       "MultinomialNB(alpha=0.1, class_prior=None, fit_prior=True)"
      ]
     },
     "execution_count": 27,
     "metadata": {},
     "output_type": "execute_result"
    }
   ],
   "source": [
    "# Creating the model with our best alpha.\n",
    "clf = MultinomialNB(alpha = 0.1)\n",
    "clf.fit(bow_train_data, y_train)"
   ]
  },
  {
   "cell_type": "code",
   "execution_count": 28,
   "metadata": {},
   "outputs": [],
   "source": [
    "# Feature importance :\n",
    "pos, neg = feat_imp(bow_vectorizer.get_feature_names(), clf)"
   ]
  },
  {
   "cell_type": "code",
   "execution_count": 29,
   "metadata": {},
   "outputs": [
    {
     "data": {
      "text/html": [
       "<div>\n",
       "<style scoped>\n",
       "    .dataframe tbody tr th:only-of-type {\n",
       "        vertical-align: middle;\n",
       "    }\n",
       "\n",
       "    .dataframe tbody tr th {\n",
       "        vertical-align: top;\n",
       "    }\n",
       "\n",
       "    .dataframe thead th {\n",
       "        text-align: right;\n",
       "    }\n",
       "</style>\n",
       "<table border=\"1\" class=\"dataframe\">\n",
       "  <thead>\n",
       "    <tr style=\"text-align: right;\">\n",
       "      <th></th>\n",
       "      <th>negative</th>\n",
       "      <th>positive</th>\n",
       "    </tr>\n",
       "  </thead>\n",
       "  <tbody>\n",
       "    <tr>\n",
       "      <th>like</th>\n",
       "      <td>-5.069685</td>\n",
       "      <td>-5.142376</td>\n",
       "    </tr>\n",
       "    <tr>\n",
       "      <th>tast</th>\n",
       "      <td>-4.982898</td>\n",
       "      <td>-5.204391</td>\n",
       "    </tr>\n",
       "    <tr>\n",
       "      <th>good</th>\n",
       "      <td>-5.786438</td>\n",
       "      <td>-5.337161</td>\n",
       "    </tr>\n",
       "    <tr>\n",
       "      <th>flavor</th>\n",
       "      <td>-5.554138</td>\n",
       "      <td>-5.366018</td>\n",
       "    </tr>\n",
       "    <tr>\n",
       "      <th>love</th>\n",
       "      <td>-6.377245</td>\n",
       "      <td>-5.398610</td>\n",
       "    </tr>\n",
       "    <tr>\n",
       "      <th>great</th>\n",
       "      <td>-6.684763</td>\n",
       "      <td>-5.408381</td>\n",
       "    </tr>\n",
       "    <tr>\n",
       "      <th>use</th>\n",
       "      <td>-5.839779</td>\n",
       "      <td>-5.440163</td>\n",
       "    </tr>\n",
       "    <tr>\n",
       "      <th>tea</th>\n",
       "      <td>-5.998398</td>\n",
       "      <td>-5.480738</td>\n",
       "    </tr>\n",
       "    <tr>\n",
       "      <th>one</th>\n",
       "      <td>-5.487800</td>\n",
       "      <td>-5.487625</td>\n",
       "    </tr>\n",
       "    <tr>\n",
       "      <th>product</th>\n",
       "      <td>-5.209301</td>\n",
       "      <td>-5.578743</td>\n",
       "    </tr>\n",
       "  </tbody>\n",
       "</table>\n",
       "</div>"
      ],
      "text/plain": [
       "         negative  positive\n",
       "like    -5.069685 -5.142376\n",
       "tast    -4.982898 -5.204391\n",
       "good    -5.786438 -5.337161\n",
       "flavor  -5.554138 -5.366018\n",
       "love    -6.377245 -5.398610\n",
       "great   -6.684763 -5.408381\n",
       "use     -5.839779 -5.440163\n",
       "tea     -5.998398 -5.480738\n",
       "one     -5.487800 -5.487625\n",
       "product -5.209301 -5.578743"
      ]
     },
     "execution_count": 29,
     "metadata": {},
     "output_type": "execute_result"
    }
   ],
   "source": [
    "# Most important positive features\n",
    "pos"
   ]
  },
  {
   "cell_type": "code",
   "execution_count": 30,
   "metadata": {},
   "outputs": [
    {
     "data": {
      "text/html": [
       "<div>\n",
       "<style scoped>\n",
       "    .dataframe tbody tr th:only-of-type {\n",
       "        vertical-align: middle;\n",
       "    }\n",
       "\n",
       "    .dataframe tbody tr th {\n",
       "        vertical-align: top;\n",
       "    }\n",
       "\n",
       "    .dataframe thead th {\n",
       "        text-align: right;\n",
       "    }\n",
       "</style>\n",
       "<table border=\"1\" class=\"dataframe\">\n",
       "  <thead>\n",
       "    <tr style=\"text-align: right;\">\n",
       "      <th></th>\n",
       "      <th>negative</th>\n",
       "      <th>positive</th>\n",
       "    </tr>\n",
       "  </thead>\n",
       "  <tbody>\n",
       "    <tr>\n",
       "      <th>tast</th>\n",
       "      <td>-4.982898</td>\n",
       "      <td>-5.204391</td>\n",
       "    </tr>\n",
       "    <tr>\n",
       "      <th>like</th>\n",
       "      <td>-5.069685</td>\n",
       "      <td>-5.142376</td>\n",
       "    </tr>\n",
       "    <tr>\n",
       "      <th>product</th>\n",
       "      <td>-5.209301</td>\n",
       "      <td>-5.578743</td>\n",
       "    </tr>\n",
       "    <tr>\n",
       "      <th>one</th>\n",
       "      <td>-5.487800</td>\n",
       "      <td>-5.487625</td>\n",
       "    </tr>\n",
       "    <tr>\n",
       "      <th>flavor</th>\n",
       "      <td>-5.554138</td>\n",
       "      <td>-5.366018</td>\n",
       "    </tr>\n",
       "    <tr>\n",
       "      <th>tri</th>\n",
       "      <td>-5.658582</td>\n",
       "      <td>-5.601457</td>\n",
       "    </tr>\n",
       "    <tr>\n",
       "      <th>would</th>\n",
       "      <td>-5.676105</td>\n",
       "      <td>-6.111865</td>\n",
       "    </tr>\n",
       "    <tr>\n",
       "      <th>good</th>\n",
       "      <td>-5.786438</td>\n",
       "      <td>-5.337161</td>\n",
       "    </tr>\n",
       "    <tr>\n",
       "      <th>use</th>\n",
       "      <td>-5.839779</td>\n",
       "      <td>-5.440163</td>\n",
       "    </tr>\n",
       "    <tr>\n",
       "      <th>coffe</th>\n",
       "      <td>-5.858902</td>\n",
       "      <td>-5.729073</td>\n",
       "    </tr>\n",
       "  </tbody>\n",
       "</table>\n",
       "</div>"
      ],
      "text/plain": [
       "         negative  positive\n",
       "tast    -4.982898 -5.204391\n",
       "like    -5.069685 -5.142376\n",
       "product -5.209301 -5.578743\n",
       "one     -5.487800 -5.487625\n",
       "flavor  -5.554138 -5.366018\n",
       "tri     -5.658582 -5.601457\n",
       "would   -5.676105 -6.111865\n",
       "good    -5.786438 -5.337161\n",
       "use     -5.839779 -5.440163\n",
       "coffe   -5.858902 -5.729073"
      ]
     },
     "execution_count": 30,
     "metadata": {},
     "output_type": "execute_result"
    }
   ],
   "source": [
    "# Most important negative features:\n",
    "neg"
   ]
  },
  {
   "cell_type": "code",
   "execution_count": 31,
   "metadata": {},
   "outputs": [
    {
     "name": "stdout",
     "output_type": "stream",
     "text": [
      "Confusion Matrix : \n"
     ]
    },
    {
     "data": {
      "image/png": "[encoded data removed]",
      "text/plain": [
       "<Figure size 720x504 with 2 Axes>"
      ]
     },
     "metadata": {
      "needs_background": "light"
     },
     "output_type": "display_data"
    },
    {
     "name": "stdout",
     "output_type": "stream",
     "text": [
      "True Positives : 87175\n",
      "False Positives : 6690\n",
      "True Negatives : 12391\n",
      "False Negatives : 2996\n"
     ]
    }
   ],
   "source": [
    "# Plotting the Confusion Matrix :\n",
    "preds = clf.predict(bow_test_data)\n",
    "plot_confusion_matrix(y_actual=np.array(y_test), y_predicted=preds)"
   ]
  },
  {
   "cell_type": "markdown",
   "metadata": {},
   "source": [
    "#### Test Metrics :"
   ]
  },
  {
   "cell_type": "code",
   "execution_count": 32,
   "metadata": {},
   "outputs": [
    {
     "name": "stdout",
     "output_type": "stream",
     "text": [
      "ROC_AUC Score :  0.9138160316238958\n"
     ]
    }
   ],
   "source": [
    "rec = roc_auc_score(y_true=np.array(y_test), y_score=clf.predict_proba(bow_test_data)[:,1])\n",
    "print(\"ROC_AUC Score : \", rec)"
   ]
  },
  {
   "cell_type": "markdown",
   "metadata": {},
   "source": [
    "#### Conclusion for BOW :\n",
    "1. The best value of alpha obtained was 0.1\n",
    "2. There are many samples which are being classified as positives when they are not.\n",
    "3. CV ROC_AUC Score : 0.9180\n",
    "4. Test ROC_AUC score - 0.9138"
   ]
  },
  {
   "cell_type": "markdown",
   "metadata": {},
   "source": [
    "### TFIDF :"
   ]
  },
  {
   "cell_type": "code",
   "execution_count": 33,
   "metadata": {},
   "outputs": [
    {
     "data": {
      "text/plain": [
       "(178443, 1816552)"
      ]
     },
     "execution_count": 33,
     "metadata": {},
     "output_type": "execute_result"
    }
   ],
   "source": [
    "tfidf_vectorizer = TfidfVectorizer(ngram_range=(1,2))\n",
    "tfidf_train_data = tfidf_vectorizer.fit_transform(X_train['CleanedText'])\n",
    "tfidf_train_data.shape"
   ]
  },
  {
   "cell_type": "code",
   "execution_count": 34,
   "metadata": {},
   "outputs": [
    {
     "data": {
      "text/plain": [
       "(76476, 1816552)"
      ]
     },
     "execution_count": 34,
     "metadata": {},
     "output_type": "execute_result"
    }
   ],
   "source": [
    "tfidf_cv_data = tfidf_vectorizer.transform(X_cv['CleanedText'])\n",
    "tfidf_cv_data.shape"
   ]
  },
  {
   "cell_type": "code",
   "execution_count": 35,
   "metadata": {},
   "outputs": [
    {
     "data": {
      "text/plain": [
       "(109252, 1816552)"
      ]
     },
     "execution_count": 35,
     "metadata": {},
     "output_type": "execute_result"
    }
   ],
   "source": [
    "tfidf_test_data = tfidf_vectorizer.transform(X_test['CleanedText'])\n",
    "tfidf_test_data.shape"
   ]
  },
  {
   "cell_type": "code",
   "execution_count": 36,
   "metadata": {},
   "outputs": [
    {
     "name": "stdout",
     "output_type": "stream",
     "text": [
      "CV ROC_AUC Score :  0.835971883190825  Train ROC_AUC Score :  0.999985949153685  For alpha :  1e-05\n",
      "CV ROC_AUC Score :  0.8542553349600026  Train ROC_AUC Score :  0.9999844549600179  For alpha :  5e-05\n",
      "CV ROC_AUC Score :  0.8633888412751396  Train ROC_AUC Score :  0.9999834164849849  For alpha :  0.0001\n",
      "CV ROC_AUC Score :  0.8991470934700477  Train ROC_AUC Score :  0.9999754436261781  For alpha :  0.001\n",
      "CV ROC_AUC Score :  0.9345516607207531  Train ROC_AUC Score :  0.9999251353670857  For alpha :  0.01\n",
      "CV ROC_AUC Score :  0.9372942663242452  Train ROC_AUC Score :  0.997919945203995  For alpha :  0.1\n",
      "CV ROC_AUC Score :  0.8230483416174079  Train ROC_AUC Score :  0.9104222598607614  For alpha :  1\n",
      "CV ROC_AUC Score :  0.7274777342067029  Train ROC_AUC Score :  0.7520149274642798  For alpha :  10\n",
      "CV ROC_AUC Score :  0.6771476890124701  Train ROC_AUC Score :  0.6821620011451972  For alpha :  100\n",
      "CV ROC_AUC Score :  0.6649462365549824  Train ROC_AUC Score :  0.6674797372287226  For alpha :  250\n",
      "CV ROC_AUC Score :  0.6582391041291293  Train ROC_AUC Score :  0.6597754813848277  For alpha :  500\n",
      "CV ROC_AUC Score :  0.6532099600163437  Train ROC_AUC Score :  0.6542632689523507  For alpha :  1000\n"
     ]
    }
   ],
   "source": [
    "# Hyperparameter tuning :\n",
    "alpha_range = [0.00001, 0.00005, 0.0001, 0.001, 0.01, 0.1, 1, 10, 100, 250, 500, 1000]\n",
    "cv_scores = []\n",
    "tr_scores = []\n",
    "i = 0\n",
    "for alpha in alpha_range:\n",
    "    clf = MultinomialNB(alpha=alpha)\n",
    "    clf.fit(tfidf_train_data, y_train)\n",
    "    scores = roc_auc_score(y_true=np.array(y_cv), y_score=clf.predict_proba(tfidf_cv_data)[:,1])\n",
    "    cv_scores.append(scores)\n",
    "    scores = roc_auc_score(y_true=np.array(y_train), y_score=clf.predict_proba(tfidf_train_data)[:,1])\n",
    "    tr_scores.append(scores)\n",
    "    print(\"CV ROC_AUC Score : \", cv_scores[i], \" Train ROC_AUC Score : \", tr_scores[i], \" For alpha : \", alpha)\n",
    "    i += 1"
   ]
  },
  {
   "cell_type": "code",
   "execution_count": 43,
   "metadata": {},
   "outputs": [
    {
     "data": {
      "image/png": "[encoded data removed]",
      "text/plain": [
       "<Figure size 1080x216 with 1 Axes>"
      ]
     },
     "metadata": {
      "needs_background": "light"
     },
     "output_type": "display_data"
    }
   ],
   "source": [
    "plt.figure(figsize=(15,3))\n",
    "plt.plot(range(len(alpha_range)), tr_scores)\n",
    "plt.plot(range(len(alpha_range)), cv_scores)\n",
    "plt.xticks(range(len(alpha_range)), alpha_range)\n",
    "plt.show()"
   ]
  },
  {
   "cell_type": "code",
   "execution_count": 37,
   "metadata": {},
   "outputs": [
    {
     "data": {
      "text/plain": [
       "MultinomialNB(alpha=0.1, class_prior=None, fit_prior=True)"
      ]
     },
     "execution_count": 37,
     "metadata": {},
     "output_type": "execute_result"
    }
   ],
   "source": [
    "# Creating the model with our best alpha.\n",
    "clf = MultinomialNB(alpha = 0.1)\n",
    "clf.fit(tfidf_train_data, y_train)"
   ]
  },
  {
   "cell_type": "code",
   "execution_count": 38,
   "metadata": {},
   "outputs": [],
   "source": [
    "# Feature importance :\n",
    "pos, neg = feat_imp(tfidf_vectorizer.get_feature_names(), clf)"
   ]
  },
  {
   "cell_type": "code",
   "execution_count": 39,
   "metadata": {},
   "outputs": [
    {
     "data": {
      "text/html": [
       "<div>\n",
       "<style scoped>\n",
       "    .dataframe tbody tr th:only-of-type {\n",
       "        vertical-align: middle;\n",
       "    }\n",
       "\n",
       "    .dataframe tbody tr th {\n",
       "        vertical-align: top;\n",
       "    }\n",
       "\n",
       "    .dataframe thead th {\n",
       "        text-align: right;\n",
       "    }\n",
       "</style>\n",
       "<table border=\"1\" class=\"dataframe\">\n",
       "  <thead>\n",
       "    <tr style=\"text-align: right;\">\n",
       "      <th></th>\n",
       "      <th>negative</th>\n",
       "      <th>positive</th>\n",
       "    </tr>\n",
       "  </thead>\n",
       "  <tbody>\n",
       "    <tr>\n",
       "      <th>tea</th>\n",
       "      <td>-7.378621</td>\n",
       "      <td>-6.357042</td>\n",
       "    </tr>\n",
       "    <tr>\n",
       "      <th>great</th>\n",
       "      <td>-8.315337</td>\n",
       "      <td>-6.363863</td>\n",
       "    </tr>\n",
       "    <tr>\n",
       "      <th>love</th>\n",
       "      <td>-8.006603</td>\n",
       "      <td>-6.377128</td>\n",
       "    </tr>\n",
       "    <tr>\n",
       "      <th>tast</th>\n",
       "      <td>-6.664492</td>\n",
       "      <td>-6.417954</td>\n",
       "    </tr>\n",
       "    <tr>\n",
       "      <th>good</th>\n",
       "      <td>-7.445952</td>\n",
       "      <td>-6.430475</td>\n",
       "    </tr>\n",
       "    <tr>\n",
       "      <th>like</th>\n",
       "      <td>-6.805403</td>\n",
       "      <td>-6.430711</td>\n",
       "    </tr>\n",
       "    <tr>\n",
       "      <th>flavor</th>\n",
       "      <td>-7.167359</td>\n",
       "      <td>-6.496687</td>\n",
       "    </tr>\n",
       "    <tr>\n",
       "      <th>coffe</th>\n",
       "      <td>-7.175600</td>\n",
       "      <td>-6.530804</td>\n",
       "    </tr>\n",
       "    <tr>\n",
       "      <th>use</th>\n",
       "      <td>-7.548618</td>\n",
       "      <td>-6.602476</td>\n",
       "    </tr>\n",
       "    <tr>\n",
       "      <th>product</th>\n",
       "      <td>-6.826565</td>\n",
       "      <td>-6.606195</td>\n",
       "    </tr>\n",
       "  </tbody>\n",
       "</table>\n",
       "</div>"
      ],
      "text/plain": [
       "         negative  positive\n",
       "tea     -7.378621 -6.357042\n",
       "great   -8.315337 -6.363863\n",
       "love    -8.006603 -6.377128\n",
       "tast    -6.664492 -6.417954\n",
       "good    -7.445952 -6.430475\n",
       "like    -6.805403 -6.430711\n",
       "flavor  -7.167359 -6.496687\n",
       "coffe   -7.175600 -6.530804\n",
       "use     -7.548618 -6.602476\n",
       "product -6.826565 -6.606195"
      ]
     },
     "execution_count": 39,
     "metadata": {},
     "output_type": "execute_result"
    }
   ],
   "source": [
    "pos"
   ]
  },
  {
   "cell_type": "code",
   "execution_count": 40,
   "metadata": {},
   "outputs": [
    {
     "data": {
      "text/html": [
       "<div>\n",
       "<style scoped>\n",
       "    .dataframe tbody tr th:only-of-type {\n",
       "        vertical-align: middle;\n",
       "    }\n",
       "\n",
       "    .dataframe tbody tr th {\n",
       "        vertical-align: top;\n",
       "    }\n",
       "\n",
       "    .dataframe thead th {\n",
       "        text-align: right;\n",
       "    }\n",
       "</style>\n",
       "<table border=\"1\" class=\"dataframe\">\n",
       "  <thead>\n",
       "    <tr style=\"text-align: right;\">\n",
       "      <th></th>\n",
       "      <th>negative</th>\n",
       "      <th>positive</th>\n",
       "    </tr>\n",
       "  </thead>\n",
       "  <tbody>\n",
       "    <tr>\n",
       "      <th>tast</th>\n",
       "      <td>-6.664492</td>\n",
       "      <td>-6.417954</td>\n",
       "    </tr>\n",
       "    <tr>\n",
       "      <th>like</th>\n",
       "      <td>-6.805403</td>\n",
       "      <td>-6.430711</td>\n",
       "    </tr>\n",
       "    <tr>\n",
       "      <th>product</th>\n",
       "      <td>-6.826565</td>\n",
       "      <td>-6.606195</td>\n",
       "    </tr>\n",
       "    <tr>\n",
       "      <th>would</th>\n",
       "      <td>-7.148533</td>\n",
       "      <td>-7.151804</td>\n",
       "    </tr>\n",
       "    <tr>\n",
       "      <th>flavor</th>\n",
       "      <td>-7.167359</td>\n",
       "      <td>-6.496687</td>\n",
       "    </tr>\n",
       "    <tr>\n",
       "      <th>one</th>\n",
       "      <td>-7.171364</td>\n",
       "      <td>-6.689112</td>\n",
       "    </tr>\n",
       "    <tr>\n",
       "      <th>coffe</th>\n",
       "      <td>-7.175600</td>\n",
       "      <td>-6.530804</td>\n",
       "    </tr>\n",
       "    <tr>\n",
       "      <th>tri</th>\n",
       "      <td>-7.293117</td>\n",
       "      <td>-6.747021</td>\n",
       "    </tr>\n",
       "    <tr>\n",
       "      <th>buy</th>\n",
       "      <td>-7.308018</td>\n",
       "      <td>-6.968220</td>\n",
       "    </tr>\n",
       "    <tr>\n",
       "      <th>order</th>\n",
       "      <td>-7.313068</td>\n",
       "      <td>-7.054089</td>\n",
       "    </tr>\n",
       "  </tbody>\n",
       "</table>\n",
       "</div>"
      ],
      "text/plain": [
       "         negative  positive\n",
       "tast    -6.664492 -6.417954\n",
       "like    -6.805403 -6.430711\n",
       "product -6.826565 -6.606195\n",
       "would   -7.148533 -7.151804\n",
       "flavor  -7.167359 -6.496687\n",
       "one     -7.171364 -6.689112\n",
       "coffe   -7.175600 -6.530804\n",
       "tri     -7.293117 -6.747021\n",
       "buy     -7.308018 -6.968220\n",
       "order   -7.313068 -7.054089"
      ]
     },
     "execution_count": 40,
     "metadata": {},
     "output_type": "execute_result"
    }
   ],
   "source": [
    "neg"
   ]
  },
  {
   "cell_type": "code",
   "execution_count": 41,
   "metadata": {},
   "outputs": [
    {
     "name": "stdout",
     "output_type": "stream",
     "text": [
      "Confusion Matrix : \n"
     ]
    },
    {
     "data": {
      "image/png": "[encoded data removed]",
      "text/plain": [
       "<Figure size 720x504 with 2 Axes>"
      ]
     },
     "metadata": {
      "needs_background": "light"
     },
     "output_type": "display_data"
    },
    {
     "name": "stdout",
     "output_type": "stream",
     "text": [
      "True Positives : 90066\n",
      "False Positives : 15980\n",
      "True Negatives : 3101\n",
      "False Negatives : 105\n"
     ]
    }
   ],
   "source": [
    "# Plotting the Confusion Matrix :\n",
    "preds = clf.predict(tfidf_test_data)\n",
    "plot_confusion_matrix(y_actual=np.array(y_test), y_predicted=preds)"
   ]
  },
  {
   "cell_type": "markdown",
   "metadata": {},
   "source": [
    "#### Test Metrics :"
   ]
  },
  {
   "cell_type": "code",
   "execution_count": 42,
   "metadata": {},
   "outputs": [
    {
     "name": "stdout",
     "output_type": "stream",
     "text": [
      "ROC_AUC Score :  0.9339785395525755\n"
     ]
    }
   ],
   "source": [
    "rec = roc_auc_score(y_true=np.array(y_test), y_score=clf.predict_proba(tfidf_test_data)[:,1])\n",
    "print(\"ROC_AUC Score : \", rec)"
   ]
  },
  {
   "cell_type": "markdown",
   "metadata": {},
   "source": [
    "#### Conclusion for TFIDF :\n",
    "1. The best value of alpha obtained was 0.1\n",
    "2. Number of false negatives is quite low as compared to the bow model.\n",
    "3. CV ROC_AUC Score : 0.9372\n",
    "4. Test ROC_AUC Score : 0.9339"
   ]
  },
  {
   "cell_type": "markdown",
   "metadata": {},
   "source": [
    "## Conclusions :\n",
    "\n",
    "<table>\n",
    "    <tr><th>Multinomial Model with</th><th>Best value of alpha</th><th>Train metric (ROC_AUC)</th><th>CV metric (ROC_AUC)</th><th>Test metric (ROC_AUC)</th></tr>\n",
    "    <tr><td>Bag of Words 2 grams</td> <td>0.1</td> <td>0.9991</td> <td>0.9180</td> <td>0.9138</td></tr>\n",
    "    <tr><td>TFIDF 2 grams</td> <td>0.1</td> <td>0.9979</td> <td>0.9372</td> <td>0.9339</td></tr>\n",
    "</table>"
   ]
  },
  {
   "cell_type": "code",
   "execution_count": null,
   "metadata": {},
   "outputs": [],
   "source": []
  }
 ],
 "metadata": {
  "kernelspec": {
   "display_name": "Python 3",
   "language": "python",
   "name": "python3"
  },
  "language_info": {
   "codemirror_mode": {
    "name": "ipython",
    "version": 3
   },
   "file_extension": ".py",
   "mimetype": "text/x-python",
   "name": "python",
   "nbconvert_exporter": "python",
   "pygments_lexer": "ipython3",
   "version": "3.6.7"
  }
 },
 "nbformat": 4,
 "nbformat_minor": 2
}
